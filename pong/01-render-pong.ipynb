{
 "cells": [
  {
   "cell_type": "code",
   "execution_count": 1,
   "metadata": {},
   "outputs": [],
   "source": [
    "%load_ext autoreload\n",
    "%autoreload 2"
   ]
  },
  {
   "cell_type": "code",
   "execution_count": 2,
   "metadata": {},
   "outputs": [],
   "source": [
    "import cv2\n",
    "from pong import PONG\n",
    "from cv2_renderer import Renderer\n",
    "from time import sleep\n",
    "import math\n",
    "\n",
    "\n",
    "fps = 30\n",
    "t = 0\n",
    "W, H = 1000, 1000\n",
    "pong = PONG()\n",
    "\n",
    "@Renderer(20, 20)\n",
    "def loop(R):\n",
    "    global t\n",
    "    t += 0.1\n",
    "    sleep(1 / fps)\n",
    "\n",
    "    pong.left_plank.render(R)\n",
    "    pong.right_plank.render(R)\n",
    "    pong.ball.render(R)\n",
    "\n",
    "    pong.tick(math.sin(t), math.cos(t))"
   ]
  },
  {
   "cell_type": "code",
   "execution_count": null,
   "metadata": {},
   "outputs": [],
   "source": []
  }
 ],
 "metadata": {
  "kernelspec": {
   "display_name": "Python 3",
   "language": "python",
   "name": "python3"
  },
  "language_info": {
   "codemirror_mode": {
    "name": "ipython",
    "version": 3
   },
   "file_extension": ".py",
   "mimetype": "text/x-python",
   "name": "python",
   "nbconvert_exporter": "python",
   "pygments_lexer": "ipython3",
   "version": "3.7.3"
  }
 },
 "nbformat": 4,
 "nbformat_minor": 2
}
