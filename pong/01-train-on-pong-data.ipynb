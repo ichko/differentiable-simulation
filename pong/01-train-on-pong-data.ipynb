{
 "cells": [
  {
   "cell_type": "code",
   "execution_count": 10,
   "metadata": {},
   "outputs": [],
   "source": [
    "import pong\n",
    "\n",
    "import tensorflow as tf\n",
    "import matplotlib.pyplot as plt\n",
    "import pydot"
   ]
  },
  {
   "cell_type": "code",
   "execution_count": 2,
   "metadata": {},
   "outputs": [],
   "source": [
    "SEQ_LEN = 88\n",
    "W, H = 50, 50\n",
    "\n",
    "def make_batcher(bs):\n",
    "    next_batch = pong.parallel_batch_generator(\n",
    "        bs=16,\n",
    "        W=W,\n",
    "        H=H,\n",
    "        seq_len=SEQ_LEN,\n",
    "        max_iter=1000000000,\n",
    "        num_workers=1,\n",
    "    )\n",
    "\n",
    "    while True:\n",
    "        directions, controls, frames, game_over = next(next_batch)\n",
    "        yield [directions, controls], [frames, game_over]"
   ]
  },
  {
   "cell_type": "code",
   "execution_count": 3,
   "metadata": {},
   "outputs": [
    {
     "data": {
      "text/plain": [
       "((16,), (16, 88, 2), (16, 88, 50, 50), (16, 88))"
      ]
     },
     "execution_count": 3,
     "metadata": {},
     "output_type": "execute_result"
    }
   ],
   "source": [
    "next_batch = make_batcher(bs=16)\n",
    "\n",
    "X, Y = next(next_batch)\n",
    "\n",
    "[directions, controls], [frames, game_over] = X, Y\n",
    "directions.shape, controls.shape, frames.shape, game_over.shape"
   ]
  },
  {
   "cell_type": "code",
   "execution_count": 4,
   "metadata": {},
   "outputs": [],
   "source": [
    "def mk_model():\n",
    "    direction_inp = tf.keras.layers.Input(shape=(1), name='dir_input')\n",
    "    user_input = tf.keras.layers.Input(shape=(SEQ_LEN, 2), name='user_input')\n",
    "\n",
    "    hidden_direction = tf.keras.layers.Dense(\n",
    "        100,\n",
    "        name='hidden_dir_input',\n",
    "    )(direction_inp)\n",
    "\n",
    "    activation_direction = tf.keras.layers.Dense(\n",
    "        100,\n",
    "        name='activation_dir_input',\n",
    "    )(direction_inp)\n",
    "    \n",
    "    transformed_user_input = tf.keras.layers.LSTM(\n",
    "        100,\n",
    "        return_sequences=True,\n",
    "        name='transformed_user_inpuit'\n",
    "    )(user_input)\n",
    "\n",
    "    x = tf.keras.layers.LSTM(\n",
    "        100,\n",
    "        return_sequences=True,\n",
    "        name='x'\n",
    "    )(\n",
    "        transformed_user_input,\n",
    "        initial_state=[activation_direction, hidden_direction]\n",
    "    )\n",
    "\n",
    "    frames = tf.keras.layers.Dense(W * H)(x)\n",
    "    frames = tf.reshape(frames, (-1, SEQ_LEN, W, H), name='frames')\n",
    "    \n",
    "    game_over = tf.keras.layers.Dense(1)(x)\n",
    "    game_over = tf.squeeze(game_over, [-1], name='game_over')\n",
    "\n",
    "    model = tf.keras.Model([direction_inp, user_input], [frames, game_over])\n",
    "    \n",
    "    model.compile(\n",
    "        loss='binary_crossentropy',\n",
    "        optimizer='adam',\n",
    "        metrics=['accuracy']\n",
    "    )\n",
    "\n",
    "    return model"
   ]
  },
  {
   "cell_type": "code",
   "execution_count": 5,
   "metadata": {},
   "outputs": [
    {
     "name": "stderr",
     "output_type": "stream",
     "text": [
      "WARNING: Logging before flag parsing goes to stderr.\n",
      "W1003 19:17:53.880149 139620787255104 deprecation.py:506] From /home/izpc/anaconda3/lib/python3.7/site-packages/tensorflow/python/ops/init_ops.py:1251: calling VarianceScaling.__init__ (from tensorflow.python.ops.init_ops) with dtype is deprecated and will be removed in a future version.\n",
      "Instructions for updating:\n",
      "Call initializer instance with the dtype argument instead of passing it to the constructor\n"
     ]
    },
    {
     "name": "stdout",
     "output_type": "stream",
     "text": [
      "Model: \"model\"\n",
      "__________________________________________________________________________________________________\n",
      "Layer (type)                    Output Shape         Param #     Connected to                     \n",
      "==================================================================================================\n",
      "user_input (InputLayer)         [(None, 88, 2)]      0                                            \n",
      "__________________________________________________________________________________________________\n",
      "dir_input (InputLayer)          [(None, 1)]          0                                            \n",
      "__________________________________________________________________________________________________\n",
      "transformed_user_inpuit (LSTM)  (None, 88, 100)      41200       user_input[0][0]                 \n",
      "__________________________________________________________________________________________________\n",
      "activation_dir_input (Dense)    (None, 100)          200         dir_input[0][0]                  \n",
      "__________________________________________________________________________________________________\n",
      "hidden_dir_input (Dense)        (None, 100)          200         dir_input[0][0]                  \n",
      "__________________________________________________________________________________________________\n",
      "x (LSTM)                        (None, 88, 100)      80400       transformed_user_inpuit[0][0]    \n",
      "                                                                 activation_dir_input[0][0]       \n",
      "                                                                 hidden_dir_input[0][0]           \n",
      "__________________________________________________________________________________________________\n",
      "dense (Dense)                   (None, 88, 2500)     252500      x[0][0]                          \n",
      "__________________________________________________________________________________________________\n",
      "dense_1 (Dense)                 (None, 88, 1)        101         x[0][0]                          \n",
      "__________________________________________________________________________________________________\n",
      "tf_op_layer_frames (TensorFlowO [(None, 88, 50, 50)] 0           dense[0][0]                      \n",
      "__________________________________________________________________________________________________\n",
      "tf_op_layer_game_over (TensorFl [(None, 88)]         0           dense_1[0][0]                    \n",
      "==================================================================================================\n",
      "Total params: 374,601\n",
      "Trainable params: 374,601\n",
      "Non-trainable params: 0\n",
      "__________________________________________________________________________________________________\n"
     ]
    }
   ],
   "source": [
    "model = mk_model()\n",
    "model.summary()"
   ]
  },
  {
   "cell_type": "code",
   "execution_count": 6,
   "metadata": {},
   "outputs": [
    {
     "data": {
      "image/png": "[encoded data removed]",
      "text/plain": [
       "<IPython.core.display.Image object>"
      ]
     },
     "execution_count": 6,
     "metadata": {},
     "output_type": "execute_result"
    }
   ],
   "source": [
    "tf.keras.utils.plot_model(model, to_file='model.png')"
   ]
  },
  {
   "cell_type": "code",
   "execution_count": 7,
   "metadata": {},
   "outputs": [
    {
     "data": {
      "text/plain": [
       "((16, 88, 50, 50), (16, 88))"
      ]
     },
     "execution_count": 7,
     "metadata": {},
     "output_type": "execute_result"
    }
   ],
   "source": [
    "output = model.predict([directions, controls])\n",
    "\n",
    "output[0].shape, output[1].shape"
   ]
  },
  {
   "cell_type": "code",
   "execution_count": 8,
   "metadata": {},
   "outputs": [
    {
     "name": "stdout",
     "output_type": "stream",
     "text": [
      "Epoch 1/5\n"
     ]
    },
    {
     "name": "stderr",
     "output_type": "stream",
     "text": [
      "W1003 19:17:55.660445 139620787255104 deprecation.py:323] From /home/izpc/anaconda3/lib/python3.7/site-packages/tensorflow/python/ops/math_grad.py:1250: add_dispatch_support.<locals>.wrapper (from tensorflow.python.ops.array_ops) is deprecated and will be removed in a future version.\n",
      "Instructions for updating:\n",
      "Use tf.where in 2.0, which has the same broadcast rule as np.where\n"
     ]
    },
    {
     "name": "stdout",
     "output_type": "stream",
     "text": [
      "50/50 [==============================] - 13s 250ms/step - loss: 0.3927 - tf_op_layer_frames_loss: 0.3857 - tf_op_layer_game_over_loss: 0.0070 - tf_op_layer_frames_acc: 0.9128 - tf_op_layer_game_over_acc: 0.9996 - val_loss: 0.2210 - val_tf_op_layer_frames_loss: 0.2136 - val_tf_op_layer_game_over_loss: 0.0074 - val_tf_op_layer_frames_acc: 0.9218 - val_tf_op_layer_game_over_acc: 0.9995\n",
      "Epoch 2/5\n",
      "50/50 [==============================] - 11s 210ms/step - loss: 0.2048 - tf_op_layer_frames_loss: 0.1983 - tf_op_layer_game_over_loss: 0.0066 - tf_op_layer_frames_acc: 0.9254 - tf_op_layer_game_over_acc: 0.9996 - val_loss: 0.1881 - val_tf_op_layer_frames_loss: 0.1833 - val_tf_op_layer_game_over_loss: 0.0048 - val_tf_op_layer_frames_acc: 0.9308 - val_tf_op_layer_game_over_acc: 0.9997\n",
      "Epoch 3/5\n",
      "50/50 [==============================] - 11s 212ms/step - loss: 0.1733 - tf_op_layer_frames_loss: 0.1684 - tf_op_layer_game_over_loss: 0.0048 - tf_op_layer_frames_acc: 0.9376 - tf_op_layer_game_over_acc: 0.9997 - val_loss: 0.1602 - val_tf_op_layer_frames_loss: 0.1536 - val_tf_op_layer_game_over_loss: 0.0066 - val_tf_op_layer_frames_acc: 0.9451 - val_tf_op_layer_game_over_acc: 0.9996\n",
      "Epoch 4/5\n",
      "50/50 [==============================] - 11s 211ms/step - loss: 0.1450 - tf_op_layer_frames_loss: 0.1398 - tf_op_layer_game_over_loss: 0.0053 - tf_op_layer_frames_acc: 0.9523 - tf_op_layer_game_over_acc: 0.9997 - val_loss: 0.1349 - val_tf_op_layer_frames_loss: 0.1270 - val_tf_op_layer_game_over_loss: 0.0079 - val_tf_op_layer_frames_acc: 0.9577 - val_tf_op_layer_game_over_acc: 0.9995\n",
      "Epoch 5/5\n",
      "50/50 [==============================] - 11s 212ms/step - loss: 0.1222 - tf_op_layer_frames_loss: 0.1180 - tf_op_layer_game_over_loss: 0.0042 - tf_op_layer_frames_acc: 0.9619 - tf_op_layer_game_over_acc: 0.9997 - val_loss: 0.1155 - val_tf_op_layer_frames_loss: 0.1090 - val_tf_op_layer_game_over_loss: 0.0066 - val_tf_op_layer_frames_acc: 0.9657 - val_tf_op_layer_game_over_acc: 0.9996\n"
     ]
    },
    {
     "data": {
      "text/plain": [
       "<tensorflow.python.keras.callbacks.History at 0x7efb701cdc88>"
      ]
     },
     "execution_count": 8,
     "metadata": {},
     "output_type": "execute_result"
    }
   ],
   "source": [
    "input_generator = make_batcher(bs=64)\n",
    "\n",
    "model.fit_generator(\n",
    "    generator=input_generator,\n",
    "    validation_data=input_generator,\n",
    "\n",
    "    validation_steps=25,\n",
    "    steps_per_epoch=50,\n",
    "    epochs=5\n",
    ")"
   ]
  },
  {
   "cell_type": "code",
   "execution_count": 9,
   "metadata": {},
   "outputs": [
    {
     "data": {
      "image/png": "[encoded data removed]",
      "text/plain": [
       "<Figure size 432x288 with 1 Axes>"
      ]
     },
     "metadata": {
      "needs_background": "light"
     },
     "output_type": "display_data"
    }
   ],
   "source": [
    "training_loss = model.history.history['loss']\n",
    "test_loss = model.history.history['val_loss']\n",
    "\n",
    "epoch_count = range(1, len(training_loss) + 1)\n",
    "\n",
    "plt.plot(epoch_count, training_loss, 'r')\n",
    "plt.plot(epoch_count, test_loss, 'b')\n",
    "plt.legend(['Validation Loss', 'Test Loss'])\n",
    "plt.xlabel('Epoch')\n",
    "plt.ylabel('Loss')\n",
    "plt.show();"
   ]
  },
  {
   "cell_type": "code",
   "execution_count": null,
   "metadata": {},
   "outputs": [],
   "source": []
  }
 ],
 "metadata": {
  "kernelspec": {
   "display_name": "Python 3",
   "language": "python",
   "name": "python3"
  },
  "language_info": {
   "codemirror_mode": {
    "name": "ipython",
    "version": 3
   },
   "file_extension": ".py",
   "mimetype": "text/x-python",
   "name": "python",
   "nbconvert_exporter": "python",
   "pygments_lexer": "ipython3",
   "version": "3.7.3"
  }
 },
 "nbformat": 4,
 "nbformat_minor": 2
}
