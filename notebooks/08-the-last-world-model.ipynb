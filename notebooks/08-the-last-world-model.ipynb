{
 "cells": [
  {
   "cell_type": "code",
   "execution_count": 1,
   "metadata": {},
   "outputs": [
    {
     "data": {
      "text/html": [
       "<style>.container { width: 90% !important; }</style>"
      ],
      "text/plain": [
       "<IPython.core.display.HTML object>"
      ]
     },
     "execution_count": 1,
     "metadata": {},
     "output_type": "execute_result"
    }
   ],
   "source": [
    "%load_ext autoreload\n",
    "%autoreload 2\n",
    "\n",
    "from IPython.core.display import HTML\n",
    "HTML(\"<style>.container { width: 90% !important; }</style>\")"
   ]
  },
  {
   "cell_type": "code",
   "execution_count": 2,
   "metadata": {},
   "outputs": [
    {
     "data": {
      "text/plain": [
       "{'torch_version': '1.3.1', 'torch_device': 'cuda', 'gym_version': '0.17.1'}"
      ]
     },
     "execution_count": 2,
     "metadata": {},
     "output_type": "execute_result"
    }
   ],
   "source": [
    "import utils\n",
    "\n",
    "import sneks\n",
    "import gym\n",
    "\n",
    "from tqdm.notebook import trange\n",
    "import numpy as np\n",
    "import torch\n",
    "import torch.nn as nn\n",
    "\n",
    "utils.info"
   ]
  },
  {
   "cell_type": "code",
   "execution_count": 3,
   "metadata": {},
   "outputs": [
    {
     "data": {
      "text/plain": [
       "':1061'"
      ]
     },
     "execution_count": 3,
     "metadata": {},
     "output_type": "execute_result"
    }
   ],
   "source": [
    "utils.use_virtual_display()"
   ]
  },
  {
   "cell_type": "code",
   "execution_count": 4,
   "metadata": {},
   "outputs": [
    {
     "data": {
      "text/plain": [
       "(4, 2, (-inf, inf))"
      ]
     },
     "execution_count": 4,
     "metadata": {},
     "output_type": "execute_result"
    }
   ],
   "source": [
    "# env = gym.make('snek-rgb-16-v1')\n",
    "env = gym.make('CartPole-v1')\n",
    "\n",
    "observation = env.reset()\n",
    "action = env.action_space.sample()\n",
    "observation, reward, done, info = env.step(action)\n",
    "\n",
    "num_actions = env.action_space.n\n",
    "obs_size = np.prod(env.observation_space.shape)\n",
    "\n",
    "obs_size, num_actions, env.reward_range, # env.unwrapped.unwrapped.get_action_meanings()"
   ]
  },
  {
   "cell_type": "code",
   "execution_count": 5,
   "metadata": {},
   "outputs": [],
   "source": [
    "dqn = utils.DQNAgent(obs_size, num_actions)\n",
    "\n",
    "dqn_persist, dqn_load_if_exists = utils.model_persistor(dqn, './.models/dqn2.pkl')\n",
    "dqn_load_if_exists()"
   ]
  },
  {
   "cell_type": "code",
   "execution_count": 6,
   "metadata": {},
   "outputs": [
    {
     "data": {
      "image/jpeg": "[encoded data removed]",
      "text/plain": [
       "<IPython.core.display.Image object>"
      ]
     },
     "metadata": {},
     "output_type": "display_data"
    }
   ],
   "source": [
    "frames_generator = utils.play_env(env, dqn, duration=100)\n",
    "utils.i_python_display_frames(frames_generator, fps=60)"
   ]
  },
  {
   "cell_type": "code",
   "execution_count": 7,
   "metadata": {},
   "outputs": [
    {
     "data": {
      "text/plain": [
       "[(100, 4), (100,), (100,), (100, 4), (100,)]"
      ]
     },
     "execution_count": 7,
     "metadata": {},
     "output_type": "execute_result"
    }
   ],
   "source": [
    "generator = utils.ExperienceGenerator()(env, dqn, bs=100)\n",
    "batch = next(generator)\n",
    "[t.shape for t in batch]"
   ]
  },
  {
   "cell_type": "code",
   "execution_count": 8,
   "metadata": {
    "scrolled": false
   },
   "outputs": [],
   "source": [
    "# %matplotlib notebook\n",
    "# its = 10_000\n",
    "\n",
    "# generator = utils.ExperienceGenerator()\n",
    "# next_batch = generator(env, dqn, bs=128)\n",
    "# optimize = dqn.optimizer(next_batch, lr=0.001)\n",
    "# plotter = utils.Plotter()\n",
    "\n",
    "# tr = trange(its, bar_format=\"{bar}{l_bar}{r_bar}\")\n",
    "# for i in tr:\n",
    "#     info = next(optimize)\n",
    "#     plotter.log(**info)\n",
    "#     plotter.log(episode_rewards=generator.episode_rewards[:-1])\n",
    "#     plotter.log(randomness_list=generator.randomness_list)\n",
    "\n",
    "#     tr.set_description(' | '.join([\n",
    "#         'LOSS: %.6f' % info['loss'],\n",
    "#         'EP REWARD: %.2f' % np.mean(generator.episode_rewards[-5:-1]),\n",
    "#     ]))\n",
    "\n",
    "#     if i % 200 == 0: plotter.plot()"
   ]
  },
  {
   "cell_type": "code",
   "execution_count": 9,
   "metadata": {},
   "outputs": [],
   "source": [
    "# dqn_persist()"
   ]
  },
  {
   "cell_type": "code",
   "execution_count": 10,
   "metadata": {},
   "outputs": [],
   "source": [
    "# frames_generator = utils.play_env(env, dqn, duration=100)\n",
    "# utils.i_python_display_frames(frames_generator, fps=60)"
   ]
  },
  {
   "cell_type": "code",
   "execution_count": 11,
   "metadata": {},
   "outputs": [],
   "source": [
    "def render_rollout():\n",
    "    gen = utils.rollout_generator(env, agent=dqn, bs=16, max_seq_len=20, buffer_size=50)\n",
    "    for ep_id, actions, observations, renders_batch in gen:\n",
    "        for renders in renders_batch:\n",
    "            for r in renders:\n",
    "                yield r"
   ]
  },
  {
   "cell_type": "code",
   "execution_count": 12,
   "metadata": {
    "scrolled": false
   },
   "outputs": [],
   "source": [
    "# utils.i_python_display_frames(render_rollout(), fps=30)"
   ]
  },
  {
   "cell_type": "code",
   "execution_count": 13,
   "metadata": {},
   "outputs": [
    {
     "data": {
      "text/plain": [
       "[(16,), (16, 20), (16, 20, 4), (16, 20, 400, 600, 3)]"
      ]
     },
     "execution_count": 13,
     "metadata": {},
     "output_type": "execute_result"
    }
   ],
   "source": [
    "g = utils.rollout_generator(env, agent=dqn, bs=16, max_seq_len=20, buffer_size=50)\n",
    "batch = next(g)\n",
    "[b.shape for b in batch]"
   ]
  },
  {
   "cell_type": "code",
   "execution_count": null,
   "metadata": {},
   "outputs": [],
   "source": [
    "np.random.permutation(10)"
   ]
  },
  {
   "cell_type": "code",
   "execution_count": null,
   "metadata": {},
   "outputs": [],
   "source": [
    "np.array()"
   ]
  },
  {
   "cell_type": "code",
   "execution_count": null,
   "metadata": {},
   "outputs": [],
   "source": [
    "a = [1,2,3,4]\n",
    "a"
   ]
  },
  {
   "cell_type": "code",
   "execution_count": null,
   "metadata": {},
   "outputs": [],
   "source": [
    "batch = [\n",
    "    [1,2],\n",
    "    [3,4],\n",
    "    [5,6,7],\n",
    "]\n",
    "batch = [np.array(t) for t in batch]\n",
    "batch"
   ]
  },
  {
   "cell_type": "code",
   "execution_count": null,
   "metadata": {},
   "outputs": [],
   "source": [
    "max_shape = np.array([el.shape for el in batch]).max(axis=0)\n",
    "max_shape = (len(batch), *max_shape)\n",
    "max_shape"
   ]
  },
  {
   "cell_type": "code",
   "execution_count": null,
   "metadata": {},
   "outputs": [],
   "source": [
    "padded = np.zeros(max_shape)\n",
    "padded"
   ]
  },
  {
   "cell_type": "code",
   "execution_count": null,
   "metadata": {},
   "outputs": [],
   "source": [
    "for el in padded:\n",
    "    el[]"
   ]
  },
  {
   "cell_type": "code",
   "execution_count": null,
   "metadata": {},
   "outputs": [],
   "source": [
    "env.action_space.shape"
   ]
  },
  {
   "cell_type": "code",
   "execution_count": null,
   "metadata": {},
   "outputs": [],
   "source": [
    "padded[...]"
   ]
  },
  {
   "cell_type": "code",
   "execution_count": null,
   "metadata": {},
   "outputs": [],
   "source": []
  },
  {
   "cell_type": "code",
   "execution_count": null,
   "metadata": {},
   "outputs": [],
   "source": []
  },
  {
   "cell_type": "code",
   "execution_count": null,
   "metadata": {},
   "outputs": [],
   "source": []
  }
 ],
 "metadata": {
  "kernelspec": {
   "display_name": "Python 3.7.5 64-bit ('base': conda)",
   "language": "python",
   "name": "python37564bitbaseconda450f1bc47f8a4f9f9c4b21d2d568ed8a"
  },
  "language_info": {
   "codemirror_mode": {
    "name": "ipython",
    "version": 3
   },
   "file_extension": ".py",
   "mimetype": "text/x-python",
   "name": "python",
   "nbconvert_exporter": "python",
   "pygments_lexer": "ipython3",
   "version": "3.7.5"
  }
 },
 "nbformat": 4,
 "nbformat_minor": 4
}
