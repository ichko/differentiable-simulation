{
 "cells": [
  {
   "cell_type": "code",
   "execution_count": 22,
   "metadata": {},
   "outputs": [
    {
     "data": {
      "text/plain": [
       "'1.3.1'"
      ]
     },
     "execution_count": 22,
     "metadata": {},
     "output_type": "execute_result"
    }
   ],
   "source": [
    "import torch\n",
    "import torch.nn as nn\n",
    "\n",
    "import numpy as np\n",
    "import cv2\n",
    "import matplotlib.pyplot as plt\n",
    "from argparse import Namespace\n",
    "\n",
    "import wandb\n",
    "from tqdm import tqdm, trange\n",
    "\n",
    "import gym\n",
    "import sneks\n",
    "\n",
    "torch.__version__"
   ]
  },
  {
   "cell_type": "code",
   "execution_count": 33,
   "metadata": {},
   "outputs": [],
   "source": [
    "def generate_data(env, agent, dataset_size, frame_size, precondition_size):\n",
    "    total_step = 0\n",
    "    \n",
    "    actions = np.zeros((dataset_size, 1), dtype=np.uint8)\n",
    "    preconditions = np.zeros(\n",
    "        (dataset_size, precondition_size, 3, *frame_size[::-1]), dtype=np.uint8\n",
    "    )\n",
    "    futures = np.zeros((dataset_size, 3, *frame_size[::-1]), dtype=np.uint8)\n",
    "    \n",
    "    while True:\n",
    "        env.reset()\n",
    "        done = False\n",
    "\n",
    "        frames_queue = np.zeros(\n",
    "            (precondition_size + 1, 3, *frame_size[::-1]),\n",
    "            dtype=np.uint8\n",
    "        )\n",
    "\n",
    "        episode_step = 0\n",
    "\n",
    "        while not done:\n",
    "            action = agent(env)\n",
    "            _,  _, done, _ = env.step(action)\n",
    "            frame = env.render('rgb_array')\n",
    "            frame = cv2.resize(frame, frame_size)\n",
    "            frame = np.transpose(frame, (2, 0, 1))\n",
    "            frame = frame.astype(np.uint8)\n",
    "\n",
    "            frames_queue = np.roll(frames_queue, shift=-1, axis=0)\n",
    "            frames_queue[-1] = frame\n",
    "            \n",
    "            episode_step += 1\n",
    "            if episode_step >= precondition_size + 1:\n",
    "                precondition = frames_queue[:precondition_size]\n",
    "                future = frames_queue[-1]\n",
    "                last_action = action\n",
    "\n",
    "                actions[total_step] = last_action\n",
    "                preconditions[total_step] = precondition\n",
    "                futures[total_step] = future\n",
    "\n",
    "                total_step += 1\n",
    "                if total_step >= dataset_size:\n",
    "                    return (actions, preconditions), futures"
   ]
  },
  {
   "cell_type": "code",
   "execution_count": 66,
   "metadata": {},
   "outputs": [],
   "source": [
    "hparams = Namespace(\n",
    "    env_name='CubeCrash-v0',\n",
    "    preconditiion_size=2,\n",
    "    dataset_size=16,\n",
    "    frame_size=(32, 32),\n",
    ")"
   ]
  },
  {
   "cell_type": "code",
   "execution_count": 67,
   "metadata": {},
   "outputs": [],
   "source": [
    "env = gym.make(hparams.env_name)"
   ]
  },
  {
   "cell_type": "code",
   "execution_count": 68,
   "metadata": {},
   "outputs": [
    {
     "data": {
      "text/plain": [
       "((16, 1), (16, 2, 3, 32, 32), (16, 3, 32, 32))"
      ]
     },
     "execution_count": 68,
     "metadata": {},
     "output_type": "execute_result"
    }
   ],
   "source": [
    "(actions, preconditions), futures = generate_data(\n",
    "    env,\n",
    "    lambda _: env.action_space.sample(),\n",
    "    dataset_size=hparams.dataset_size,\n",
    "    frame_size=hparams.frame_size,\n",
    "    precondition_size=hparams.preconditiion_size,\n",
    ")\n",
    "actions.shape, preconditions.shape, futures.shape"
   ]
  },
  {
   "cell_type": "code",
   "execution_count": 69,
   "metadata": {},
   "outputs": [
    {
     "data": {
      "text/plain": [
       "1"
      ]
     },
     "execution_count": 69,
     "metadata": {},
     "output_type": "execute_result"
    },
    {
     "data": {
      "image/png": "[encoded data removed]",
      "text/plain": [
       "<Figure size 432x288 with 1 Axes>"
      ]
     },
     "metadata": {
      "needs_background": "light"
     },
     "output_type": "display_data"
    }
   ],
   "source": [
    "idx = 4\n",
    "t1 = np.transpose(preconditions[idx, 1], (1, 2, 0))\n",
    "t2 = np.transpose(futures[idx], (1, 2, 0))\n",
    "plt.imshow(abs(t1 - t2))\n",
    "actions[idx, 0]"
   ]
  },
  {
   "cell_type": "code",
   "execution_count": 70,
   "metadata": {},
   "outputs": [],
   "source": [
    "def nn_dense(i, o, a=None):\n",
    "    l = nn.Linear(i, o)\n",
    "    return l if a is None else nn.Sequential(l, a)\n",
    "\n",
    "def nn_conv()\n",
    "\n",
    "def nn_lambda(lam):\n",
    "    class Lambda(nn.Module):\n",
    "        def forward(self, *args, **kwargs):\n",
    "            return lam(*args, **kwargs)\n",
    "        \n",
    "    return Lambda()"
   ]
  },
  {
   "cell_type": "code",
   "execution_count": null,
   "metadata": {},
   "outputs": [],
   "source": [
    "class Model(nn.Module):\n",
    "    def __init__(self):\n",
    "        self.action_encoder = nn.Sequential(\n",
    "            nn_dense(1 , 32, nn.LeakyReLU(0.2)),\n",
    "            nn_dense(32, 32, nn.LeakyReLU(0.2)),\n",
    "            nn_dense(32, 64, nn.LeakyReLU(0.2)),\n",
    "            nn_lambda(lambda x: x.reshape(-1, 8, 8))\n",
    "            nn_lambda(lambda x: x.reshape(-1, 8, 8))\n",
    "        )"
   ]
  }
 ],
 "metadata": {
  "kernelspec": {
   "display_name": "Python 3",
   "language": "python",
   "name": "python3"
  },
  "language_info": {
   "codemirror_mode": {
    "name": "ipython",
    "version": 3
   },
   "file_extension": ".py",
   "mimetype": "text/x-python",
   "name": "python",
   "nbconvert_exporter": "python",
   "pygments_lexer": "ipython3",
   "version": "3.7.5"
  }
 },
 "nbformat": 4,
 "nbformat_minor": 4
}
