{
 "cells": [
  {
   "cell_type": "code",
   "execution_count": 1,
   "metadata": {},
   "outputs": [],
   "source": [
    "%load_ext autoreload\n",
    "%autoreload 2\n",
    "%load_ext tensorboard"
   ]
  },
  {
   "cell_type": "code",
   "execution_count": 2,
   "metadata": {},
   "outputs": [
    {
     "data": {
      "text/html": [
       "<style>.container { width: 90% !important; }</style>"
      ],
      "text/plain": [
       "<IPython.core.display.HTML object>"
      ]
     },
     "metadata": {},
     "output_type": "display_data"
    }
   ],
   "source": [
    "from IPython.core.display import display, HTML\n",
    "display(HTML(\"<style>.container { width: 90% !important; }</style>\"))"
   ]
  },
  {
   "cell_type": "code",
   "execution_count": 3,
   "metadata": {},
   "outputs": [],
   "source": [
    "import sys\n",
    "\n",
    "additional_paths = ['../']\n",
    "\n",
    "for path in additional_paths:\n",
    "    if path not in sys.path:\n",
    "        sys.path.append(path)"
   ]
  },
  {
   "cell_type": "code",
   "execution_count": 12,
   "metadata": {},
   "outputs": [
    {
     "data": {
      "text/plain": [
       "'2.0.0'"
      ]
     },
     "execution_count": 12,
     "metadata": {},
     "output_type": "execute_result"
    }
   ],
   "source": [
    "import utils.drnn_model\n",
    "import utils.visualization\n",
    "import utils.tf_helpers\n",
    "import h5py\n",
    "import cv2\n",
    "import matplotlib.pyplot as plt\n",
    "\n",
    "import tensorflow as tf\n",
    "import numpy as np\n",
    "import matplotlib.pyplot as plt\n",
    "\n",
    "import sacred\n",
    "\n",
    "tf.__version__"
   ]
  },
  {
   "cell_type": "code",
   "execution_count": 8,
   "metadata": {},
   "outputs": [],
   "source": [
    "hd = h5py.File('../../DQN/car_racing.hdf5', 'r')"
   ]
  },
  {
   "cell_type": "code",
   "execution_count": 9,
   "metadata": {},
   "outputs": [
    {
     "data": {
      "text/plain": [
       "<KeysViewHDF5 ['action', 'observation', 'reward']>"
      ]
     },
     "execution_count": 9,
     "metadata": {},
     "output_type": "execute_result"
    }
   ],
   "source": [
    "hd.keys()"
   ]
  },
  {
   "cell_type": "code",
   "execution_count": 27,
   "metadata": {},
   "outputs": [
    {
     "data": {
      "text/plain": [
       "(52, 90, 3)"
      ]
     },
     "execution_count": 27,
     "metadata": {},
     "output_type": "execute_result"
    },
    {
     "data": {
      "image/png": "[encoded data removed]",
      "text/plain": [
       "<Figure size 432x288 with 1 Axes>"
      ]
     },
     "metadata": {
      "needs_background": "light"
     },
     "output_type": "display_data"
    }
   ],
   "source": [
    "f = hd['observation'][0, 150, :350]\n",
    "scale = 0.15\n",
    "f = cv2.resize(f, (int(f.shape[1] * scale), int(f.shape[0] *  scale)))\n",
    "\n",
    "plt.imshow(f)\n",
    "f.shape"
   ]
  },
  {
   "cell_type": "code",
   "execution_count": 88,
   "metadata": {},
   "outputs": [
    {
     "data": {
      "text/plain": [
       "1.0"
      ]
     },
     "execution_count": 88,
     "metadata": {},
     "output_type": "execute_result"
    }
   ],
   "source": [
    "hd['observation'][0, 0].max() / 255"
   ]
  },
  {
   "cell_type": "code",
   "execution_count": 67,
   "metadata": {},
   "outputs": [
    {
     "data": {
      "text/plain": [
       "(-0.1, 8.788889)"
      ]
     },
     "execution_count": 67,
     "metadata": {},
     "output_type": "execute_result"
    }
   ],
   "source": [
    "MIN_REWARD = hd['reward'][()].min()\n",
    "MAX_REWARD = hd['reward'][()].max()\n",
    "\n",
    "MIN_REWARD, MAX_REWARD"
   ]
  },
  {
   "cell_type": "code",
   "execution_count": 104,
   "metadata": {},
   "outputs": [],
   "source": [
    "ex = sacred.Experiment(name='DRNN Car Racing 1', interactive=True)"
   ]
  },
  {
   "cell_type": "code",
   "execution_count": 105,
   "metadata": {},
   "outputs": [],
   "source": [
    "@ex.capture\n",
    "def make_dataset(bs, W, H, SEQ_LEN):\n",
    "    def data_input():\n",
    "        actions = hd['action']\n",
    "        rewards = hd['reward']\n",
    "        observations = hd['observation']\n",
    "\n",
    "        for i in range(len(observations)):\n",
    "            o = observations[i, :SEQ_LEN] / 255.0\n",
    "            o = np.array([cv2.resize(o_i, (W, H)) for o_i in o])\n",
    "\n",
    "            a = actions[i, :SEQ_LEN]\n",
    "            r = rewards[i, :SEQ_LEN]\n",
    "            r = (r - MIN_REWARD) / (MAX_REWARD - MIN_REWARD)\n",
    "\n",
    "            yield (a,), (o, r)\n",
    "\n",
    "    return tf.data.Dataset.from_generator(\n",
    "        data_input,\n",
    "        output_types=((tf.float32,), (tf.float32, tf.float32)),\n",
    "    ).repeat().batch(bs).prefetch(tf.data.experimental.AUTOTUNE)"
   ]
  },
  {
   "cell_type": "code",
   "execution_count": 106,
   "metadata": {},
   "outputs": [
    {
     "data": {
      "text/plain": [
       "TensorShape([3, 2, 90, 52, 3])"
      ]
     },
     "execution_count": 106,
     "metadata": {},
     "output_type": "execute_result"
    }
   ],
   "source": [
    "list(make_dataset(3, 52, 90, 2).take(1))[0][1][0].shape"
   ]
  },
  {
   "cell_type": "code",
   "execution_count": 107,
   "metadata": {},
   "outputs": [],
   "source": [
    "@ex.config\n",
    "def config():\n",
    "    SEQ_LEN = 256\n",
    "    W, H = 52, 90\n",
    "    internal_size = 64\n",
    "    batch_size = 128\n",
    "    steps_per_epoch = 128\n",
    "    lr = 0.005\n",
    "    weight_decay = 0.0001\n",
    "    should_preload_model = True"
   ]
  },
  {
   "cell_type": "code",
   "execution_count": 108,
   "metadata": {},
   "outputs": [],
   "source": [
    "def on_batch_begin(model):\n",
    "    utils.visualization.plot_pairwise_frames(\n",
    "        sampler=lambda: list(make_dataset(1).take(1))[0],\n",
    "        hypotheses=lambda x: model.net.predict(x)[0]\n",
    "    )\n",
    "    \n",
    "    if 'loss' in model.net.history.history:\n",
    "        loss = model.net.history.history['loss'][-1]\n",
    "        ex.log_scalar('loss', loss)\n",
    "\n",
    "    pred_rollout_name = 'pred_rollout.png'\n",
    "    plt.savefig(pred_rollout_name)\n",
    "    ex.add_artifact(pred_rollout_name)\n",
    "    plt.show()"
   ]
  },
  {
   "cell_type": "code",
   "execution_count": 109,
   "metadata": {},
   "outputs": [],
   "source": [
    "@ex.main\n",
    "def main(\n",
    "    SEQ_LEN,\n",
    "    W, H,\n",
    "    internal_size,\n",
    "    batch_size,\n",
    "    steps_per_epoch,\n",
    "    lr,\n",
    "    weight_decay,\n",
    "    should_preload_model,\n",
    "):\n",
    "    #### Model\n",
    "    model = utils.drnn_model.DRNN(internal_size=internal_size, W=W, H=H, lr=lr, weight_decay=weight_decay)\n",
    "    model.net.summary()\n",
    "\n",
    "    model_img_name = 'model.png'\n",
    "    tf.keras.utils.plot_model(model.net, to_file=model_img_name, show_shapes=True, expand_nested=False, rankdir='TB', dpi=90)\n",
    "    ex.add_artifact(model_img_name)\n",
    "    \n",
    "    #### Callbacks\n",
    "    callbacks = [\n",
    "#         utils.tf_helpers.model_persistor(\n",
    "#             model,\n",
    "#             should_preload_model=should_preload_model,\n",
    "#             cp_file_name='cp-drnn-{epoch:0004d}-{loss:.5f}.hdf5'\n",
    "#         ),\n",
    "#         utils.tf_helpers.on_batch_begin(lambda: on_batch_begin(model)),\n",
    "#         model.tb_callback,\n",
    "    ]\n",
    "    \n",
    "    #### Training\n",
    "    input_generator = make_dataset(bs=batch_size)\n",
    "    model.net.fit_generator(\n",
    "        generator=input_generator,\n",
    "        validation_data=input_generator,\n",
    "        validation_steps=2,\n",
    "        steps_per_epoch=steps_per_epoch,\n",
    "        epochs=2000,\n",
    "        callbacks=callbacks\n",
    "    )"
   ]
  },
  {
   "cell_type": "code",
   "execution_count": null,
   "metadata": {
    "scrolled": false
   },
   "outputs": [
    {
     "name": "stderr",
     "output_type": "stream",
     "text": [
      "WARNING - DRNN Car Racing 1 - No observers have been added to this run\n",
      "INFO - DRNN Car Racing 1 - Running command 'main'\n",
      "INFO - DRNN Car Racing 1 - Started\n"
     ]
    },
    {
     "name": "stdout",
     "output_type": "stream",
     "text": [
      "Model: \"model_3\"\n",
      "__________________________________________________________________________________________________\n",
      "Layer (type)                    Output Shape         Param #     Connected to                     \n",
      "==================================================================================================\n",
      "game_init (InputLayer)          [(None, 1)]          0                                            \n",
      "__________________________________________________________________________________________________\n",
      "user_input (InputLayer)         [(None, None, 2)]    0                                            \n",
      "__________________________________________________________________________________________________\n",
      "polar_to_cartesian (Lambda)     (None, 2)            0           game_init[0][0]                  \n",
      "__________________________________________________________________________________________________\n",
      "space_to_batch_gru1 (Lambda)    (None, None, 2)      0           user_input[0][0]                 \n",
      "__________________________________________________________________________________________________\n",
      "project_activation (Dense)      (None, 64)           192         polar_to_cartesian[0][0]         \n",
      "__________________________________________________________________________________________________\n",
      "rnn_gru_gru1 (GRU)              (None, None, 64)     13056       space_to_batch_gru1[0][0]        \n",
      "                                                                 project_activation[0][0]         \n",
      "__________________________________________________________________________________________________\n",
      "batch_norm_gru1 (BatchNormaliza (None, None, 64)     256         rnn_gru_gru1[0][0]               \n",
      "__________________________________________________________________________________________________\n",
      "batch_to_space_gru1 (Lambda)    (None, None, 64)     0           batch_norm_gru1[0][0]            \n",
      "__________________________________________________________________________________________________\n",
      "space_to_batch_gru2 (Lambda)    (None, None, 64)     0           batch_to_space_gru1[0][0]        \n",
      "__________________________________________________________________________________________________\n",
      "rnn_gru_gru2 (GRU)              (None, None, 64)     24960       space_to_batch_gru2[0][0]        \n",
      "__________________________________________________________________________________________________\n",
      "batch_norm_gru2 (BatchNormaliza (None, None, 64)     256         rnn_gru_gru2[0][0]               \n",
      "__________________________________________________________________________________________________\n",
      "batch_to_space_gru2 (Lambda)    (None, None, 64)     0           batch_norm_gru2[0][0]            \n",
      "__________________________________________________________________________________________________\n",
      "space_to_batch_gru3 (Lambda)    (None, None, 64)     0           batch_to_space_gru2[0][0]        \n",
      "__________________________________________________________________________________________________\n",
      "rnn_gru_gru3 (GRU)              (None, None, 64)     24960       space_to_batch_gru3[0][0]        \n",
      "__________________________________________________________________________________________________\n",
      "batch_norm_gru3 (BatchNormaliza (None, None, 64)     256         rnn_gru_gru3[0][0]               \n",
      "__________________________________________________________________________________________________\n",
      "batch_to_space_gru3 (Lambda)    (None, None, 64)     0           batch_norm_gru3[0][0]            \n",
      "__________________________________________________________________________________________________\n",
      "frame_vector (Dense)            (None, None, 4680)   304200      batch_to_space_gru3[0][0]        \n",
      "__________________________________________________________________________________________________\n",
      "frame_matrix (Reshape)          (None, None, 52, 90) 0           frame_vector[0][0]               \n",
      "==================================================================================================\n",
      "Total params: 368,136\n",
      "Trainable params: 367,752\n",
      "Non-trainable params: 384\n",
      "__________________________________________________________________________________________________\n",
      "Epoch 1/2000\n"
     ]
    }
   ],
   "source": [
    "ex.run(config_updates={'should_preload_model': True})"
   ]
  },
  {
   "cell_type": "code",
   "execution_count": null,
   "metadata": {},
   "outputs": [],
   "source": []
  }
 ],
 "metadata": {
  "kernelspec": {
   "display_name": "Python 3",
   "language": "python",
   "name": "python3"
  },
  "language_info": {
   "codemirror_mode": {
    "name": "ipython",
    "version": 3
   },
   "file_extension": ".py",
   "mimetype": "text/x-python",
   "name": "python",
   "nbconvert_exporter": "python",
   "pygments_lexer": "ipython3",
   "version": "3.7.5"
  }
 },
 "nbformat": 4,
 "nbformat_minor": 2
}
