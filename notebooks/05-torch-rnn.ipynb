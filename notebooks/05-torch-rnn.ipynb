{
 "cells": [
  {
   "cell_type": "code",
   "execution_count": null,
   "metadata": {},
   "outputs": [],
   "source": [
    "import os\n",
    "\n",
    "os.environ['CUDA_LAUNCH_BLOCKING'] = '1'\n",
    "\n",
    "import numpy as np\n",
    "\n",
    "import torch\n",
    "import torch.nn as nn\n",
    "import torchvision\n",
    "\n",
    "import matplotlib.pyplot as plt\n",
    "from tqdm import trange\n",
    "\n",
    "DEVICE = 'cuda'\n",
    "\n",
    "torch.__version__, torch.cuda.is_available()"
   ]
  },
  {
   "cell_type": "code",
   "execution_count": 32,
   "metadata": {},
   "outputs": [],
   "source": [
    "class RNNCell(nn.Module):\n",
    "    def __init__(self, in_size, out_size):\n",
    "        super(RNNCell, self).__init__()\n",
    "        self.h = nn.Linear(in_size + out_size, out_size)\n",
    "        self.u = nn.Linear(in_size + out_size, out_size)\n",
    "\n",
    "    def forward(self, x, h):\n",
    "        cat = torch.cat((x, h), dim=-1)\n",
    "\n",
    "        new = torch.tanh(self.h(cat))\n",
    "        u = torch.sigmoid(self.u(cat))\n",
    "        out = u * h + (1 - u) * new\n",
    "\n",
    "        return out, out"
   ]
  },
  {
   "cell_type": "code",
   "execution_count": 33,
   "metadata": {},
   "outputs": [
    {
     "data": {
      "text/plain": [
       "(torch.Size([5, 20]), torch.Size([5, 20]), torch.Size([5, 10]))"
      ]
     },
     "execution_count": 33,
     "metadata": {},
     "output_type": "execute_result"
    }
   ],
   "source": [
    "cell = RNNCell(10, 20)\n",
    "# cell = torch.jit.script(cell)\n",
    "\n",
    "x = torch.rand(5, 10)\n",
    "h = torch.rand(5, 20)\n",
    "\n",
    "y, h = cell(x, h)\n",
    "y.shape, h.shape, x.shape"
   ]
  },
  {
   "cell_type": "code",
   "execution_count": 34,
   "metadata": {},
   "outputs": [],
   "source": [
    "class RNNLoop(nn.Module):\n",
    "    def __init__(self, in_size, out_size):\n",
    "        super(RNNLoop, self).__init__()\n",
    "        self.in_size = in_size\n",
    "        self.out_size = out_size\n",
    "\n",
    "        self.cell = RNNCell(in_size, out_size)\n",
    "#         self.cell = torch.jit.script(self.cell)\n",
    "\n",
    "        self.DEVICE = DEVICE\n",
    "        \n",
    "    def forward(self, xs):\n",
    "        bs = xs.size(0)\n",
    "        seq_size = xs.size(1)\n",
    "\n",
    "        h = torch.zeros(bs, self.out_size).to(self.DEVICE)\n",
    "        y = torch.zeros(bs, self.out_size).to(self.DEVICE)\n",
    "        rollout = torch.zeros(bs, seq_size, self.out_size).to(self.DEVICE)\n",
    "\n",
    "        for i in range(xs.size(0)):\n",
    "            y, h = self.cell(xs[:, i], h)\n",
    "            rollout[:, i] = y\n",
    "\n",
    "        return rollout"
   ]
  },
  {
   "cell_type": "code",
   "execution_count": 35,
   "metadata": {},
   "outputs": [],
   "source": [
    "def RNN(in_size, out_size):\n",
    "    loop = RNNLoop(in_size, out_size)\n",
    "#     loop = torch.jit.script(loop)\n",
    "    return loop.to(DEVICE)"
   ]
  },
  {
   "cell_type": "code",
   "execution_count": 36,
   "metadata": {},
   "outputs": [
    {
     "data": {
      "text/plain": [
       "torch.Size([2, 12, 20])"
      ]
     },
     "execution_count": 36,
     "metadata": {},
     "output_type": "execute_result"
    }
   ],
   "source": [
    "rnn = RNN(10, 20)\n",
    "# print(rnn.code)\n",
    "\n",
    "xs = torch.rand(2, 12, 10).to(DEVICE)\n",
    "rnn(xs).shape"
   ]
  },
  {
   "cell_type": "code",
   "execution_count": 37,
   "metadata": {},
   "outputs": [
    {
     "data": {
      "text/plain": [
       "(torch.Size([28, 28]), torch.Size([28, 28]))"
      ]
     },
     "execution_count": 37,
     "metadata": {},
     "output_type": "execute_result"
    },
    {
     "data": {
      "image/png": "[encoded data removed]",
      "text/plain": [
       "<Figure size 432x288 with 1 Axes>"
      ]
     },
     "metadata": {
      "needs_background": "light"
     },
     "output_type": "display_data"
    }
   ],
   "source": [
    "# Trining set\n",
    "dataset = torchvision.datasets.MNIST(root='./data', download=True)\n",
    "data = np.array(dataset[0][0]) / 255\n",
    "\n",
    "X, y = torch.rand(28, 28).to(DEVICE), \\\n",
    "       torch.Tensor(data).to(DEVICE)\n",
    "\n",
    "next_batch = lambda: (X.reshape(1, 28, 28), y.reshape(1, 28, 28))\n",
    "\n",
    "plt.imshow(X.cpu().numpy() - y.cpu().numpy())\n",
    "X.shape, y.shape"
   ]
  },
  {
   "cell_type": "code",
   "execution_count": 38,
   "metadata": {},
   "outputs": [],
   "source": [
    "class LambdaLayer(nn.Module):\n",
    "    def __init__(self, lambd):\n",
    "        super(LambdaLayer, self).__init__()\n",
    "        self.lambd = lambd\n",
    "\n",
    "    def forward(self, input):\n",
    "        return self.lambd(input)"
   ]
  },
  {
   "cell_type": "code",
   "execution_count": 39,
   "metadata": {},
   "outputs": [
    {
     "data": {
      "text/plain": [
       "149505.0"
      ]
     },
     "execution_count": 39,
     "metadata": {},
     "output_type": "execute_result"
    }
   ],
   "source": [
    "model = nn.Sequential(\n",
    "    LambdaLayer(lambda x: x.reshape(1, -1, 1)),\n",
    "    nn.GRU(1, 128, num_layers=2, batch_first=True),\n",
    "    LambdaLayer(lambda x: x[0]),\n",
    "    nn.Linear(128, 1),\n",
    "    nn.Sigmoid(),\n",
    ").to(DEVICE)\n",
    "\n",
    "train = nn.Sequential(\n",
    "    model,\n",
    "    LambdaLayer(lambda x: x.reshape(1, 28, 28)),\n",
    ")\n",
    "\n",
    "predict = nn.Sequential(\n",
    "    model,\n",
    "    LambdaLayer(lambda x: x.reshape(28, 28)),\n",
    "    LambdaLayer(lambda x: x.cpu().detach().numpy()),\n",
    ")\n",
    "\n",
    "sum(\n",
    "    torch.prod(torch.Tensor(list((p.size()))))\n",
    "    for p in model.parameters()\n",
    ").item()"
   ]
  },
  {
   "cell_type": "code",
   "execution_count": 40,
   "metadata": {},
   "outputs": [
    {
     "data": {
      "text/plain": [
       "<matplotlib.image.AxesImage at 0x7efb1ccf2a50>"
      ]
     },
     "execution_count": 40,
     "metadata": {},
     "output_type": "execute_result"
    },
    {
     "data": {
      "image/png": "[encoded data removed]",
      "text/plain": [
       "<Figure size 432x288 with 1 Axes>"
      ]
     },
     "metadata": {
      "needs_background": "light"
     },
     "output_type": "display_data"
    }
   ],
   "source": [
    "plt.imshow(predict(X.reshape(1, 28, 28)))"
   ]
  },
  {
   "cell_type": "code",
   "execution_count": 41,
   "metadata": {},
   "outputs": [],
   "source": [
    "def fit(epochs, model, next_batch):\n",
    "    history = []\n",
    "    criterion = torch.nn.BCELoss().to(DEVICE)\n",
    "    optimizer = torch.optim.Adam(params=model.parameters(), lr=0.0005)\n",
    "\n",
    "    t = trange(epochs)\n",
    "    for i in t:\n",
    "        optimizer.zero_grad()\n",
    "\n",
    "        X, y = next_batch()\n",
    "        logits = model(X)\n",
    "        loss = criterion(logits, y)\n",
    "\n",
    "        loss.backward()\n",
    "        optimizer.step()\n",
    "        l = loss.item()\n",
    "\n",
    "        history.append(l)\n",
    "        t.set_description('Loss: %.8f' % l)\n",
    "        t.refresh()\n",
    "\n",
    "    return history"
   ]
  },
  {
   "cell_type": "code",
   "execution_count": 42,
   "metadata": {},
   "outputs": [
    {
     "name": "stderr",
     "output_type": "stream",
     "text": [
      "Loss: 0.39943379: 100%|██████████| 1000/1000 [01:43<00:00,  9.70it/s]\n"
     ]
    }
   ],
   "source": [
    "history = fit(100, model=train, next_batch=next_batch)"
   ]
  },
  {
   "cell_type": "code",
   "execution_count": 43,
   "metadata": {},
   "outputs": [
    {
     "data": {
      "text/plain": [
       "[<matplotlib.lines.Line2D at 0x7efb1cb7ab90>]"
      ]
     },
     "execution_count": 43,
     "metadata": {},
     "output_type": "execute_result"
    },
    {
     "data": {
      "image/png": "[encoded data removed]",
      "text/plain": [
       "<Figure size 432x288 with 1 Axes>"
      ]
     },
     "metadata": {
      "needs_background": "light"
     },
     "output_type": "display_data"
    }
   ],
   "source": [
    "plt.plot(history)"
   ]
  },
  {
   "cell_type": "code",
   "execution_count": 44,
   "metadata": {},
   "outputs": [
    {
     "data": {
      "text/plain": [
       "<matplotlib.image.AxesImage at 0x7efb1c8b4ed0>"
      ]
     },
     "execution_count": 44,
     "metadata": {},
     "output_type": "execute_result"
    },
    {
     "data": {
      "image/png": "[encoded data removed]",
      "text/plain": [
       "<Figure size 432x288 with 1 Axes>"
      ]
     },
     "metadata": {
      "needs_background": "light"
     },
     "output_type": "display_data"
    }
   ],
   "source": [
    "o = predict(X)\n",
    "plt.imshow(o)"
   ]
  },
  {
   "cell_type": "code",
   "execution_count": 45,
   "metadata": {},
   "outputs": [
    {
     "data": {
      "text/plain": [
       "33409.0"
      ]
     },
     "execution_count": 45,
     "metadata": {},
     "output_type": "execute_result"
    }
   ],
   "source": [
    "model = nn.Sequential(\n",
    "    LambdaLayer(lambda x: x.reshape(1, -1, 1)),\n",
    "    RNN(1, 128),\n",
    "    nn.Linear(128, 1),\n",
    "    nn.Sigmoid(),\n",
    ").to(DEVICE)\n",
    "\n",
    "train = nn.Sequential(\n",
    "    model,\n",
    "    LambdaLayer(lambda x: x.reshape(1, 28, 28)),\n",
    ")\n",
    "\n",
    "predict = nn.Sequential(\n",
    "    model,\n",
    "    LambdaLayer(lambda x: x.reshape(28, 28)),\n",
    "    LambdaLayer(lambda x: x.cpu().detach().numpy()),\n",
    ")\n",
    "\n",
    "sum(\n",
    "    torch.prod(torch.Tensor(list((p.size()))))\n",
    "    for p in model.parameters()\n",
    ").item()"
   ]
  },
  {
   "cell_type": "code",
   "execution_count": null,
   "metadata": {},
   "outputs": [
    {
     "name": "stderr",
     "output_type": "stream",
     "text": [
      "Loss: 0.40054056:  11%|█         | 1062/10000 [00:04<00:33, 269.10it/s]"
     ]
    }
   ],
   "source": [
    "history = fit(10000, model=train, next_batch=next_batch)"
   ]
  },
  {
   "cell_type": "code",
   "execution_count": 47,
   "metadata": {},
   "outputs": [
    {
     "data": {
      "text/plain": [
       "<matplotlib.image.AxesImage at 0x7efb1c4ab710>"
      ]
     },
     "execution_count": 47,
     "metadata": {},
     "output_type": "execute_result"
    },
    {
     "data": {
      "image/png": "[encoded data removed]",
      "text/plain": [
       "<Figure size 432x288 with 1 Axes>"
      ]
     },
     "metadata": {
      "needs_background": "light"
     },
     "output_type": "display_data"
    }
   ],
   "source": [
    "o = predict(X)\n",
    "plt.imshow(o)"
   ]
  },
  {
   "cell_type": "code",
   "execution_count": null,
   "metadata": {},
   "outputs": [],
   "source": []
  }
 ],
 "metadata": {
  "kernelspec": {
   "display_name": "Python 3",
   "language": "python",
   "name": "python3"
  },
  "language_info": {
   "codemirror_mode": {
    "name": "ipython",
    "version": 3
   },
   "file_extension": ".py",
   "mimetype": "text/x-python",
   "name": "python",
   "nbconvert_exporter": "python",
   "pygments_lexer": "ipython3",
   "version": "3.7.5"
  }
 },
 "nbformat": 4,
 "nbformat_minor": 4
}
