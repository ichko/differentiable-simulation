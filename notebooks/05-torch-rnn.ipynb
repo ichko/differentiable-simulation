{
 "cells": [
  {
   "cell_type": "code",
   "execution_count": 29,
   "metadata": {},
   "outputs": [
    {
     "data": {
      "text/plain": [
       "('1.4.0', True)"
      ]
     },
     "execution_count": 29,
     "metadata": {},
     "output_type": "execute_result"
    }
   ],
   "source": [
    "import numpy as np\n",
    "\n",
    "import torch\n",
    "import torch.nn as nn\n",
    "import torchvision\n",
    "\n",
    "import matplotlib.pyplot as plt\n",
    "from tqdm import trange\n",
    "\n",
    "torch.__version__, torch.cuda.is_available()"
   ]
  },
  {
   "cell_type": "code",
   "execution_count": 30,
   "metadata": {},
   "outputs": [],
   "source": [
    "class RNNCell(nn.Module):\n",
    "    def __init__(self, in_size, out_size):\n",
    "        super(RNNCell, self).__init__()\n",
    "        self.linear = nn.Linear(in_size + out_size, out_size * 2)\n",
    "\n",
    "    def forward(self, x, h):\n",
    "        inp = torch.cat((x, h), dim=1)\n",
    "        out = torch.tanh(self.linear(inp))\n",
    "        y, new_h = torch.chunk(out, 2, dim=1)\n",
    "        return y, new_h"
   ]
  },
  {
   "cell_type": "code",
   "execution_count": 31,
   "metadata": {},
   "outputs": [
    {
     "data": {
      "text/plain": [
       "(torch.Size([5, 20]), torch.Size([5, 20]), torch.Size([5, 10]))"
      ]
     },
     "execution_count": 31,
     "metadata": {},
     "output_type": "execute_result"
    }
   ],
   "source": [
    "cell = RNNCell(10, 20)\n",
    "cell = torch.jit.script(cell)\n",
    "\n",
    "x = torch.rand(5, 10)\n",
    "h = torch.rand(5, 20)\n",
    "\n",
    "y, h = cell(x, h)\n",
    "y.shape, h.shape, x.shape"
   ]
  },
  {
   "cell_type": "code",
   "execution_count": 32,
   "metadata": {},
   "outputs": [],
   "source": [
    "class RNNLoop(nn.Module):\n",
    "    def __init__(self, in_size, out_size):\n",
    "        super(RNNLoop, self).__init__()\n",
    "        self.in_size = in_size\n",
    "        self.out_size = out_size\n",
    "        self.cell = torch.jit.script(RNNCell(in_size, out_size))\n",
    "        \n",
    "    def forward(self, xs):\n",
    "        bs = xs.size(0)\n",
    "        seq_size = xs.size(1)\n",
    "\n",
    "        h = torch.zeros(bs, self.out_size)\n",
    "        y = torch.zeros(bs, self.out_size)\n",
    "        rollout = torch.zeros(bs, seq_size, self.out_size)\n",
    "\n",
    "        for i in range(xs.size(0)):\n",
    "            y, h = self.cell(xs[:, i], h)\n",
    "            rollout[:, i] = y\n",
    "\n",
    "        return rollout"
   ]
  },
  {
   "cell_type": "code",
   "execution_count": 33,
   "metadata": {},
   "outputs": [],
   "source": [
    "def RNN(in_size, out_size):\n",
    "    loop = RNNLoop(in_size, out_size)\n",
    "    loop = torch.jit.script(loop)\n",
    "    return loop"
   ]
  },
  {
   "cell_type": "code",
   "execution_count": 34,
   "metadata": {},
   "outputs": [
    {
     "name": "stdout",
     "output_type": "stream",
     "text": [
      "def forward(self,\n",
      "    xs: Tensor) -> Tensor:\n",
      "  bs = torch.size(xs, 0)\n",
      "  seq_size = torch.size(xs, 1)\n",
      "  h = torch.zeros([bs, self.out_size], dtype=None, layout=None, device=None, pin_memory=None)\n",
      "  y = torch.zeros([bs, self.out_size], dtype=None, layout=None, device=None, pin_memory=None)\n",
      "  rollout = torch.zeros([bs, seq_size, self.out_size], dtype=None, layout=None, device=None, pin_memory=None)\n",
      "  h0 = h\n",
      "  for i in range(torch.size(xs, 0)):\n",
      "    _0 = torch.slice(xs, 0, 0, 9223372036854775807, 1)\n",
      "    _1 = (self.cell).forward(torch.select(_0, 1, i), h0, )\n",
      "    y0, h1, = _1\n",
      "    _2 = torch.slice(rollout, 0, 0, 9223372036854775807, 1)\n",
      "    _3 = torch.copy_(torch.select(_2, 1, i), y0, False)\n",
      "    h0 = h1\n",
      "  return rollout\n",
      "\n"
     ]
    },
    {
     "data": {
      "text/plain": [
       "torch.Size([2, 12, 20])"
      ]
     },
     "execution_count": 34,
     "metadata": {},
     "output_type": "execute_result"
    }
   ],
   "source": [
    "rnn = RNN(10, 20)\n",
    "print(rnn.code)\n",
    "\n",
    "xs = torch.rand(2, 12, 10)\n",
    "rnn(xs).shape"
   ]
  },
  {
   "cell_type": "code",
   "execution_count": 35,
   "metadata": {},
   "outputs": [
    {
     "data": {
      "text/plain": [
       "(torch.Size([1, 784, 1]), torch.Size([784]))"
      ]
     },
     "execution_count": 35,
     "metadata": {},
     "output_type": "execute_result"
    },
    {
     "data": {
      "image/png": "[encoded data removed]",
      "text/plain": [
       "<Figure size 432x288 with 1 Axes>"
      ]
     },
     "metadata": {
      "needs_background": "light"
     },
     "output_type": "display_data"
    }
   ],
   "source": [
    "# Trining set\n",
    "\n",
    "idx = 0\n",
    "dataset = torchvision.datasets.MNIST(root='./data', download=True)\n",
    "data = np.array(dataset[idx][0]).reshape(-1) / 255\n",
    "\n",
    "X, y = torch.rand(1, 784, 1), torch.Tensor([*data[1:], 1])\n",
    "next_batch = lambda: (X, y.reshape(1, -1, 1))\n",
    "\n",
    "plt.imshow(X.reshape(28, 28) - y.reshape(28, 28))\n",
    "X.shape, y.shape"
   ]
  },
  {
   "cell_type": "code",
   "execution_count": 36,
   "metadata": {},
   "outputs": [],
   "source": [
    "class Model(nn.Module):\n",
    "    def __init__(self, hidden_features):\n",
    "        super(Model, self).__init__()\n",
    "        self.hidden_features = hidden_features\n",
    "        self.gru = nn.GRU(1, hidden_features, num_layers=2, batch_first=True)\n",
    "        self.linear = nn.Linear(hidden_features, 1)\n",
    "        \n",
    "    def forward(self, x):\n",
    "        bs = x.size(0)\n",
    "        h0 = torch.zeros(2, bs, self.hidden_features)\n",
    "\n",
    "        x, hn = self.gru(x, h0)\n",
    "        x = self.linear(x)\n",
    "        x = torch.sigmoid(x)\n",
    "\n",
    "        return x"
   ]
  },
  {
   "cell_type": "code",
   "execution_count": 39,
   "metadata": {},
   "outputs": [
    {
     "name": "stdout",
     "output_type": "stream",
     "text": [
      "def forward(self,\n",
      "    x: Tensor) -> Tensor:\n",
      "  bs = torch.size(x, 0)\n",
      "  h0 = torch.zeros([2, bs, self.hidden_features], dtype=None, layout=None, device=None, pin_memory=None)\n",
      "  x0, hn, = (self.gru).forward__0(x, h0, )\n",
      "  x1 = (self.linear).forward(x0, )\n",
      "  return torch.sigmoid(x1)\n",
      "\n"
     ]
    }
   ],
   "source": [
    "def mk_model():\n",
    "    return torch.jit.script(Model(hidden_features=128))\n",
    "\n",
    "model = mk_model()\n",
    "print(model.code)"
   ]
  },
  {
   "cell_type": "code",
   "execution_count": 40,
   "metadata": {},
   "outputs": [
    {
     "data": {
      "text/plain": [
       "<matplotlib.image.AxesImage at 0x7efb445fa9d0>"
      ]
     },
     "execution_count": 40,
     "metadata": {},
     "output_type": "execute_result"
    },
    {
     "data": {
      "image/png": "[encoded data removed]",
      "text/plain": [
       "<Figure size 432x288 with 1 Axes>"
      ]
     },
     "metadata": {
      "needs_background": "light"
     },
     "output_type": "display_data"
    }
   ],
   "source": [
    "o = model(X.reshape(1, -1, 1)).view(28, 28).detach().numpy()\n",
    "plt.imshow(o)"
   ]
  },
  {
   "cell_type": "code",
   "execution_count": 57,
   "metadata": {},
   "outputs": [],
   "source": [
    "def optimize(epochs, model, next_batch):\n",
    "    history = []\n",
    "    criterion = torch.nn.BCELoss()\n",
    "    optimizer = torch.optim.Adam(params=model.parameters(), lr=0.0001)\n",
    "\n",
    "    t = trange(epochs, desc='Loss: #')\n",
    "    for i in t:\n",
    "        optimizer.zero_grad()\n",
    "\n",
    "        X, y = next_batch()\n",
    "        logits = model(X)\n",
    "        loss = criterion(logits, y)\n",
    "\n",
    "        loss.backward()\n",
    "        optimizer.step()\n",
    "        l = loss.item()\n",
    "\n",
    "        history.append(l)\n",
    "        t.set_description('Loss: %.5f' % l)\n",
    "        t.refresh()\n",
    "        \n",
    "    return history"
   ]
  },
  {
   "cell_type": "code",
   "execution_count": 67,
   "metadata": {},
   "outputs": [
    {
     "name": "stderr",
     "output_type": "stream",
     "text": [
      "Loss: 0.20832: 100%|██████████| 100/100 [00:46<00:00,  2.14it/s]\n"
     ]
    }
   ],
   "source": [
    "history = optimize(100, model, next_batch)"
   ]
  },
  {
   "cell_type": "code",
   "execution_count": 68,
   "metadata": {},
   "outputs": [
    {
     "data": {
      "text/plain": [
       "[<matplotlib.lines.Line2D at 0x7efb4ca60690>]"
      ]
     },
     "execution_count": 68,
     "metadata": {},
     "output_type": "execute_result"
    },
    {
     "data": {
      "image/png": "[encoded data removed]",
      "text/plain": [
       "<Figure size 432x288 with 1 Axes>"
      ]
     },
     "metadata": {
      "needs_background": "light"
     },
     "output_type": "display_data"
    }
   ],
   "source": [
    "plt.plot(history)"
   ]
  },
  {
   "cell_type": "code",
   "execution_count": 69,
   "metadata": {},
   "outputs": [
    {
     "data": {
      "text/plain": [
       "<matplotlib.image.AxesImage at 0x7efb4ca781d0>"
      ]
     },
     "execution_count": 69,
     "metadata": {},
     "output_type": "execute_result"
    },
    {
     "data": {
      "image/png": "[encoded data removed]",
      "text/plain": [
       "<Figure size 432x288 with 1 Axes>"
      ]
     },
     "metadata": {
      "needs_background": "light"
     },
     "output_type": "display_data"
    }
   ],
   "source": [
    "pred = model(X.reshape(1, -1, 1)).reshape(28, 28).detach().numpy()\n",
    "plt.imshow(pred)"
   ]
  },
  {
   "cell_type": "code",
   "execution_count": null,
   "metadata": {},
   "outputs": [],
   "source": []
  },
  {
   "cell_type": "code",
   "execution_count": null,
   "metadata": {},
   "outputs": [],
   "source": []
  }
 ],
 "metadata": {
  "kernelspec": {
   "display_name": "Python 3",
   "language": "python",
   "name": "python3"
  },
  "language_info": {
   "codemirror_mode": {
    "name": "ipython",
    "version": 3
   },
   "file_extension": ".py",
   "mimetype": "text/x-python",
   "name": "python",
   "nbconvert_exporter": "python",
   "pygments_lexer": "ipython3",
   "version": "3.7.5"
  }
 },
 "nbformat": 4,
 "nbformat_minor": 4
}
