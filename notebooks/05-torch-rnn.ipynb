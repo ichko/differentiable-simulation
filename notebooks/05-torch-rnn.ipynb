{
 "cells": [
  {
   "cell_type": "code",
   "execution_count": 1,
   "metadata": {},
   "outputs": [
    {
     "data": {
      "text/plain": [
       "('1.3.1', True)"
      ]
     },
     "execution_count": 1,
     "metadata": {},
     "output_type": "execute_result"
    }
   ],
   "source": [
    "import os\n",
    "\n",
    "os.environ['CUDA_LAUNCH_BLOCKING'] = '1'\n",
    "\n",
    "import numpy as np\n",
    "\n",
    "import torch\n",
    "import torch.nn as nn\n",
    "import torchvision\n",
    "\n",
    "import matplotlib.pyplot as plt\n",
    "from tqdm import trange\n",
    "\n",
    "DEVICE = 'cuda'\n",
    "\n",
    "torch.__version__, torch.cuda.is_available()"
   ]
  },
  {
   "cell_type": "code",
   "execution_count": 2,
   "metadata": {},
   "outputs": [],
   "source": [
    "class RNNCell(nn.Module):\n",
    "    def __init__(self, in_size, out_size):\n",
    "        super(RNNCell, self).__init__()\n",
    "        self.h = nn.Linear(in_size + out_size, out_size)\n",
    "        self.u = nn.Linear(in_size + out_size, out_size)\n",
    "        self.h.weight.data.normal_(0, np.sqrt(2. / out_size))\n",
    "        self.u.weight.data.normal_(0, np.sqrt(2. / out_size))\n",
    "\n",
    "    def forward(self, x, h):\n",
    "        cat = torch.cat((x, h), dim=-1)\n",
    "\n",
    "        new = torch.tanh(self.h(cat))\n",
    "        u = torch.sigmoid(self.u(cat))\n",
    "        out = u * h + (1 - u) * new\n",
    "\n",
    "        return out, out"
   ]
  },
  {
   "cell_type": "code",
   "execution_count": 3,
   "metadata": {},
   "outputs": [
    {
     "data": {
      "text/plain": [
       "(torch.Size([5, 20]), torch.Size([5, 20]), torch.Size([5, 10]))"
      ]
     },
     "execution_count": 3,
     "metadata": {},
     "output_type": "execute_result"
    }
   ],
   "source": [
    "cell = RNNCell(10, 20)\n",
    "# cell = torch.jit.script(cell)\n",
    "\n",
    "x = torch.rand(5, 10)\n",
    "h = torch.rand(5, 20)\n",
    "\n",
    "y, h = cell(x, h)\n",
    "y.shape, h.shape, x.shape"
   ]
  },
  {
   "cell_type": "code",
   "execution_count": 4,
   "metadata": {},
   "outputs": [],
   "source": [
    "class RNNLoop(nn.Module):\n",
    "    def __init__(self, in_size, out_size):\n",
    "        super(RNNLoop, self).__init__()\n",
    "        self.in_size = in_size\n",
    "        self.out_size = out_size\n",
    "\n",
    "        self.cell = RNNCell(in_size, out_size)\n",
    "        self.cell = torch.jit.script(self.cell)\n",
    "\n",
    "        self.DEVICE = DEVICE\n",
    "        \n",
    "    def forward(self, xs):\n",
    "        bs = xs.size(0)\n",
    "        seq_size = xs.size(1)\n",
    "\n",
    "        h = torch.zeros(bs, self.out_size).to(self.DEVICE)\n",
    "        y = torch.zeros(bs, self.out_size).to(self.DEVICE)\n",
    "        rollout = torch.zeros(bs, seq_size, self.out_size).to(self.DEVICE)\n",
    "\n",
    "        for i in range(xs.size(1)):\n",
    "            y, h = self.cell(xs[:, i], h)\n",
    "            rollout[:, i] = y\n",
    "\n",
    "        return rollout"
   ]
  },
  {
   "cell_type": "code",
   "execution_count": 5,
   "metadata": {},
   "outputs": [],
   "source": [
    "def RNN(in_size, out_size):\n",
    "    loop = RNNLoop(in_size, out_size)\n",
    "    loop = torch.jit.script(loop)\n",
    "    return loop.to(DEVICE)"
   ]
  },
  {
   "cell_type": "code",
   "execution_count": 6,
   "metadata": {},
   "outputs": [
    {
     "name": "stdout",
     "output_type": "stream",
     "text": [
      "import __torch__\n",
      "import __torch__.torch.nn.modules.linear\n",
      "import __torch__.torch.nn.modules.linear.___torch_mangle_0\n",
      "def forward(self,\n",
      "    xs: Tensor) -> Tensor:\n",
      "  bs = torch.size(xs, 0)\n",
      "  seq_size = torch.size(xs, 1)\n",
      "  _0 = torch.zeros([bs, self.out_size], dtype=None, layout=None, device=None, pin_memory=None)\n",
      "  h = torch.to(_0, torch.device(self.DEVICE), None, False, False)\n",
      "  _1 = torch.zeros([bs, self.out_size], dtype=None, layout=None, device=None, pin_memory=None)\n",
      "  y = torch.to(_1, torch.device(self.DEVICE), None, False, False)\n",
      "  _2 = torch.zeros([bs, seq_size, self.out_size], dtype=None, layout=None, device=None, pin_memory=None)\n",
      "  rollout = torch.to(_2, torch.device(self.DEVICE), None, False, False)\n",
      "  h0 = h\n",
      "  for i in range(torch.size(xs, 1)):\n",
      "    _3 = self.cell\n",
      "    _4 = torch.slice(xs, 0, 0, 9223372036854775807, 1)\n",
      "    cat = torch.cat([torch.select(_4, 1, i), h0], -1)\n",
      "    _5 = _3.h\n",
      "    _6 = _5.weight\n",
      "    _7 = _5.bias\n",
      "    if torch.eq(torch.dim(cat), 2):\n",
      "      _8 = torch.__isnot__(_7, None)\n",
      "    else:\n",
      "      _8 = False\n",
      "    if _8:\n",
      "      bias = ops.prim.unchecked_unwrap_optional(_7)\n",
      "      ret = torch.addmm(bias, cat, torch.t(_6), beta=1, alpha=1)\n",
      "    else:\n",
      "      output = torch.matmul(cat, torch.t(_6))\n",
      "      if torch.__isnot__(_7, None):\n",
      "        bias0 = ops.prim.unchecked_unwrap_optional(_7)\n",
      "        output0 = torch.add_(output, bias0, alpha=1)\n",
      "      else:\n",
      "        output0 = output\n",
      "      ret = output0\n",
      "    new = torch.tanh(ret)\n",
      "    _9 = _3.u\n",
      "    _10 = _9.weight\n",
      "    _11 = _9.bias\n",
      "    if torch.eq(torch.dim(cat), 2):\n",
      "      _12 = torch.__isnot__(_11, None)\n",
      "    else:\n",
      "      _12 = False\n",
      "    if _12:\n",
      "      bias1 = ops.prim.unchecked_unwrap_optional(_11)\n",
      "      ret0 = torch.addmm(bias1, cat, torch.t(_10), beta=1, alpha=1)\n",
      "    else:\n",
      "      output1 = torch.matmul(cat, torch.t(_10))\n",
      "      if torch.__isnot__(_11, None):\n",
      "        bias2 = ops.prim.unchecked_unwrap_optional(_11)\n",
      "        output2 = torch.add_(output1, bias2, alpha=1)\n",
      "      else:\n",
      "        output2 = output1\n",
      "      ret0 = output2\n",
      "    u = torch.sigmoid(ret0)\n",
      "    _13 = torch.mul(u, h0)\n",
      "    _14 = torch.mul(torch.add(torch.neg(u), 1, 1), new)\n",
      "    out = torch.add(_13, _14, alpha=1)\n",
      "    _15 = torch.slice(rollout, 0, 0, 9223372036854775807, 1)\n",
      "    _16 = torch.copy_(torch.select(_15, 1, i), out, False)\n",
      "    h0 = out\n",
      "  return rollout\n",
      "\n"
     ]
    },
    {
     "data": {
      "text/plain": [
       "torch.Size([2, 12, 20])"
      ]
     },
     "execution_count": 6,
     "metadata": {},
     "output_type": "execute_result"
    }
   ],
   "source": [
    "rnn = RNN(10, 20)\n",
    "print(rnn.code)\n",
    "\n",
    "xs = torch.rand(2, 12, 10).to(DEVICE)\n",
    "rnn(xs).shape"
   ]
  },
  {
   "cell_type": "code",
   "execution_count": 7,
   "metadata": {},
   "outputs": [
    {
     "data": {
      "text/plain": [
       "(torch.Size([28, 28]), torch.Size([28, 28]))"
      ]
     },
     "execution_count": 7,
     "metadata": {},
     "output_type": "execute_result"
    },
    {
     "data": {
      "image/png": "[encoded data removed]",
      "text/plain": [
       "<Figure size 432x288 with 1 Axes>"
      ]
     },
     "metadata": {
      "needs_background": "light"
     },
     "output_type": "display_data"
    }
   ],
   "source": [
    "# Trining set\n",
    "dataset = torchvision.datasets.MNIST(root='./data', download=True)\n",
    "data = np.array(dataset[0][0]) / 255\n",
    "\n",
    "X, y = torch.rand(28, 28).to(DEVICE), \\\n",
    "       torch.Tensor(data).to(DEVICE)\n",
    "\n",
    "next_batch = lambda: (X.reshape(1, 28, 28), y.reshape(1, 28, 28))\n",
    "\n",
    "plt.imshow(X.cpu().numpy() - y.cpu().numpy())\n",
    "X.shape, y.shape"
   ]
  },
  {
   "cell_type": "code",
   "execution_count": 8,
   "metadata": {},
   "outputs": [],
   "source": [
    "class LambdaLayer(nn.Module):\n",
    "    def __init__(self, lambd):\n",
    "        super(LambdaLayer, self).__init__()\n",
    "        self.lambd = lambd\n",
    "\n",
    "    def forward(self, input):\n",
    "        return self.lambd(input)"
   ]
  },
  {
   "cell_type": "code",
   "execution_count": 9,
   "metadata": {},
   "outputs": [
    {
     "data": {
      "text/plain": [
       "149505.0"
      ]
     },
     "execution_count": 9,
     "metadata": {},
     "output_type": "execute_result"
    }
   ],
   "source": [
    "model = nn.Sequential(\n",
    "    LambdaLayer(lambda x: x.reshape(1, -1, 1)),\n",
    "    nn.GRU(1, 128, num_layers=2, batch_first=True),\n",
    "    LambdaLayer(lambda x: x[0]),\n",
    "    nn.Linear(128, 1),\n",
    "    nn.Sigmoid(),\n",
    ").to(DEVICE)\n",
    "\n",
    "train = nn.Sequential(\n",
    "    model,\n",
    "    LambdaLayer(lambda x: x.reshape(1, 28, 28)),\n",
    ")\n",
    "\n",
    "predict = nn.Sequential(\n",
    "    model,\n",
    "    LambdaLayer(lambda x: x.reshape(28, 28)),\n",
    "    LambdaLayer(lambda x: x.cpu().detach().numpy()),\n",
    ")\n",
    "\n",
    "sum(\n",
    "    torch.prod(torch.Tensor(list((p.size()))))\n",
    "    for p in model.parameters()\n",
    ").item()"
   ]
  },
  {
   "cell_type": "code",
   "execution_count": 10,
   "metadata": {},
   "outputs": [
    {
     "data": {
      "text/plain": [
       "<matplotlib.image.AxesImage at 0x7efb78083d90>"
      ]
     },
     "execution_count": 10,
     "metadata": {},
     "output_type": "execute_result"
    },
    {
     "data": {
      "image/png": "[encoded data removed]",
      "text/plain": [
       "<Figure size 432x288 with 1 Axes>"
      ]
     },
     "metadata": {
      "needs_background": "light"
     },
     "output_type": "display_data"
    }
   ],
   "source": [
    "plt.imshow(predict(X.reshape(1, 28, 28)))"
   ]
  },
  {
   "cell_type": "code",
   "execution_count": 11,
   "metadata": {},
   "outputs": [],
   "source": [
    "def fit(epochs, model, next_batch, lr=0.0005):\n",
    "    history = []\n",
    "    criterion = torch.nn.BCELoss().to(DEVICE)\n",
    "    optimizer = torch.optim.Adam(params=model.parameters(), lr=lr)\n",
    "\n",
    "    t = trange(epochs)\n",
    "    for i in t:\n",
    "        optimizer.zero_grad()\n",
    "\n",
    "        X, y = next_batch()\n",
    "        logits = model(X)\n",
    "        loss = criterion(logits, y)\n",
    "\n",
    "        loss.backward()\n",
    "        optimizer.step()\n",
    "        l = loss.item()\n",
    "\n",
    "        history.append(l)\n",
    "        t.set_description('Loss: %.8f' % l)\n",
    "        t.refresh()\n",
    "\n",
    "    return history"
   ]
  },
  {
   "cell_type": "code",
   "execution_count": 12,
   "metadata": {},
   "outputs": [
    {
     "name": "stderr",
     "output_type": "stream",
     "text": [
      "Loss: 0.40018404: 100%|██████████| 100/100 [00:09<00:00, 10.42it/s]\n"
     ]
    }
   ],
   "source": [
    "history = fit(100, model=train, next_batch=next_batch)"
   ]
  },
  {
   "cell_type": "code",
   "execution_count": 13,
   "metadata": {},
   "outputs": [
    {
     "data": {
      "text/plain": [
       "[<matplotlib.lines.Line2D at 0x7efb70151150>]"
      ]
     },
     "execution_count": 13,
     "metadata": {},
     "output_type": "execute_result"
    },
    {
     "data": {
      "image/png": "[encoded data removed]",
      "text/plain": [
       "<Figure size 432x288 with 1 Axes>"
      ]
     },
     "metadata": {
      "needs_background": "light"
     },
     "output_type": "display_data"
    }
   ],
   "source": [
    "plt.plot(history)"
   ]
  },
  {
   "cell_type": "code",
   "execution_count": 14,
   "metadata": {},
   "outputs": [
    {
     "data": {
      "text/plain": [
       "<matplotlib.image.AxesImage at 0x7efb700b7fd0>"
      ]
     },
     "execution_count": 14,
     "metadata": {},
     "output_type": "execute_result"
    },
    {
     "data": {
      "image/png": "[encoded data removed]",
      "text/plain": [
       "<Figure size 432x288 with 1 Axes>"
      ]
     },
     "metadata": {
      "needs_background": "light"
     },
     "output_type": "display_data"
    }
   ],
   "source": [
    "o = predict(X)\n",
    "plt.imshow(o)"
   ]
  },
  {
   "cell_type": "code",
   "execution_count": 15,
   "metadata": {},
   "outputs": [
    {
     "data": {
      "text/plain": [
       "<matplotlib.image.AxesImage at 0x7efb700b54d0>"
      ]
     },
     "execution_count": 15,
     "metadata": {},
     "output_type": "execute_result"
    },
    {
     "data": {
      "image/png": "[encoded data removed]",
      "text/plain": [
       "<Figure size 432x288 with 1 Axes>"
      ]
     },
     "metadata": {
      "needs_background": "light"
     },
     "output_type": "display_data"
    }
   ],
   "source": [
    "model = nn.Sequential(\n",
    "    LambdaLayer(lambda x: x.reshape(1, -1, 1)),\n",
    "    RNN(1, 256),\n",
    "    nn.Linear(256, 1),\n",
    "    nn.Sigmoid(),\n",
    ").to(DEVICE)\n",
    "\n",
    "train = nn.Sequential(\n",
    "    model,\n",
    "    LambdaLayer(lambda x: x.reshape(1, 28, 28)),\n",
    ")\n",
    "\n",
    "predict = nn.Sequential(\n",
    "    model,\n",
    "    LambdaLayer(lambda x: x.reshape(28, 28)),\n",
    "    LambdaLayer(lambda x: x.cpu().detach().numpy()),\n",
    ")\n",
    "\n",
    "sum(\n",
    "    torch.prod(torch.Tensor(list((p.size()))))\n",
    "    for p in model.parameters()\n",
    ").item()\n",
    "\n",
    "o = predict(X.reshape(1, 28, 28))\n",
    "plt.imshow(o)"
   ]
  },
  {
   "cell_type": "code",
   "execution_count": 16,
   "metadata": {},
   "outputs": [
    {
     "name": "stderr",
     "output_type": "stream",
     "text": [
      "Loss: 0.39654186: 100%|██████████| 100/100 [00:42<00:00,  2.38it/s]\n"
     ]
    }
   ],
   "source": [
    "history = fit(100, model=train, next_batch=next_batch)"
   ]
  },
  {
   "cell_type": "code",
   "execution_count": 17,
   "metadata": {},
   "outputs": [
    {
     "data": {
      "text/plain": [
       "<matplotlib.image.AxesImage at 0x7efb2a1f0690>"
      ]
     },
     "execution_count": 17,
     "metadata": {},
     "output_type": "execute_result"
    },
    {
     "data": {
      "image/png": "[encoded data removed]",
      "text/plain": [
       "<Figure size 432x288 with 1 Axes>"
      ]
     },
     "metadata": {
      "needs_background": "light"
     },
     "output_type": "display_data"
    }
   ],
   "source": [
    "o = predict(X)\n",
    "plt.imshow(o)"
   ]
  },
  {
   "cell_type": "code",
   "execution_count": 18,
   "metadata": {},
   "outputs": [],
   "source": [
    "def seq_skip(t, skip):\n",
    "    \"\"\"\n",
    "        Make skips in the seq dimension by moving them in the batch dimension.\n",
    "        Example:\n",
    "            t = torch.arange(16).reshape(4, -1)\n",
    "            t\n",
    "            >>  tensor([[ 0,  1,  2,  3],\n",
    "                        [ 4,  5,  6,  7]])\n",
    "            \n",
    "            seq_skip(t, skip=2)\n",
    "            >>  tensor([[ 0,  2],\n",
    "                        [ 1,  3],\n",
    "                        [ 4,  6],\n",
    "                        [ 5,  7]])\n",
    "    \"\"\"\n",
    "    batch_dim = 0\n",
    "    seq_dim = 1\n",
    "\n",
    "    assert t.shape[seq_dim] % skip == 0, \\\n",
    "        'seq_dim should be divisible by the skip size'\n",
    "\n",
    "    new_shape = list(t.shape)\n",
    "    new_shape[batch_dim] = new_shape[batch_dim] * skip\n",
    "    new_shape[seq_dim] = -1\n",
    "\n",
    "    return torch.cat(\n",
    "        [t[:,i::skip] for i in range(skip)],\n",
    "        dim=seq_dim\n",
    "    ).reshape(*new_shape)\n",
    "\n",
    "\n",
    "def reverse_seq_skip(skipped, skip):\n",
    "    \"\"\"Reverses the transformation of seq_skip\"\"\"\n",
    "    batch_dim = 0\n",
    "    seq_dim = 1\n",
    "\n",
    "    assert skipped.shape[batch_dim] % skip == 0, \\\n",
    "        'batch_dim should be divisible by the skip size'\n",
    "\n",
    "    old_seq_size = skipped.shape[seq_dim]\n",
    "    new_shape = list(skipped.shape)\n",
    "    new_batch_size = new_shape[batch_dim] // skip\n",
    "    new_shape[batch_dim] = new_batch_size\n",
    "    new_shape[seq_dim] = -1\n",
    "    s = skipped.reshape(*new_shape)\n",
    "\n",
    "    return torch.cat(\n",
    "        [s[:,i::old_seq_size] for i in range(old_seq_size)],\n",
    "        dim=seq_dim\n",
    "    )\n"
   ]
  },
  {
   "cell_type": "code",
   "execution_count": 20,
   "metadata": {},
   "outputs": [],
   "source": [
    "# torch.jit.script(seq_skip)"
   ]
  },
  {
   "cell_type": "code",
   "execution_count": 21,
   "metadata": {},
   "outputs": [
    {
     "data": {
      "text/plain": [
       "tensor([[ 0,  1,  2,  3,  4,  5,  6,  7],\n",
       "        [ 8,  9, 10, 11, 12, 13, 14, 15],\n",
       "        [16, 17, 18, 19, 20, 21, 22, 23],\n",
       "        [24, 25, 26, 27, 28, 29, 30, 31]])"
      ]
     },
     "execution_count": 21,
     "metadata": {},
     "output_type": "execute_result"
    }
   ],
   "source": [
    "t = torch.rand(2, 4, 2)\n",
    "t = torch.arange(32).reshape(4, -1)\n",
    "t"
   ]
  },
  {
   "cell_type": "code",
   "execution_count": 22,
   "metadata": {},
   "outputs": [
    {
     "data": {
      "text/plain": [
       "tensor([[ 0,  2,  4,  6],\n",
       "        [ 1,  3,  5,  7],\n",
       "        [ 8, 10, 12, 14],\n",
       "        [ 9, 11, 13, 15],\n",
       "        [16, 18, 20, 22],\n",
       "        [17, 19, 21, 23],\n",
       "        [24, 26, 28, 30],\n",
       "        [25, 27, 29, 31]])"
      ]
     },
     "execution_count": 22,
     "metadata": {},
     "output_type": "execute_result"
    }
   ],
   "source": [
    "skip = 2\n",
    "\n",
    "skipped = seq_skip(t, skip)\n",
    "\n",
    "skipped"
   ]
  },
  {
   "cell_type": "code",
   "execution_count": 23,
   "metadata": {},
   "outputs": [],
   "source": [
    "new_t = reverse_seq_skip(skipped, skip)\n",
    "assert torch.all(t == new_t)"
   ]
  },
  {
   "cell_type": "code",
   "execution_count": 24,
   "metadata": {},
   "outputs": [],
   "source": [
    "def verify(shape, skip):\n",
    "    expected = torch.rand(shape)\n",
    "    s = seq_skip(expected, skip)\n",
    "    actual = reverse_seq_skip(s, skip)\n",
    "    assert torch.all(actual == expected)"
   ]
  },
  {
   "cell_type": "code",
   "execution_count": 25,
   "metadata": {},
   "outputs": [
    {
     "name": "stdout",
     "output_type": "stream",
     "text": [
      "Verified!\n"
     ]
    }
   ],
   "source": [
    "verify((10, 10), 2)\n",
    "verify((16, 16), 4)\n",
    "verify((32, 16), 8)\n",
    "verify((16, 16), 16)\n",
    "verify((16, 16, 10), 4)\n",
    "verify((16, 16, 10), 2)\n",
    "verify((3, 16, 10), 16)\n",
    "verify((18, 16, 10, 10, 3), 16)\n",
    "verify((32, 16, 5 , 10, 17), 16)\n",
    "verify((31, 64, 10, 26, 2), 16)\n",
    "print('Verified!')"
   ]
  },
  {
   "cell_type": "code",
   "execution_count": 26,
   "metadata": {},
   "outputs": [],
   "source": [
    "class DRNN(nn.Module):\n",
    "    def __init__(self, cell, skip):\n",
    "        super(DRNN, self).__init__()\n",
    "        self.cell = cell\n",
    "        self.skip = skip\n",
    "\n",
    "    def forward(self, x):\n",
    "        skipped = seq_skip(x, self.skip)\n",
    "        skipped_rollout, _ = self.cell(skipped)\n",
    "        rollout = reverse_seq_skip(skipped_rollout, self.skip)\n",
    "        return rollout"
   ]
  },
  {
   "cell_type": "code",
   "execution_count": 27,
   "metadata": {},
   "outputs": [
    {
     "data": {
      "text/plain": [
       "DRNN(\n",
       "  (cell): GRU(10, 10)\n",
       ")"
      ]
     },
     "execution_count": 27,
     "metadata": {},
     "output_type": "execute_result"
    }
   ],
   "source": [
    "net = DRNN(nn.GRU(10, 10), 2)\n",
    "net"
   ]
  },
  {
   "cell_type": "code",
   "execution_count": 33,
   "metadata": {},
   "outputs": [
    {
     "data": {
      "text/plain": [
       "<matplotlib.image.AxesImage at 0x7efb2a018190>"
      ]
     },
     "execution_count": 33,
     "metadata": {},
     "output_type": "execute_result"
    },
    {
     "data": {
      "image/png": "[encoded data removed]",
      "text/plain": [
       "<Figure size 432x288 with 1 Axes>"
      ]
     },
     "metadata": {
      "needs_background": "light"
     },
     "output_type": "display_data"
    }
   ],
   "source": [
    "model = nn.Sequential(\n",
    "    LambdaLayer(lambda x: x.reshape(1, -1, 1)),\n",
    "    DRNN(nn.GRU(1, 128, num_layers=2), 16),\n",
    "    DRNN(nn.GRU(128, 128, num_layers=1), 4),\n",
    "    nn.Linear(128, 1),\n",
    "    nn.Sigmoid(),\n",
    ").to(DEVICE)\n",
    "\n",
    "train = nn.Sequential(\n",
    "    model,\n",
    "    LambdaLayer(lambda x: x.reshape(1, 28, 28)),\n",
    ")\n",
    "\n",
    "predict = nn.Sequential(\n",
    "    model,\n",
    "    LambdaLayer(lambda x: x.reshape(28, 28)),\n",
    "    LambdaLayer(lambda x: x.cpu().detach().numpy()),\n",
    ")\n",
    "\n",
    "sum(\n",
    "    torch.prod(torch.Tensor(list((p.size()))))\n",
    "    for p in model.parameters()\n",
    ").item()\n",
    "\n",
    "o = predict(X.reshape(1, 28, 28))\n",
    "plt.imshow(o)"
   ]
  },
  {
   "cell_type": "code",
   "execution_count": 36,
   "metadata": {},
   "outputs": [
    {
     "name": "stderr",
     "output_type": "stream",
     "text": [
      "Loss: 0.13852358: 100%|██████████| 500/500 [00:20<00:00, 24.22it/s]\n"
     ]
    }
   ],
   "source": [
    "history = fit(500, model=train, next_batch=next_batch)"
   ]
  },
  {
   "cell_type": "code",
   "execution_count": 37,
   "metadata": {},
   "outputs": [
    {
     "data": {
      "text/plain": [
       "[<matplotlib.lines.Line2D at 0x7efb1d613610>]"
      ]
     },
     "execution_count": 37,
     "metadata": {},
     "output_type": "execute_result"
    },
    {
     "data": {
      "image/png": "[encoded data removed]",
      "text/plain": [
       "<Figure size 432x288 with 1 Axes>"
      ]
     },
     "metadata": {
      "needs_background": "light"
     },
     "output_type": "display_data"
    }
   ],
   "source": [
    "plt.plot(history)"
   ]
  },
  {
   "cell_type": "code",
   "execution_count": 38,
   "metadata": {},
   "outputs": [
    {
     "data": {
      "text/plain": [
       "<matplotlib.image.AxesImage at 0x7efb1d6018d0>"
      ]
     },
     "execution_count": 38,
     "metadata": {},
     "output_type": "execute_result"
    },
    {
     "data": {
      "image/png": "[encoded data removed]",
      "text/plain": [
       "<Figure size 432x288 with 1 Axes>"
      ]
     },
     "metadata": {
      "needs_background": "light"
     },
     "output_type": "display_data"
    }
   ],
   "source": [
    "o = predict(X.reshape(1, 28, 28))\n",
    "plt.imshow(o)"
   ]
  },
  {
   "cell_type": "code",
   "execution_count": null,
   "metadata": {},
   "outputs": [],
   "source": []
  }
 ],
 "metadata": {
  "kernelspec": {
   "display_name": "Python 3",
   "language": "python",
   "name": "python3"
  },
  "language_info": {
   "codemirror_mode": {
    "name": "ipython",
    "version": 3
   },
   "file_extension": ".py",
   "mimetype": "text/x-python",
   "name": "python",
   "nbconvert_exporter": "python",
   "pygments_lexer": "ipython3",
   "version": "3.7.5"
  }
 },
 "nbformat": 4,
 "nbformat_minor": 4
}
