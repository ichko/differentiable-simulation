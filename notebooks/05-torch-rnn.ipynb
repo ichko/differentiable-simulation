{
 "cells": [
  {
   "cell_type": "code",
   "execution_count": 97,
   "metadata": {},
   "outputs": [
    {
     "data": {
      "text/plain": [
       "('1.4.0', True)"
      ]
     },
     "execution_count": 97,
     "metadata": {},
     "output_type": "execute_result"
    }
   ],
   "source": [
    "import torch\n",
    "import torch.nn as nn\n",
    "\n",
    "torch.__version__, torch.cuda.is_available()"
   ]
  },
  {
   "cell_type": "code",
   "execution_count": 232,
   "metadata": {},
   "outputs": [],
   "source": [
    "class RNNCell(nn.Module):\n",
    "    def __init__(self, in_size, out_size):\n",
    "        super(RNNCell, self).__init__()\n",
    "        self.linear = nn.Linear(in_size + out_size, out_size * 2)\n",
    "\n",
    "    def forward(self, x, h):\n",
    "        inp = torch.cat((x, h), dim=1)\n",
    "        out = torch.tanh(self.linear(inp))\n",
    "        y, new_h = torch.chunk(out, 2, dim=1)\n",
    "        return y, new_h"
   ]
  },
  {
   "cell_type": "code",
   "execution_count": 233,
   "metadata": {},
   "outputs": [
    {
     "data": {
      "text/plain": [
       "(torch.Size([5, 20]), torch.Size([5, 20]), torch.Size([5, 10]))"
      ]
     },
     "execution_count": 233,
     "metadata": {},
     "output_type": "execute_result"
    }
   ],
   "source": [
    "cell = RNNCell(10, 20)\n",
    "cell = torch.jit.script(cell)\n",
    "\n",
    "x = torch.rand(5, 10)\n",
    "h = torch.rand(5, 20)\n",
    "\n",
    "y, h = cell(x, h)\n",
    "y.shape, h.shape, x.shape"
   ]
  },
  {
   "cell_type": "code",
   "execution_count": 241,
   "metadata": {},
   "outputs": [],
   "source": [
    "class RNNLoop(nn.Module):\n",
    "    def __init__(self, bs, seq_size, in_size, out_size):\n",
    "        super(RNNLoop, self).__init__()\n",
    "        self.seq_size = seq_size\n",
    "        self.bs = bs\n",
    "        self.in_size = in_size\n",
    "        self.out_size = out_size\n",
    "        self.cell = torch.jit.script(RNNCell(in_size, out_size))\n",
    "        \n",
    "    def forward(self, xs):\n",
    "        h = torch.zeros(self.bs, self.out_size)\n",
    "        y = torch.zeros(self.bs, self.out_size)\n",
    "        rollout = torch.zeros(self.bs, self.seq_size, self.out_size)\n",
    "\n",
    "        for i in range(xs.size(0)):\n",
    "            y, h = self.cell(xs[:, i], h)\n",
    "            rollout[:, i] = y\n",
    "\n",
    "        return rollout"
   ]
  },
  {
   "cell_type": "code",
   "execution_count": 246,
   "metadata": {},
   "outputs": [
    {
     "name": "stdout",
     "output_type": "stream",
     "text": [
      "def forward(self,\n",
      "    xs: Tensor) -> Tensor:\n",
      "  h = torch.zeros([self.bs, self.out_size], dtype=None, layout=None, device=None, pin_memory=None)\n",
      "  y = torch.zeros([self.bs, self.out_size], dtype=None, layout=None, device=None, pin_memory=None)\n",
      "  _0 = [self.bs, self.seq_size, self.out_size]\n",
      "  rollout = torch.zeros(_0, dtype=None, layout=None, device=None, pin_memory=None)\n",
      "  h0 = h\n",
      "  for i in range(torch.size(xs, 0)):\n",
      "    _1 = torch.slice(xs, 0, 0, 9223372036854775807, 1)\n",
      "    _2 = (self.cell).forward(torch.select(_1, 1, i), h0, )\n",
      "    y0, h1, = _2\n",
      "    _3 = torch.slice(rollout, 0, 0, 9223372036854775807, 1)\n",
      "    _4 = torch.copy_(torch.select(_3, 1, i), y0, False)\n",
      "    h0 = h1\n",
      "  return rollout\n",
      "\n"
     ]
    },
    {
     "data": {
      "text/plain": [
       "torch.Size([8, 12, 20])"
      ]
     },
     "execution_count": 246,
     "metadata": {},
     "output_type": "execute_result"
    }
   ],
   "source": [
    "bs = 8\n",
    "seq_size = 12\n",
    "in_size = 10\n",
    "out_size = 20\n",
    "\n",
    "loop = RNNLoop(bs, seq_size, in_size, out_size)\n",
    "loop = torch.jit.script(loop)\n",
    "print(loop.code)\n",
    "\n",
    "xs = torch.rand(bs, seq_size, in_size)\n",
    "loop(xs).shape"
   ]
  },
  {
   "cell_type": "code",
   "execution_count": null,
   "metadata": {},
   "outputs": [],
   "source": []
  }
 ],
 "metadata": {
  "kernelspec": {
   "display_name": "Python 3",
   "language": "python",
   "name": "python3"
  },
  "language_info": {
   "codemirror_mode": {
    "name": "ipython",
    "version": 3
   },
   "file_extension": ".py",
   "mimetype": "text/x-python",
   "name": "python",
   "nbconvert_exporter": "python",
   "pygments_lexer": "ipython3",
   "version": "3.7.5"
  }
 },
 "nbformat": 4,
 "nbformat_minor": 4
}
