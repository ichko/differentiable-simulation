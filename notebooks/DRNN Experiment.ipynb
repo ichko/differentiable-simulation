{
 "cells": [
  {
   "cell_type": "code",
   "execution_count": 1,
   "metadata": {},
   "outputs": [],
   "source": [
    "%load_ext autoreload\n",
    "%autoreload 2\n",
    "%load_ext tensorboard"
   ]
  },
  {
   "cell_type": "code",
   "execution_count": 2,
   "metadata": {},
   "outputs": [
    {
     "data": {
      "text/html": [
       "<style>.container { width: 90% !important; }</style>"
      ],
      "text/plain": [
       "<IPython.core.display.HTML object>"
      ]
     },
     "metadata": {},
     "output_type": "display_data"
    }
   ],
   "source": [
    "from IPython.core.display import display, HTML\n",
    "display(HTML(\"<style>.container { width: 90% !important; }</style>\"))"
   ]
  },
  {
   "cell_type": "code",
   "execution_count": 3,
   "metadata": {},
   "outputs": [],
   "source": [
    "import sys\n",
    "\n",
    "additional_paths = ['../']\n",
    "\n",
    "for path in additional_paths:\n",
    "    if path not in sys.path:\n",
    "        sys.path.append(path)"
   ]
  },
  {
   "cell_type": "code",
   "execution_count": 4,
   "metadata": {},
   "outputs": [
    {
     "data": {
      "text/plain": [
       "'2.0.0'"
      ]
     },
     "execution_count": 4,
     "metadata": {},
     "output_type": "execute_result"
    }
   ],
   "source": [
    "import utils.pong\n",
    "import utils.drnn_model\n",
    "import utils.visualization\n",
    "import utils.tf_helpers\n",
    "\n",
    "import tensorflow as tf\n",
    "import numpy as np\n",
    "import matplotlib.pyplot as plt\n",
    "\n",
    "import sacred\n",
    "\n",
    "tf.__version__"
   ]
  },
  {
   "cell_type": "code",
   "execution_count": 5,
   "metadata": {},
   "outputs": [],
   "source": [
    "ex = sacred.Experiment(name='DRNN-3L Experiment', interactive=True)"
   ]
  },
  {
   "cell_type": "code",
   "execution_count": 6,
   "metadata": {},
   "outputs": [],
   "source": [
    "@ex.capture\n",
    "def make_dataset(bs, W, H, SEQ_LEN):\n",
    "    stateful_pong_generator = utils.pong.StatefulPongGenerator(W, H, SEQ_LEN)\n",
    "\n",
    "\n",
    "    def data_input():\n",
    "        for (d, c), (f, g) in stateful_pong_generator:\n",
    "            stateful_pong_generator.stochasticity = np.random.uniform(0, 1)\n",
    "            yield (d, c), f\n",
    "\n",
    "    return tf.data.Dataset.from_generator(\n",
    "        data_input,\n",
    "        output_types=((tf.float32, tf.float32), tf.float32),\n",
    "    ).take(8000).cache().repeat().batch(bs).prefetch(tf.data.experimental.AUTOTUNE)"
   ]
  },
  {
   "cell_type": "code",
   "execution_count": 7,
   "metadata": {},
   "outputs": [],
   "source": [
    "@ex.config\n",
    "def config():\n",
    "    SEQ_LEN = 256\n",
    "    W, H = 40, 40\n",
    "    internal_size = 32\n",
    "    batch_size = 128\n",
    "    steps_per_epoch = 128\n",
    "    lr = 0.005\n",
    "    weight_decay = 0.0001\n",
    "    should_preload_model = True"
   ]
  },
  {
   "cell_type": "code",
   "execution_count": 8,
   "metadata": {},
   "outputs": [],
   "source": [
    "def on_batch_begin(model):\n",
    "    utils.visualization.plot_pairwise_frames(\n",
    "        sampler=lambda: list(make_dataset(1).take(1))[0],\n",
    "        hypotheses=lambda x: model.net.predict(x)[0]\n",
    "    )\n",
    "    \n",
    "    if 'loss' in model.net.history.history:\n",
    "        loss = model.net.history.history['loss'][-1]\n",
    "        ex.log_scalar('loss', loss)\n",
    "\n",
    "    pred_rollout_name = 'pred_rollout.png'\n",
    "    plt.savefig(pred_rollout_name)\n",
    "    ex.add_artifact(pred_rollout_name)\n",
    "    plt.show()"
   ]
  },
  {
   "cell_type": "code",
   "execution_count": 9,
   "metadata": {},
   "outputs": [],
   "source": [
    "@ex.main\n",
    "def main(\n",
    "    SEQ_LEN,\n",
    "    W, H,\n",
    "    internal_size,\n",
    "    batch_size,\n",
    "    steps_per_epoch,\n",
    "    lr,\n",
    "    weight_decay,\n",
    "    should_preload_model,\n",
    "):\n",
    "    #### Model\n",
    "    model = utils.drnn_model.DRNN(internal_size=internal_size, W=W, H=H, lr=lr, weight_decay=weight_decay)\n",
    "    model.net.summary()\n",
    "\n",
    "    model_img_name = 'model.png'\n",
    "    tf.keras.utils.plot_model(model.net, to_file=model_img_name, show_shapes=True, expand_nested=False, rankdir='TB', dpi=90)\n",
    "    ex.add_artifact(model_img_name)\n",
    "    \n",
    "    #### Callbacks\n",
    "    callbacks = [\n",
    "        utils.tf_helpers.model_persistor(\n",
    "            model,\n",
    "            should_preload_model=should_preload_model,\n",
    "            cp_file_name='cp-drnn-{epoch:0004d}-{loss:.5f}.hdf5'\n",
    "        ),\n",
    "        utils.tf_helpers.on_batch_begin(lambda: on_batch_begin(model)),\n",
    "        model.tb_callback,\n",
    "    ]\n",
    "    \n",
    "    #### Training\n",
    "    input_generator = make_dataset(bs=batch_size)\n",
    "    model.net.fit_generator(\n",
    "        generator=input_generator,\n",
    "        validation_data=input_generator,\n",
    "        validation_steps=2,\n",
    "        steps_per_epoch=steps_per_epoch,\n",
    "        epochs=2000,\n",
    "        callbacks=callbacks\n",
    "    )"
   ]
  },
  {
   "cell_type": "code",
   "execution_count": null,
   "metadata": {
    "scrolled": true
   },
   "outputs": [
    {
     "name": "stderr",
     "output_type": "stream",
     "text": [
      "WARNING - DRNN-3L Experiment - No observers have been added to this run\n",
      "INFO - DRNN-3L Experiment - Running command 'main'\n",
      "INFO - DRNN-3L Experiment - Started\n"
     ]
    },
    {
     "name": "stdout",
     "output_type": "stream",
     "text": [
      "Model: \"model\"\n",
      "__________________________________________________________________________________________________\n",
      "Layer (type)                    Output Shape         Param #     Connected to                     \n",
      "==================================================================================================\n",
      "game_init (InputLayer)          [(None, 1)]          0                                            \n",
      "__________________________________________________________________________________________________\n",
      "user_input (InputLayer)         [(None, None, 2)]    0                                            \n",
      "__________________________________________________________________________________________________\n",
      "polar_to_cartesian (Lambda)     (None, 2)            0           game_init[0][0]                  \n",
      "__________________________________________________________________________________________________\n",
      "space_to_batch_gru1 (Lambda)    (None, None, 2)      0           user_input[0][0]                 \n",
      "__________________________________________________________________________________________________\n",
      "project_activation (Dense)      (None, 32)           96          polar_to_cartesian[0][0]         \n",
      "__________________________________________________________________________________________________\n",
      "rnn_gru_gru1 (GRU)              (None, None, 32)     3456        space_to_batch_gru1[0][0]        \n",
      "                                                                 project_activation[0][0]         \n",
      "__________________________________________________________________________________________________\n",
      "batch_norm_gru1 (BatchNormaliza (None, None, 32)     128         rnn_gru_gru1[0][0]               \n",
      "__________________________________________________________________________________________________\n",
      "batch_to_space_gru1 (Lambda)    (None, None, 32)     0           batch_norm_gru1[0][0]            \n",
      "__________________________________________________________________________________________________\n",
      "space_to_batch_gru2 (Lambda)    (None, None, 32)     0           batch_to_space_gru1[0][0]        \n",
      "__________________________________________________________________________________________________\n",
      "rnn_gru_gru2 (GRU)              (None, None, 32)     6336        space_to_batch_gru2[0][0]        \n",
      "__________________________________________________________________________________________________\n",
      "batch_norm_gru2 (BatchNormaliza (None, None, 32)     128         rnn_gru_gru2[0][0]               \n",
      "__________________________________________________________________________________________________\n",
      "batch_to_space_gru2 (Lambda)    (None, None, 32)     0           batch_norm_gru2[0][0]            \n",
      "__________________________________________________________________________________________________\n",
      "space_to_batch_gru3 (Lambda)    (None, None, 32)     0           batch_to_space_gru2[0][0]        \n",
      "__________________________________________________________________________________________________\n",
      "rnn_gru_gru3 (GRU)              (None, None, 32)     6336        space_to_batch_gru3[0][0]        \n",
      "__________________________________________________________________________________________________\n",
      "batch_norm_gru3 (BatchNormaliza (None, None, 32)     128         rnn_gru_gru3[0][0]               \n",
      "__________________________________________________________________________________________________\n",
      "batch_to_space_gru3 (Lambda)    (None, None, 32)     0           batch_norm_gru3[0][0]            \n",
      "__________________________________________________________________________________________________\n",
      "space_to_batch_gru4 (Lambda)    (None, None, 32)     0           batch_to_space_gru3[0][0]        \n",
      "__________________________________________________________________________________________________\n",
      "rnn_gru_gru4 (GRU)              (None, None, 32)     6336        space_to_batch_gru4[0][0]        \n",
      "__________________________________________________________________________________________________\n",
      "batch_norm_gru4 (BatchNormaliza (None, None, 32)     128         rnn_gru_gru4[0][0]               \n",
      "__________________________________________________________________________________________________\n",
      "batch_to_space_gru4 (Lambda)    (None, None, 32)     0           batch_norm_gru4[0][0]            \n",
      "__________________________________________________________________________________________________\n",
      "frame_vector (Dense)            (None, None, 1600)   52800       batch_to_space_gru4[0][0]        \n",
      "__________________________________________________________________________________________________\n",
      "frame_matrix (Reshape)          (None, None, 40, 40) 0           frame_vector[0][0]               \n",
      "==================================================================================================\n",
      "Total params: 75,872\n",
      "Trainable params: 75,616\n",
      "Non-trainable params: 256\n",
      "__________________________________________________________________________________________________\n"
     ]
    },
    {
     "data": {
      "image/png": "[encoded data removed]",
      "text/plain": [
       "<Figure size 1440x288 with 20 Axes>"
      ]
     },
     "metadata": {
      "needs_background": "light"
     },
     "output_type": "display_data"
    },
    {
     "name": "stdout",
     "output_type": "stream",
     "text": [
      "Epoch 1/2000\n",
      " 15/128 [==>...........................] - ETA: 2:01 - loss: 0.0792 - mse: 0.0219"
     ]
    }
   ],
   "source": [
    "# ex.observers.append(sacred.observers.MongoObserver())\n",
    "ex.run(config_updates={'should_preload_model': True})"
   ]
  },
  {
   "cell_type": "code",
   "execution_count": null,
   "metadata": {},
   "outputs": [],
   "source": []
  },
  {
   "cell_type": "code",
   "execution_count": null,
   "metadata": {},
   "outputs": [],
   "source": [
    "x = tf.random.uniform((5, 10, 10, 1))\n",
    "x = tf.keras.layers.Conv2DTranspose(32, (2, 2), strides=(2, 2))(x)\n",
    "x = tf.keras.layers.Conv2DTranspose(64, (2, 2), strides=(2, 2))(x)\n",
    "x.shape"
   ]
  }
 ],
 "metadata": {
  "kernelspec": {
   "display_name": "Python 3",
   "language": "python",
   "name": "python3"
  },
  "language_info": {
   "codemirror_mode": {
    "name": "ipython",
    "version": 3
   },
   "file_extension": ".py",
   "mimetype": "text/x-python",
   "name": "python",
   "nbconvert_exporter": "python",
   "pygments_lexer": "ipython3",
   "version": "3.7.5"
  }
 },
 "nbformat": 4,
 "nbformat_minor": 2
}
