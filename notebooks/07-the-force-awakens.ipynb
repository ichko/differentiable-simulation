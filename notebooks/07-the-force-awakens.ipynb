{
 "cells": [
  {
   "cell_type": "code",
   "execution_count": 1,
   "metadata": {},
   "outputs": [
    {
     "data": {
      "text/html": [
       "<style>.container { width: 90% !important; }</style>"
      ],
      "text/plain": [
       "<IPython.core.display.HTML object>"
      ]
     },
     "metadata": {},
     "output_type": "display_data"
    }
   ],
   "source": [
    "%load_ext autoreload\n",
    "%autoreload 2\n",
    "\n",
    "from IPython.core.display import display, HTML\n",
    "display(HTML(\"<style>.container { width: 90% !important; }</style>\"))"
   ]
  },
  {
   "cell_type": "code",
   "execution_count": 2,
   "metadata": {},
   "outputs": [
    {
     "data": {
      "text/plain": [
       "('1.3.1', True)"
      ]
     },
     "execution_count": 2,
     "metadata": {},
     "output_type": "execute_result"
    }
   ],
   "source": [
    "import IPython\n",
    "from IPython.display import display\n",
    "\n",
    "import io\n",
    "import time\n",
    "import random\n",
    "\n",
    "import numpy as np\n",
    "import matplotlib.pyplot as plt\n",
    "from tqdm.notebook import tqdm, trange\n",
    "import PIL\n",
    "import cv2\n",
    "\n",
    "import sneks\n",
    "import gym\n",
    "\n",
    "import torch\n",
    "import torch.nn as nn\n",
    "\n",
    "DEVICE = 'cpu'\n",
    "\n",
    "torch.__version__, torch.cuda.is_available()"
   ]
  },
  {
   "cell_type": "code",
   "execution_count": 286,
   "metadata": {},
   "outputs": [
    {
     "data": {
      "text/plain": [
       "(Discrete(4), Box(16, 16, 3))"
      ]
     },
     "execution_count": 286,
     "metadata": {},
     "output_type": "execute_result"
    }
   ],
   "source": [
    "env = gym.make('snek-rgb-16-v1')\n",
    "\n",
    "observation = env.reset()\n",
    "action = env.action_space.sample()\n",
    "observation, reward, done, info = env.step(action)\n",
    "\n",
    "env.action_space, env.observation_space"
   ]
  },
  {
   "cell_type": "code",
   "execution_count": 287,
   "metadata": {},
   "outputs": [],
   "source": [
    "# https://github.com/NicksonYap/Jupyter-Webcam/blob/master/Realtime_video_ipython_py3.ipynb\n",
    "def show_array(a, prev_display_id=None, fmt='jpeg'):\n",
    "    f = io.BytesIO()\n",
    "    PIL.Image.fromarray(a).save(f, fmt)\n",
    "    obj = IPython.display.Image(data=f.getvalue())\n",
    "    IPython.display.display(obj)"
   ]
  },
  {
   "cell_type": "code",
   "execution_count": 439,
   "metadata": {},
   "outputs": [],
   "source": [
    "def show_live_env(env, controller, duration=100, fps=100):\n",
    "    try:\n",
    "        total_frames = 0\n",
    "        \n",
    "        while True:\n",
    "            f = 0\n",
    "            obs = env.reset()\n",
    "            prev_obs = None\n",
    "\n",
    "            while True:\n",
    "                total_frames += 1\n",
    "                IPython.display.clear_output(wait=True)\n",
    "                time.sleep(1 / fps)\n",
    "                f += 1\n",
    "\n",
    "                action = controller(obs)\n",
    "                obs, reward, done, _ = env.step(action)\n",
    "                frame = env.render('rgb_array')\n",
    "                show_array(frame)\n",
    "#                 if reward > 0:\n",
    "#                     plt.imshow(prev_obs)\n",
    "#                     time.sleep(1)\n",
    "                    \n",
    "                prev_obs = obs\n",
    "                \n",
    "                if done: break\n",
    "                if total_frames >= duration: return\n",
    "\n",
    "    except KeyboardInterrupt:\n",
    "        show_array(frame) # show last frame\n",
    "        print('stream interrupted')"
   ]
  },
  {
   "cell_type": "code",
   "execution_count": 440,
   "metadata": {
    "scrolled": false
   },
   "outputs": [
    {
     "data": {
      "image/jpeg": "[encoded data removed]",
      "text/plain": [
       "<IPython.core.display.Image object>"
      ]
     },
     "metadata": {},
     "output_type": "display_data"
    },
    {
     "name": "stdout",
     "output_type": "stream",
     "text": [
      "stream interrupted\n"
     ]
    }
   ],
   "source": [
    "show_live_env(env, lambda o: env.action_space.sample(), duration=80, fps=20000)"
   ]
  },
  {
   "cell_type": "markdown",
   "metadata": {},
   "source": [
    "# Utils"
   ]
  },
  {
   "cell_type": "code",
   "execution_count": 441,
   "metadata": {},
   "outputs": [],
   "source": [
    "# https://github.com/cyoon1729/deep-Q-networks/blob/master/vanillaDQN/dqn.py#L51\n",
    "def dqn_loss(model, batch):\n",
    "    criterion = nn.MSELoss()\n",
    "\n",
    "    obs, actions, rewards, next_obs = batch\n",
    "    obs = torch.FloatTensor(obs).to(DEVICE)\n",
    "    actions = torch.LongTensor(actions).to(DEVICE)\n",
    "    rewards = torch.FloatTensor(rewards).to(DEVICE)\n",
    "    next_obs = torch.FloatTensor(next_obs).to(DEVICE)\n",
    "\n",
    "    q_vals = model(obs).index_select(dim=1, index=actions)[0]\n",
    "    next_q_vals = model(next_obs).max(dim=1)[0]\n",
    "    target_q_vals = next_q_vals * discount + rewards\n",
    "\n",
    "    return criterion(q_vals, target_q_vals)"
   ]
  },
  {
   "cell_type": "code",
   "execution_count": 539,
   "metadata": {},
   "outputs": [],
   "source": [
    "def dense(i, o, a=nn.Sigmoid):\n",
    "    l = nn.Linear(i, o)\n",
    "    return nn.Sequential(l, a())\n",
    "\n",
    "def lam(func):\n",
    "    class Lambda(nn.Module):\n",
    "        def forward(self, *args):\n",
    "            return func(*args)\n",
    "\n",
    "    return Lambda()"
   ]
  },
  {
   "cell_type": "code",
   "execution_count": 543,
   "metadata": {},
   "outputs": [],
   "source": [
    "# net = nn.Sequential(\n",
    "#     lam(lambda x: x.permute(0, 3, 1, 2)),\n",
    "#     nn.Conv2d(3, 32, kernel_size=2, stride=2),\n",
    "#     nn.ReLU(),\n",
    "#     nn.Conv2d(32, 64, kernel_size=3, stride=4),\n",
    "#     nn.ReLU(),\n",
    "#     nn.Flatten(),\n",
    "#     nn.Linear(256, 64),\n",
    "#     nn.ReLU(),\n",
    "#     nn.Linear(64, 4),\n",
    "# )\n",
    "\n",
    "# t = torch.rand(4, 16, 16, 3)\n",
    "# net(t).shape"
   ]
  },
  {
   "cell_type": "markdown",
   "metadata": {},
   "source": [
    "# Model"
   ]
  },
  {
   "cell_type": "code",
   "execution_count": 530,
   "metadata": {},
   "outputs": [],
   "source": [
    "obs_size = 16 * 16 * 3\n",
    "num_actions = 4\n",
    "hidden_dim = 512\n",
    "discount = 0.999\n",
    "\n",
    "class DQN(nn.Module):\n",
    "    def __init__(self):\n",
    "        super(DQN, self).__init__()\n",
    "\n",
    "        self.net = nn.Sequential(\n",
    "            lam(lambda x: x.permute(0, 3, 1, 2)),\n",
    "            nn.Conv2d(3, 32, kernel_size=2, stride=2),\n",
    "            nn.ReLU(),\n",
    "            nn.Conv2d(32, 64, kernel_size=3, stride=4),\n",
    "            nn.ReLU(),\n",
    "            nn.Flatten(),\n",
    "            nn.Linear(256, 64),\n",
    "            nn.ReLU(),\n",
    "            nn.Linear(64, 4),\n",
    "        ).to(DEVICE)\n",
    "\n",
    "        self.optimizer = torch.optim.Adam(params=self.parameters(), lr=0.001)\n",
    "\n",
    "    def forward(self, obs):\n",
    "        return self.net(obs)\n",
    "        \n",
    "    def get_max_action(self, obs):\n",
    "        obs = obs[np.newaxis, ...] / 255\n",
    "        obs = torch.FloatTensor(obs).to(DEVICE)\n",
    "        q_vals = self.net(obs)[0]\n",
    "\n",
    "        return q_vals.argmax().cpu().detach().numpy()\n",
    "\n",
    "\n",
    "dqn = DQN()"
   ]
  },
  {
   "cell_type": "code",
   "execution_count": 531,
   "metadata": {},
   "outputs": [
    {
     "data": {
      "image/jpeg": "[encoded data removed]",
      "text/plain": [
       "<IPython.core.display.Image object>"
      ]
     },
     "metadata": {},
     "output_type": "display_data"
    }
   ],
   "source": [
    "def dqn_controller(obs):\n",
    "    return dqn.get_max_action(obs)\n",
    "\n",
    "show_live_env(env, dqn_controller, duration=80, fps=200)"
   ]
  },
  {
   "cell_type": "markdown",
   "metadata": {},
   "source": [
    "# Experience provider"
   ]
  },
  {
   "cell_type": "code",
   "execution_count": 532,
   "metadata": {},
   "outputs": [
    {
     "data": {
      "text/plain": [
       "([(100, 16, 16, 3), (100,), (100,), (100, 16, 16, 3)],\n",
       " [-1.0, -1.0, -1.0, -1.0, -1.0, -1.0, 0.0])"
      ]
     },
     "execution_count": 532,
     "metadata": {},
     "output_type": "execute_result"
    }
   ],
   "source": [
    "from collections import deque\n",
    "\n",
    "def get_experience_generator(env, model, bs, greediness):\n",
    "    max_rollout_steps = 1000\n",
    "    buffer_size = 100_000\n",
    "    ee_tradeoff = 0.5\n",
    "\n",
    "    episode_rewards = []\n",
    "    experience_pool = deque(maxlen=buffer_size)\n",
    "\n",
    "    while True:\n",
    "        obs = env.reset()\n",
    "        done = False\n",
    "        step = 0\n",
    "        episode_rewards.append(0)\n",
    "\n",
    "        while not done and step < max_rollout_steps:\n",
    "            step += 1\n",
    "\n",
    "            use_model = random.random() < greediness\n",
    "            if use_model:\n",
    "                action = model.get_max_action(obs)\n",
    "            else:\n",
    "                action = env.action_space.sample()\n",
    "\n",
    "            next_obs, reward, done, _info = env.step(action)\n",
    "            experience_pool.append((obs / 255, action, reward, next_obs / 255))\n",
    "\n",
    "            obs = next_obs\n",
    "            episode_rewards[-1] += reward\n",
    "\n",
    "            if len(experience_pool) >= bs:\n",
    "                batch = random.sample(experience_pool, bs)\n",
    "                yield [np.array(t) for t in zip(*batch)], episode_rewards\n",
    "\n",
    "\n",
    "generator = get_experience_generator(env, dqn, bs=100, greediness=0)\n",
    "batch, episode_rewards = next(generator)\n",
    "[t.shape for t in batch], episode_rewards"
   ]
  },
  {
   "cell_type": "markdown",
   "metadata": {},
   "source": [
    "# Training"
   ]
  },
  {
   "cell_type": "code",
   "execution_count": 533,
   "metadata": {},
   "outputs": [],
   "source": [
    "def dqn_optimize(env, model, its, next_batch):\n",
    "    tr = trange(its, bar_format='{bar} {desc}')\n",
    "\n",
    "    for i in tr:\n",
    "        batch, episode_rewards = next(next_batch)\n",
    "\n",
    "        model.optimizer.zero_grad()\n",
    "        loss = dqn_loss(model, batch)\n",
    "        loss.backward()\n",
    "        model.optimizer.step()\n",
    "\n",
    "        description = [\n",
    "            'it %i/%i' % (i + 1, its),\n",
    "            'loss: %.6f' % loss.item(),\n",
    "            'moving avg episodes: %.2f' % np.mean(episode_rewards[-100:])\n",
    "        ]\n",
    "\n",
    "        tr.set_description(' | '.join(description))"
   ]
  },
  {
   "cell_type": "code",
   "execution_count": 534,
   "metadata": {
    "scrolled": true
   },
   "outputs": [
    {
     "data": {
      "application/vnd.jupyter.widget-view+json": {
       "model_id": "e8ed30f147a7408280fb093d30790cd8",
       "version_major": 2,
       "version_minor": 0
      },
      "text/plain": [
       "HBox(children=(FloatProgress(value=0.0, max=3000.0), HTML(value='')))"
      ]
     },
     "metadata": {},
     "output_type": "display_data"
    },
    {
     "name": "stdout",
     "output_type": "stream",
     "text": [
      "\n"
     ]
    }
   ],
   "source": [
    "dqn_optimize(\n",
    "    env=env,\n",
    "    model=dqn,\n",
    "    its=3000,\n",
    "    next_batch=get_experience_generator(\n",
    "        env,\n",
    "        dqn,\n",
    "        bs=128,\n",
    "        greediness=0.2,\n",
    "    ),\n",
    ")"
   ]
  },
  {
   "cell_type": "code",
   "execution_count": 544,
   "metadata": {},
   "outputs": [
    {
     "data": {
      "image/jpeg": "[encoded data removed]",
      "text/plain": [
       "<IPython.core.display.Image object>"
      ]
     },
     "metadata": {},
     "output_type": "display_data"
    },
    {
     "name": "stdout",
     "output_type": "stream",
     "text": [
      "stream interrupted\n"
     ]
    }
   ],
   "source": [
    "show_live_env(env, dqn_controller, duration=800, fps=80)"
   ]
  },
  {
   "cell_type": "code",
   "execution_count": null,
   "metadata": {},
   "outputs": [],
   "source": []
  },
  {
   "cell_type": "code",
   "execution_count": null,
   "metadata": {},
   "outputs": [],
   "source": []
  },
  {
   "cell_type": "code",
   "execution_count": null,
   "metadata": {},
   "outputs": [],
   "source": []
  },
  {
   "cell_type": "code",
   "execution_count": null,
   "metadata": {},
   "outputs": [],
   "source": []
  },
  {
   "cell_type": "code",
   "execution_count": null,
   "metadata": {},
   "outputs": [],
   "source": []
  },
  {
   "cell_type": "code",
   "execution_count": null,
   "metadata": {},
   "outputs": [],
   "source": []
  },
  {
   "cell_type": "code",
   "execution_count": null,
   "metadata": {},
   "outputs": [],
   "source": []
  },
  {
   "cell_type": "code",
   "execution_count": null,
   "metadata": {},
   "outputs": [],
   "source": []
  }
 ],
 "metadata": {
  "kernelspec": {
   "display_name": "Python 3.7.5 64-bit ('base': conda)",
   "language": "python",
   "name": "python37564bitbaseconda450f1bc47f8a4f9f9c4b21d2d568ed8a"
  },
  "language_info": {
   "codemirror_mode": {
    "name": "ipython",
    "version": 3
   },
   "file_extension": ".py",
   "mimetype": "text/x-python",
   "name": "python",
   "nbconvert_exporter": "python",
   "pygments_lexer": "ipython3",
   "version": "3.7.5"
  }
 },
 "nbformat": 4,
 "nbformat_minor": 2
}
