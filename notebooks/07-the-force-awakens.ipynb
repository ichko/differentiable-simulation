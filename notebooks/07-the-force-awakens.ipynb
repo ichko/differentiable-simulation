{
 "cells": [
  {
   "cell_type": "code",
   "execution_count": 3,
   "metadata": {},
   "outputs": [
    {
     "data": {
      "text/html": [
       "<style>.container { width: 90% !important; }</style>"
      ],
      "text/plain": [
       "<IPython.core.display.HTML object>"
      ]
     },
     "execution_count": 3,
     "metadata": {},
     "output_type": "execute_result"
    }
   ],
   "source": [
    "%load_ext autoreload\n",
    "%autoreload 2\n",
    "\n",
    "from IPython.core.display import HTML\n",
    "HTML(\"<style>.container { width: 90% !important; }</style>\")"
   ]
  },
  {
   "cell_type": "code",
   "execution_count": 4,
   "metadata": {},
   "outputs": [
    {
     "data": {
      "text/plain": [
       "('1.3.1', 'cuda', '0.17.1')"
      ]
     },
     "execution_count": 4,
     "metadata": {},
     "output_type": "execute_result"
    }
   ],
   "source": [
    "import IPython\n",
    "\n",
    "import io\n",
    "import time\n",
    "import random\n",
    "\n",
    "import numpy as np\n",
    "import matplotlib.pyplot as plt\n",
    "from tqdm.notebook import tqdm, trange\n",
    "import PIL\n",
    "import cv2\n",
    "\n",
    "import sneks\n",
    "import gym\n",
    "\n",
    "import torch\n",
    "import torch.nn as nn\n",
    "\n",
    "plt.style.use('default')\n",
    "\n",
    "DEVICE = 'cuda' if torch.cuda.is_available() else 'cpu'\n",
    "\n",
    "torch.__version__, DEVICE, gym.__version__"
   ]
  },
  {
   "cell_type": "code",
   "execution_count": 5,
   "metadata": {},
   "outputs": [],
   "source": [
    "# Necessary to display cartpole and other envs headlessly\n",
    "# https://stackoverflow.com/a/47968021\n",
    "from pyvirtualdisplay.smartdisplay import SmartDisplay as Display"
   ]
  },
  {
   "cell_type": "code",
   "execution_count": 6,
   "metadata": {},
   "outputs": [
    {
     "data": {
      "text/plain": [
       "(4, 2, (-inf, inf))"
      ]
     },
     "execution_count": 6,
     "metadata": {},
     "output_type": "execute_result"
    }
   ],
   "source": [
    "# env = gym.make('snek-rgb-16-v1')\n",
    "env = gym.make('CartPole-v1')\n",
    "\n",
    "observation = env.reset()\n",
    "action = env.action_space.sample()\n",
    "observation, reward, done, info = env.step(action)\n",
    "\n",
    "num_actions = env.action_space.n\n",
    "obs_size = np.prod(env.observation_space.shape)\n",
    "\n",
    "obs_size, num_actions, env.reward_range"
   ]
  },
  {
   "cell_type": "code",
   "execution_count": 7,
   "metadata": {},
   "outputs": [],
   "source": [
    "# env.unwrapped.unwrapped.get_action_meanings()"
   ]
  },
  {
   "cell_type": "code",
   "execution_count": 8,
   "metadata": {},
   "outputs": [],
   "source": [
    "# https://github.com/NicksonYap/Jupyter-Webcam/blob/master/Realtime_video_ipython_py3.ipynb\n",
    "def show_array(a, prev_display_id=None, fmt='jpeg'):\n",
    "    f = io.BytesIO()\n",
    "    PIL.Image.fromarray(a).save(f, fmt)\n",
    "    obj = IPython.display.Image(data=f.getvalue())\n",
    "    IPython.display.display(obj)"
   ]
  },
  {
   "cell_type": "code",
   "execution_count": 9,
   "metadata": {},
   "outputs": [],
   "source": [
    "def show_live_env(env, controller, duration=100, fps=100):\n",
    "    display = Display(visible=0, size=(1400, 900))\n",
    "    display.start()\n",
    "    total_frames = 0\n",
    "    try:\n",
    "        while True:\n",
    "            f = 0\n",
    "            obs = env.reset()\n",
    "            prev_obs = None\n",
    "\n",
    "            while True:\n",
    "                time.sleep(1 / fps)\n",
    "                IPython.display.clear_output(wait=True)\n",
    "                total_frames += 1\n",
    "                f += 1\n",
    "\n",
    "                action = controller(obs)\n",
    "                obs, reward, done, _ = env.step(action)\n",
    "                frame = env.render('rgb_array')\n",
    "                frame = cv2.resize(frame, (256, 265))\n",
    "                show_array(frame)\n",
    "                if total_frames >= duration: return\n",
    "                if done: break\n",
    "\n",
    "    except KeyboardInterrupt:\n",
    "        print('stream interrupted')\n",
    "\n",
    "    finally:\n",
    "        display.stop()\n",
    "        show_array(frame) # show last frame"
   ]
  },
  {
   "cell_type": "code",
   "execution_count": 10,
   "metadata": {},
   "outputs": [
    {
     "data": {
      "image/jpeg": "[encoded data removed]",
      "text/plain": [
       "<IPython.core.display.Image object>"
      ]
     },
     "metadata": {},
     "output_type": "display_data"
    },
    {
     "data": {
      "image/jpeg": "[encoded data removed]",
      "text/plain": [
       "<IPython.core.display.Image object>"
      ]
     },
     "metadata": {},
     "output_type": "display_data"
    }
   ],
   "source": [
    "show_live_env(env, lambda o: env.action_space.sample(), duration=100, fps=200)"
   ]
  },
  {
   "cell_type": "markdown",
   "metadata": {},
   "source": [
    "# Utils"
   ]
  },
  {
   "cell_type": "code",
   "execution_count": 9,
   "metadata": {},
   "outputs": [],
   "source": [
    "def dense(i, o, a=nn.Sigmoid):\n",
    "    l = nn.Linear(i, o)\n",
    "    return nn.Sequential(l, a())\n",
    "\n",
    "def lam(func):\n",
    "    class Lambda(nn.Module):\n",
    "        def forward(self, *args):\n",
    "            return func(*args)\n",
    "\n",
    "    return Lambda()"
   ]
  },
  {
   "cell_type": "code",
   "execution_count": 10,
   "metadata": {},
   "outputs": [],
   "source": [
    "# net = nn.Sequential(\n",
    "#     lam(lambda x: x.permute(0, 3, 1, 2)),\n",
    "#     nn.Conv2d(3, 128, kernel_size=2, stride=1),\n",
    "#     nn.ReLU(),\n",
    "#     nn.Conv2d(128, 128, kernel_size=2, stride=1),\n",
    "#     nn.ReLU(),\n",
    "#     nn.Conv2d(128, 64, kernel_size=3, stride=1),\n",
    "#     nn.ReLU(),\n",
    "#     nn.Conv2d(64, 32, kernel_size=3, stride=1),\n",
    "#     nn.ReLU(),\n",
    "#     nn.Conv2d(32, 16, kernel_size=4, stride=2),\n",
    "#     nn.ReLU(),\n",
    "#     nn.Flatten(),\n",
    "#     nn.Linear(256, 32),\n",
    "#     nn.ReLU(),\n",
    "#     nn.Linear(32, 4),\n",
    "# )\n",
    "\n",
    "# t = torch.rand(4, 16, 16, 3)\n",
    "# net(t).shape"
   ]
  },
  {
   "cell_type": "markdown",
   "metadata": {},
   "source": [
    "# Model"
   ]
  },
  {
   "cell_type": "code",
   "execution_count": 11,
   "metadata": {},
   "outputs": [],
   "source": [
    "class DQN(nn.Module):\n",
    "    def __init__(self, obs_size, num_actions):\n",
    "        super(DQN, self).__init__()\n",
    "\n",
    "        hidden_dim = 512\n",
    "        def make_dqn():\n",
    "            return nn.Sequential(\n",
    "                nn.Flatten(),\n",
    "                dense(obs_size, hidden_dim, nn.ReLU),\n",
    "                dense(hidden_dim, hidden_dim, nn.ReLU),\n",
    "                nn.Linear(hidden_dim, num_actions),\n",
    "            ).to(DEVICE)\n",
    "\n",
    "        self.eval_net = make_dqn()\n",
    "        self.target_net = make_dqn()\n",
    "\n",
    "    def forward(self, obs):\n",
    "        return self.eval_net(obs)\n",
    "\n",
    "    def get_max_action(self, obs):\n",
    "        obs = torch.FloatTensor([obs / 255]).to(DEVICE)\n",
    "\n",
    "        # with torch.no_grad():\n",
    "        q_vals = self.eval_net(obs)[0]\n",
    "\n",
    "        return q_vals.argmax().cpu().detach().numpy()\n",
    "    \n",
    "    def replace_target(self):\n",
    "        self.target_net.load_state_dict(self.eval_net.state_dict())\n",
    "\n",
    "\n",
    "dqn = DQN(obs_size, num_actions)"
   ]
  },
  {
   "cell_type": "code",
   "execution_count": 12,
   "metadata": {},
   "outputs": [],
   "source": [
    "# https://github.com/cyoon1729/deep-Q-networks/blob/master/vanillaDQN/dqn.py#L51\n",
    "def dqn_loss(i, model, batch):\n",
    "    discount = 0.999\n",
    "    criterion = nn.MSELoss()\n",
    "\n",
    "    if i % 100:\n",
    "        model.replace_target()\n",
    "\n",
    "    obs, actions, rewards, next_obs = batch\n",
    "    obs = torch.FloatTensor(obs).to(DEVICE)\n",
    "    actions = torch.LongTensor(actions).to(DEVICE)\n",
    "    rewards = torch.FloatTensor(rewards).to(DEVICE)\n",
    "    next_obs = torch.FloatTensor(next_obs).to(DEVICE)\n",
    "\n",
    "    q_vals = model(obs).index_select(dim=1, index=actions)[0]\n",
    "\n",
    "    next_q_vals = model.target_net(next_obs).max(dim=1)[0]\n",
    "    target_q_vals = next_q_vals * discount + rewards\n",
    "\n",
    "    return criterion(q_vals, target_q_vals)"
   ]
  },
  {
   "cell_type": "code",
   "execution_count": null,
   "metadata": {},
   "outputs": [],
   "source": [
    "show_live_env(env, lambda obs: dqn.get_max_action(obs), duration=80, fps=200)"
   ]
  },
  {
   "cell_type": "markdown",
   "metadata": {},
   "source": [
    "# Experience provider"
   ]
  },
  {
   "cell_type": "code",
   "execution_count": null,
   "metadata": {},
   "outputs": [],
   "source": [
    "from collections import deque\n",
    "\n",
    "def get_experience_generator(env, model, bs):\n",
    "    max_rollout_steps = 200\n",
    "    buffer_size = 100_000\n",
    "    randomness = 1\n",
    "    randomness_min = 0.05\n",
    "    randomness_decay = 0.005\n",
    "\n",
    "    episode_rewards = []\n",
    "    experience_pool = deque(maxlen=buffer_size)\n",
    "\n",
    "    while True:\n",
    "        randomness = max(randomness_min, randomness - randomness_decay)\n",
    "\n",
    "        obs = env.reset()\n",
    "        done = False\n",
    "        step = 0\n",
    "        episode_rewards.append(0)\n",
    "\n",
    "        while not done and step < max_rollout_steps:\n",
    "            step += 1\n",
    "\n",
    "            use_model = random.random() > randomness\n",
    "            if use_model:\n",
    "                action = model.get_max_action(obs)\n",
    "            else:\n",
    "                action = env.action_space.sample()\n",
    "\n",
    "            next_obs, reward, done, _info = env.step(action)\n",
    "            experience_pool.append((obs / 255, action, reward, next_obs / 255))\n",
    "\n",
    "            obs = next_obs\n",
    "            episode_rewards[-1] += reward\n",
    "\n",
    "            if len(experience_pool) >= bs:\n",
    "                batch = random.sample(experience_pool, bs)\n",
    "                yield [np.array(t) for t in zip(*batch)], episode_rewards\n",
    "\n",
    "\n",
    "generator = get_experience_generator(env, dqn, bs=100)\n",
    "batch, episode_rewards = next(generator)\n",
    "[t.shape for t in batch], episode_rewards"
   ]
  },
  {
   "cell_type": "markdown",
   "metadata": {},
   "source": [
    "# Training"
   ]
  },
  {
   "cell_type": "code",
   "execution_count": null,
   "metadata": {},
   "outputs": [],
   "source": [
    "def dqn_optimize(env, model, its, next_batch, lr):\n",
    "    tr = trange(its, bar_format=\"{bar}{l_bar}{r_bar}\")\n",
    "    fig, axs = plt.subplots(1, 2, figsize=(10, 3))\n",
    "    losses = []\n",
    "    loss_avgs = []\n",
    "    episode_ids = []\n",
    "\n",
    "    optimizer = torch.optim.Adam(params=model.eval_net.parameters(), lr=lr)\n",
    "\n",
    "    for i in tr:\n",
    "        episode_ids.append(i)\n",
    "        batch, episode_rewards = next(next_batch)\n",
    "\n",
    "        optimizer.zero_grad()\n",
    "        loss = dqn_loss(i, model, batch)\n",
    "        loss.backward()\n",
    "        optimizer.step()\n",
    "        losses.append(loss.item())\n",
    "        loss_avgs.append(np.mean(losses[-20:]))\n",
    "\n",
    "        description = [\n",
    "            'it %i/%i' % (i + 1, its),\n",
    "            'loss: %.6f' % loss.item(),\n",
    "            'reward moving avg: %.2f' % np.mean(episode_rewards[-50:-1]),\n",
    "            ' #### ',\n",
    "        ]\n",
    "\n",
    "        axs[0].clear()\n",
    "        axs[1].clear()\n",
    "        \n",
    "        axs[0].plot(episode_ids[-500:], losses[-500:], linewidth=1)\n",
    "        axs[0].plot(episode_ids[-500:], loss_avgs[-500:], linewidth=2)\n",
    "        axs[1].plot(episode_rewards[:-1], linewidth=2)\n",
    "\n",
    "        fig.canvas.draw()\n",
    "\n",
    "        tr.set_description(' | '.join(description))"
   ]
  },
  {
   "cell_type": "code",
   "execution_count": null,
   "metadata": {},
   "outputs": [],
   "source": [
    "# env = gym.make('snek-rgb-16-v1')\n",
    "env = gym.make('CartPole-v1')\n",
    "\n",
    "num_actions = env.action_space.n\n",
    "obs_size = np.prod(env.observation_space.shape)\n",
    "\n",
    "dqn = DQN(obs_size, num_actions)"
   ]
  },
  {
   "cell_type": "code",
   "execution_count": null,
   "metadata": {
    "scrolled": true
   },
   "outputs": [],
   "source": [
    "# %matplotlib notebook\n",
    "\n",
    "# dqn_optimize(\n",
    "#     env=env,\n",
    "#     model=dqn,\n",
    "#     its=1000,\n",
    "#     lr=0.001,\n",
    "#     next_batch=get_experience_generator(\n",
    "#         env,\n",
    "#         dqn,\n",
    "#         bs=32,\n",
    "#     ),\n",
    "# )"
   ]
  },
  {
   "cell_type": "code",
   "execution_count": null,
   "metadata": {},
   "outputs": [],
   "source": [
    "show_live_env(env, lambda obs: dqn.get_max_action(obs), duration=8000, fps=50)"
   ]
  },
  {
   "cell_type": "code",
   "execution_count": null,
   "metadata": {},
   "outputs": [],
   "source": []
  },
  {
   "cell_type": "code",
   "execution_count": null,
   "metadata": {},
   "outputs": [],
   "source": []
  },
  {
   "cell_type": "code",
   "execution_count": null,
   "metadata": {},
   "outputs": [],
   "source": []
  }
 ],
 "metadata": {
  "kernelspec": {
   "display_name": "Python 3.7.5 64-bit ('base': conda)",
   "language": "python",
   "name": "python37564bitbaseconda450f1bc47f8a4f9f9c4b21d2d568ed8a"
  },
  "language_info": {
   "codemirror_mode": {
    "name": "ipython",
    "version": 3
   },
   "file_extension": ".py",
   "mimetype": "text/x-python",
   "name": "python",
   "nbconvert_exporter": "python",
   "pygments_lexer": "ipython3",
   "version": "3.7.5"
  }
 },
 "nbformat": 4,
 "nbformat_minor": 4
}
