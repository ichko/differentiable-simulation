{
 "cells": [
  {
   "cell_type": "code",
   "execution_count": 1,
   "metadata": {},
   "outputs": [
    {
     "data": {
      "text/html": [
       "<style>.container { width: 90% !important; }</style>"
      ],
      "text/plain": [
       "<IPython.core.display.HTML object>"
      ]
     },
     "metadata": {},
     "output_type": "display_data"
    }
   ],
   "source": [
    "%load_ext autoreload\n",
    "%autoreload 2\n",
    "\n",
    "from IPython.core.display import display, HTML\n",
    "display(HTML(\"<style>.container { width: 90% !important; }</style>\"))"
   ]
  },
  {
   "cell_type": "code",
   "execution_count": 131,
   "metadata": {},
   "outputs": [
    {
     "data": {
      "text/plain": [
       "('1.3.1', True)"
      ]
     },
     "execution_count": 131,
     "metadata": {},
     "output_type": "execute_result"
    }
   ],
   "source": [
    "import IPython\n",
    "from IPython.display import display\n",
    "\n",
    "import io\n",
    "import time\n",
    "import random\n",
    "\n",
    "import numpy as np\n",
    "import matplotlib.pyplot as plt\n",
    "from tqdm.notebook import tqdm, trange\n",
    "import PIL\n",
    "import cv2\n",
    "\n",
    "import sneks\n",
    "import gym\n",
    "\n",
    "import torch\n",
    "import torch.nn as nn\n",
    "\n",
    "DEVICE = 'cpu'\n",
    "\n",
    "torch.__version__, torch.cuda.is_available()"
   ]
  },
  {
   "cell_type": "code",
   "execution_count": 132,
   "metadata": {},
   "outputs": [
    {
     "data": {
      "text/plain": [
       "(Discrete(4), Box(16, 16, 3))"
      ]
     },
     "execution_count": 132,
     "metadata": {},
     "output_type": "execute_result"
    }
   ],
   "source": [
    "env = gym.make('snek-rgb-16-v1')\n",
    "\n",
    "observation = env.reset()\n",
    "action = env.action_space.sample()\n",
    "observation, reward, done, info = env.step(action)\n",
    "\n",
    "env.action_space, env.observation_space"
   ]
  },
  {
   "cell_type": "code",
   "execution_count": 133,
   "metadata": {},
   "outputs": [],
   "source": [
    "# https://github.com/NicksonYap/Jupyter-Webcam/blob/master/Realtime_video_ipython_py3.ipynb\n",
    "def show_array(a, prev_display_id=None, fmt='jpeg'):\n",
    "    f = io.BytesIO()\n",
    "    PIL.Image.fromarray(a).save(f, fmt)\n",
    "    obj = IPython.display.Image(data=f.getvalue())\n",
    "    IPython.display.display(obj)"
   ]
  },
  {
   "cell_type": "code",
   "execution_count": 134,
   "metadata": {},
   "outputs": [],
   "source": [
    "def show_live_env(env, controller, duration=100, fps=100):\n",
    "    try:\n",
    "        total_frames = 0\n",
    "        \n",
    "        while True:\n",
    "            f = 0\n",
    "            obs = env.reset()\n",
    "\n",
    "            while True:\n",
    "                total_frames += 1\n",
    "                IPython.display.clear_output(wait=True)\n",
    "                time.sleep(1 / fps)\n",
    "                f += 1\n",
    "\n",
    "                action = controller(f, obs)\n",
    "                obs, _, done, _ = env.step(action)\n",
    "                frame = env.render('rgb_array')\n",
    "                show_array(frame)\n",
    "\n",
    "                if done: break\n",
    "                if total_frames >= duration: return\n",
    "\n",
    "    except KeyboardInterrupt:\n",
    "        show_array(frame) # show last frame\n",
    "        print('stream interrupted')"
   ]
  },
  {
   "cell_type": "code",
   "execution_count": 135,
   "metadata": {
    "scrolled": false
   },
   "outputs": [
    {
     "data": {
      "image/jpeg": "[encoded data removed]",
      "text/plain": [
       "<IPython.core.display.Image object>"
      ]
     },
     "metadata": {},
     "output_type": "display_data"
    }
   ],
   "source": [
    "show_live_env(env, lambda e, o: env.action_space.sample(), duration=80, fps=200)"
   ]
  },
  {
   "cell_type": "markdown",
   "metadata": {},
   "source": [
    "# Utils"
   ]
  },
  {
   "cell_type": "code",
   "execution_count": 136,
   "metadata": {},
   "outputs": [],
   "source": [
    "def shift_episode(episode):\n",
    "    return np.concatenate([\n",
    "        episode[1:],\n",
    "        np.ones((1, *episode[0].shape))\n",
    "    ])"
   ]
  },
  {
   "cell_type": "code",
   "execution_count": 137,
   "metadata": {},
   "outputs": [],
   "source": [
    "def preprocess_episodes(batch):\n",
    "    episodes = [o / 255 for o, a, r in batch]\n",
    "\n",
    "    # Flatten episodes\n",
    "    next_obs = torch.FloatTensor([o for e in episodes for o in shift_episode(e)])\n",
    "    obs = torch.FloatTensor([o for e in episodes for o in e])\n",
    "    actions = torch.LongTensor([a for _, actions, _ in batch for a in actions])\n",
    "    rewards = torch.FloatTensor([r for _, _, rewards in batch for r in rewards])\n",
    "\n",
    "    next_obs = next_obs.reshape(-1, obs_size).to(DEVICE)\n",
    "    obs = obs.reshape(-1, obs_size).to(DEVICE)\n",
    "    actions = actions.reshape(-1).to(DEVICE)\n",
    "    rewards = rewards.reshape(-1).to(DEVICE)\n",
    "    \n",
    "    return obs, actions, rewards, next_obs"
   ]
  },
  {
   "cell_type": "code",
   "execution_count": 138,
   "metadata": {},
   "outputs": [],
   "source": [
    "def dqn_loss(model, batch):\n",
    "    criterion = nn.MSELoss()\n",
    "    obs, actions, rewards, next_obs = preprocess_episodes(batch)\n",
    "    q_vals = model(obs).index_select(dim=1, index=actions)[0]\n",
    "    next_q_vals = model(next_obs).max(dim=1)[0]\n",
    "    target_q_vals = next_q_vals * discount + rewards\n",
    "\n",
    "    return criterion(q_vals, target_q_vals)"
   ]
  },
  {
   "cell_type": "code",
   "execution_count": 139,
   "metadata": {},
   "outputs": [],
   "source": [
    "def dense(i, o, a=nn.Sigmoid):\n",
    "    l = nn.Linear(i, o)\n",
    "    return nn.Sequential(l, a())"
   ]
  },
  {
   "cell_type": "markdown",
   "metadata": {},
   "source": [
    "# Model"
   ]
  },
  {
   "cell_type": "code",
   "execution_count": 140,
   "metadata": {},
   "outputs": [],
   "source": [
    "obs_size = 16 * 16 * 3\n",
    "num_actions = 4\n",
    "hidden_dim = 256\n",
    "discount = 0.999\n",
    "\n",
    "class DQN(nn.Module):\n",
    "    def __init__(self):\n",
    "        super(DQN, self).__init__()\n",
    "\n",
    "        self.net = nn.Sequential(\n",
    "            nn.Flatten(),\n",
    "            dense(obs_size, hidden_dim, nn.ReLU),\n",
    "            dense(hidden_dim, hidden_dim, nn.ReLU),\n",
    "            dense(hidden_dim, hidden_dim, nn.ReLU),\n",
    "            dense(hidden_dim, hidden_dim, nn.ReLU),\n",
    "            nn.Linear(hidden_dim, num_actions),\n",
    "        ).to(DEVICE)\n",
    "\n",
    "        self.optimizer = torch.optim.Adam(params=self.parameters(), lr=0.001)\n",
    "\n",
    "    def forward(self, obs):\n",
    "        return self.net(obs)\n",
    "        \n",
    "    def get_max_action(self, obs):\n",
    "        obs = obs[np.newaxis, ...] / 255\n",
    "        obs = torch.FloatTensor(obs).to(DEVICE)\n",
    "        q_vals = self.net(obs)[0]\n",
    "\n",
    "        return q_vals.argmax().cpu().detach().numpy()\n",
    "\n",
    "\n",
    "dqn = DQN()"
   ]
  },
  {
   "cell_type": "code",
   "execution_count": 141,
   "metadata": {},
   "outputs": [
    {
     "data": {
      "image/jpeg": "[encoded data removed]",
      "text/plain": [
       "<IPython.core.display.Image object>"
      ]
     },
     "metadata": {},
     "output_type": "display_data"
    }
   ],
   "source": [
    "def dqn_controller(f, obs):\n",
    "    return dqn.get_max_action(obs)\n",
    "\n",
    "show_live_env(env, dqn_controller, duration=80, fps=200)"
   ]
  },
  {
   "cell_type": "markdown",
   "metadata": {},
   "source": [
    "# Experience provider"
   ]
  },
  {
   "cell_type": "code",
   "execution_count": 142,
   "metadata": {},
   "outputs": [
    {
     "data": {
      "text/plain": [
       "((6, 16, 16, 3), (6,), (6,))"
      ]
     },
     "execution_count": 142,
     "metadata": {},
     "output_type": "execute_result"
    }
   ],
   "source": [
    "def play_episode(env, model):\n",
    "    max_rollout_steps = 1000\n",
    "    ee_tradeoff = 0.2\n",
    "    obs = env.reset()\n",
    "    all_obs = []\n",
    "    all_actions = []\n",
    "    all_rewards = []\n",
    "    use_model = random.random() > ee_tradeoff\n",
    "\n",
    "    for _ in range(max_rollout_steps):\n",
    "        if use_model:\n",
    "            max_action = model.get_max_action(obs)\n",
    "        else:\n",
    "            max_action = env.action_space.sample()\n",
    "\n",
    "        obs, reward, done, info = env.step(max_action)\n",
    "        all_obs.append(obs)\n",
    "        all_actions.append(max_action)\n",
    "        all_rewards.append(reward)\n",
    "        if done: break\n",
    "\n",
    "    return (\n",
    "        np.array(all_obs),\n",
    "        np.array(all_actions),\n",
    "        np.array(all_rewards),\n",
    "    )\n",
    "\n",
    "obs, actions, rewards = play_episode(env, dqn)\n",
    "obs.shape, actions.shape, rewards.shape"
   ]
  },
  {
   "cell_type": "markdown",
   "metadata": {},
   "source": [
    "# Training"
   ]
  },
  {
   "cell_type": "code",
   "execution_count": 143,
   "metadata": {},
   "outputs": [],
   "source": [
    "from collections import deque\n",
    "\n",
    "def dqn_optimize(env, model):\n",
    "    experience_pool = deque()\n",
    "    max_experiences = 50\n",
    "    its =  300\n",
    "    bs = 32\n",
    "\n",
    "    def optimization_step():\n",
    "        # batch = experience_pool[-bs:]\n",
    "        batch = random.sample(\n",
    "            experience_pool,\n",
    "            min(len(experience_pool), bs)\n",
    "        )\n",
    "\n",
    "        model.optimizer.zero_grad()\n",
    "        loss = dqn_loss(model, batch)\n",
    "        loss.backward()\n",
    "        model.optimizer.step()\n",
    "\n",
    "        return loss.item()\n",
    "\n",
    "\n",
    "    tr = trange(its, bar_format='{bar} {desc}')\n",
    "    for i in tr:\n",
    "        episode = play_episode(env, model)\n",
    "        experience_pool.append(episode)\n",
    "        \n",
    "        loss = optimization_step()\n",
    "        \n",
    "        description = [\n",
    "            'it %i/%i' % (i + 1, its),\n",
    "            'loss: %.6f' % loss,\n",
    "            'avg episode len: %.2f' % np.mean([len(e[0]) for e in experience_pool])\n",
    "        ]\n",
    "        \n",
    "        tr.set_description(' | '.join(description))\n",
    "\n",
    "        if len(experience_pool) > max_experiences:\n",
    "            experience_pool.popleft()"
   ]
  },
  {
   "cell_type": "code",
   "execution_count": 144,
   "metadata": {
    "scrolled": true
   },
   "outputs": [
    {
     "data": {
      "application/vnd.jupyter.widget-view+json": {
       "model_id": "a28c5520266c43a889a052941c2ea8d6",
       "version_major": 2,
       "version_minor": 0
      },
      "text/plain": [
       "HBox(children=(FloatProgress(value=0.0, max=300.0), HTML(value='')))"
      ]
     },
     "metadata": {},
     "output_type": "display_data"
    },
    {
     "name": "stdout",
     "output_type": "stream",
     "text": [
      "\n"
     ]
    }
   ],
   "source": [
    "dqn_optimize(env, dqn)"
   ]
  },
  {
   "cell_type": "code",
   "execution_count": 145,
   "metadata": {},
   "outputs": [
    {
     "data": {
      "image/jpeg": "[encoded data removed]",
      "text/plain": [
       "<IPython.core.display.Image object>"
      ]
     },
     "metadata": {},
     "output_type": "display_data"
    },
    {
     "name": "stdout",
     "output_type": "stream",
     "text": [
      "stream interrupted\n"
     ]
    }
   ],
   "source": [
    "show_live_env(env, dqn_controller, duration=800, fps=10)"
   ]
  },
  {
   "cell_type": "code",
   "execution_count": null,
   "metadata": {},
   "outputs": [],
   "source": []
  },
  {
   "cell_type": "code",
   "execution_count": null,
   "metadata": {},
   "outputs": [],
   "source": []
  },
  {
   "cell_type": "code",
   "execution_count": null,
   "metadata": {},
   "outputs": [],
   "source": []
  }
 ],
 "metadata": {
  "kernelspec": {
   "display_name": "Python 3.7.5 64-bit ('base': conda)",
   "language": "python",
   "name": "python37564bitbaseconda450f1bc47f8a4f9f9c4b21d2d568ed8a"
  },
  "language_info": {
   "codemirror_mode": {
    "name": "ipython",
    "version": 3
   },
   "file_extension": ".py",
   "mimetype": "text/x-python",
   "name": "python",
   "nbconvert_exporter": "python",
   "pygments_lexer": "ipython3",
   "version": "3.7.5"
  }
 },
 "nbformat": 4,
 "nbformat_minor": 2
}
