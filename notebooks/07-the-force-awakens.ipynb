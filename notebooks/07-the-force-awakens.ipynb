{
 "cells": [
  {
   "cell_type": "code",
   "execution_count": 1,
   "metadata": {},
   "outputs": [
    {
     "data": {
      "text/html": [
       "<style>.container { width: 90% !important; }</style>"
      ],
      "text/plain": [
       "<IPython.core.display.HTML object>"
      ]
     },
     "metadata": {},
     "output_type": "display_data"
    }
   ],
   "source": [
    "%load_ext autoreload\n",
    "%autoreload 2\n",
    "\n",
    "from IPython.core.display import display, HTML\n",
    "display(HTML(\"<style>.container { width: 90% !important; }</style>\"))"
   ]
  },
  {
   "cell_type": "code",
   "execution_count": 23,
   "metadata": {},
   "outputs": [],
   "source": [
    "import IPython\n",
    "from IPython.display import display\n",
    "\n",
    "import io\n",
    "import time\n",
    "import random\n",
    "\n",
    "import numpy as np\n",
    "import matplotlib.pyplot as plt\n",
    "from tqdm.notebook import tqdm, trange\n",
    "import PIL\n",
    "import cv2\n",
    "\n",
    "import sneks\n",
    "import gym\n",
    "\n",
    "import torch\n",
    "import torch.nn as nn"
   ]
  },
  {
   "cell_type": "code",
   "execution_count": 3,
   "metadata": {},
   "outputs": [
    {
     "data": {
      "text/plain": [
       "(Discrete(4), Box(16, 16, 3))"
      ]
     },
     "execution_count": 3,
     "metadata": {},
     "output_type": "execute_result"
    }
   ],
   "source": [
    "env = gym.make('snek-rgb-16-v1')\n",
    "\n",
    "observation = env.reset()\n",
    "action = env.action_space.sample()\n",
    "observation, reward, done, info = env.step(action)\n",
    "\n",
    "env.action_space, env.observation_space"
   ]
  },
  {
   "cell_type": "code",
   "execution_count": 4,
   "metadata": {},
   "outputs": [],
   "source": [
    "# https://github.com/NicksonYap/Jupyter-Webcam/blob/master/Realtime_video_ipython_py3.ipynb\n",
    "def show_array(a, prev_display_id=None, fmt='jpeg'):\n",
    "    f = io.BytesIO()\n",
    "    PIL.Image.fromarray(a).save(f, fmt)\n",
    "    obj = IPython.display.Image(data=f.getvalue())\n",
    "    IPython.display.display(obj)"
   ]
  },
  {
   "cell_type": "code",
   "execution_count": 138,
   "metadata": {},
   "outputs": [],
   "source": [
    "def show_live_env(env, controller):\n",
    "\n",
    "    try:\n",
    "        while True:\n",
    "            f = 0\n",
    "            obs = env.reset()\n",
    "            while True:\n",
    "                IPython.display.clear_output(wait=True)\n",
    "                time.sleep(1 / 30)\n",
    "                f += 1\n",
    "\n",
    "                action = controller(f, obs)\n",
    "                obs, _, done, _ = env.step(action)\n",
    "                frame = env.render('rgb_array')\n",
    "                show_array(frame)\n",
    "                if done: break\n",
    "    except KeyboardInterrupt:\n",
    "        show_array(frame) # show last frame\n",
    "        print('stream interrupted')"
   ]
  },
  {
   "cell_type": "code",
   "execution_count": 139,
   "metadata": {
    "scrolled": false
   },
   "outputs": [
    {
     "data": {
      "image/jpeg": "[encoded data removed]",
      "text/plain": [
       "<IPython.core.display.Image object>"
      ]
     },
     "metadata": {},
     "output_type": "display_data"
    },
    {
     "name": "stdout",
     "output_type": "stream",
     "text": [
      "stream interrupted\n"
     ]
    }
   ],
   "source": [
    "def controller(f, obs):\n",
    "    return env.action_space.sample()\n",
    "    if done:\n",
    "        raise KeyboardInterrupt()\n",
    "\n",
    "show_live_env(env, controller)"
   ]
  },
  {
   "cell_type": "code",
   "execution_count": 206,
   "metadata": {},
   "outputs": [],
   "source": [
    "obs_size = 16 * 16 * 3\n",
    "num_actions = 4\n",
    "hidden_dim = 512\n",
    "\n",
    "def dense(i, o, a=nn.Sigmoid):\n",
    "    l = nn.Linear(i, o)\n",
    "#     l.weight.data = torch.normal(2, 2, (o, i))\n",
    "#     l.bias.data = torch.normal(2, 2, (o,))\n",
    "    return nn.Sequential(l, a())\n",
    "\n",
    "q_net = nn.Sequential(\n",
    "    nn.Flatten(),\n",
    "    dense(obs_size, hidden_dim, nn.ReLU),\n",
    "    dense(hidden_dim, hidden_dim, nn.ReLU),\n",
    "    dense(hidden_dim, hidden_dim, nn.ReLU),\n",
    "    dense(hidden_dim, hidden_dim, nn.ReLU),\n",
    "    dense(hidden_dim, hidden_dim, nn.ReLU),\n",
    "    nn.Linear(hidden_dim, num_actions),\n",
    ")"
   ]
  },
  {
   "cell_type": "code",
   "execution_count": 207,
   "metadata": {},
   "outputs": [
    {
     "data": {
      "image/jpeg": "[encoded data removed]",
      "text/plain": [
       "<IPython.core.display.Image object>"
      ]
     },
     "metadata": {},
     "output_type": "display_data"
    },
    {
     "name": "stdout",
     "output_type": "stream",
     "text": [
      "stream interrupted\n"
     ]
    }
   ],
   "source": [
    "def q_net_controller(f, obs):\n",
    "    obs = torch.tensor(obs[np.newaxis, ...] // 255, dtype=torch.float32)\n",
    "    q_vals = q_net(obs)\n",
    "    action = q_vals.argmax()\n",
    "    return action\n",
    "\n",
    "    if done:\n",
    "        raise KeyboardInterrupt()\n",
    "\n",
    "show_live_env(env, controller)"
   ]
  },
  {
   "cell_type": "code",
   "execution_count": 208,
   "metadata": {},
   "outputs": [
    {
     "data": {
      "text/plain": [
       "((6, 16, 16, 3), (6,), (6,))"
      ]
     },
     "execution_count": 208,
     "metadata": {},
     "output_type": "execute_result"
    }
   ],
   "source": [
    "def play_episode(env, model):\n",
    "    max_rollout_steps = 100\n",
    "    discount = 0.5\n",
    "    ee_tradeoff = 0.5\n",
    "    obs = env.reset()\n",
    "    all_obs = []\n",
    "    all_actions = []\n",
    "    all_rewards = []\n",
    "\n",
    "    for _ in range(max_rollout_steps):\n",
    "        if random.random() > ee_tradeoff:\n",
    "            torch_obs = torch.tensor(obs[np.newaxis, ...] / 255, dtype=torch.float32)\n",
    "            q_vals = model(torch_obs)[0]\n",
    "            max_action = q_vals.argmax()\n",
    "        else:\n",
    "            max_action = env.action_space.sample()\n",
    "        \n",
    "        obs, reward, done, info = env.step(max_action)\n",
    "        all_obs.append(obs)\n",
    "        all_actions.append(max_action)\n",
    "        all_rewards.append(reward)\n",
    "        if done: break\n",
    "\n",
    "    q_vals = [\n",
    "        sum([discount **j * r for j, r in enumerate(all_rewards[i:])])\n",
    "        for i in range(len(all_rewards))\n",
    "    ]\n",
    "\n",
    "    return (\n",
    "        np.array(all_obs) / 255,\n",
    "        np.array(all_actions),\n",
    "        np.array(q_vals),\n",
    "    )\n",
    "\n",
    "obs, actions, rewards = play_episode(env, q_net)\n",
    "obs.shape, actions.shape, rewards.shape"
   ]
  },
  {
   "cell_type": "code",
   "execution_count": 213,
   "metadata": {},
   "outputs": [],
   "source": [
    "def dqn_optimize(env, model):\n",
    "    experience_pool = []\n",
    "    max_experiences = 500\n",
    "    its =  300\n",
    "    bs = 32\n",
    "    \n",
    "    criterion = nn.MSELoss()\n",
    "    optimizer = torch.optim.Adam(params=model.parameters())\n",
    "\n",
    "    def optimization_step():\n",
    "        batch = random.sample(experience_pool, min(len(experience_pool), bs))\n",
    "        obs = torch.cat([torch.tensor(o, dtype=torch.float32) for o, a, r in batch])\n",
    "        actions = torch.cat([torch.tensor(a, dtype=torch.long) for o, a, r in batch])\n",
    "        q_vals = torch.cat([torch.tensor(r, dtype=torch.float32) for o, a, r in batch])\n",
    "\n",
    "        optimizer.zero_grad()\n",
    "        q_vals_pred = model(obs)\n",
    "        used_q_vals = torch.index_select(q_vals_pred, dim=1, index=actions)[0]\n",
    "        loss = criterion(used_q_vals, q_vals)\n",
    "        loss.backward()\n",
    "        optimizer.step()\n",
    "\n",
    "        return loss.item()\n",
    "\n",
    "\n",
    "    tr = trange(its, bar_format='{desc} {bar}')\n",
    "    for i in tr:\n",
    "        episode = play_episode(env, model)\n",
    "        experience_pool.append(episode)\n",
    "        loss = optimization_step()\n",
    "        tr.set_description('Its %i/%i | Loss: %.6f' % (i + 1, its, loss))\n",
    "\n",
    "        if len(experience_pool) > max_experiences:\n",
    "            experience_pool = experience_pool[1:]"
   ]
  },
  {
   "cell_type": "code",
   "execution_count": null,
   "metadata": {
    "scrolled": true
   },
   "outputs": [
    {
     "data": {
      "application/vnd.jupyter.widget-view+json": {
       "model_id": "dad13b0393f54e729725ddecbbba2324",
       "version_major": 2,
       "version_minor": 0
      },
      "text/plain": [
       "HBox(children=(FloatProgress(value=0.0, max=300.0), HTML(value='')))"
      ]
     },
     "metadata": {},
     "output_type": "display_data"
    }
   ],
   "source": [
    "dqn_optimize(env, q_net)"
   ]
  },
  {
   "cell_type": "code",
   "execution_count": null,
   "metadata": {},
   "outputs": [],
   "source": [
    "show_live_env(env, q_net_controller)"
   ]
  },
  {
   "cell_type": "code",
   "execution_count": null,
   "metadata": {},
   "outputs": [],
   "source": []
  },
  {
   "cell_type": "code",
   "execution_count": null,
   "metadata": {},
   "outputs": [],
   "source": []
  },
  {
   "cell_type": "code",
   "execution_count": null,
   "metadata": {},
   "outputs": [],
   "source": [
    "\n",
    "\n",
    "\n",
    "\n",
    "\n",
    "\n",
    "\n",
    "\n",
    "\n",
    "\n",
    "\n",
    "\n",
    "\n",
    "\n",
    "\n",
    "\n",
    "\n",
    "\n",
    "\n",
    "\n",
    "\n",
    "\n",
    "\n",
    "\n"
   ]
  },
  {
   "cell_type": "code",
   "execution_count": null,
   "metadata": {},
   "outputs": [],
   "source": []
  }
 ],
 "metadata": {
  "kernelspec": {
   "display_name": "Python 3.7.5 64-bit ('base': conda)",
   "language": "python",
   "name": "python37564bitbaseconda450f1bc47f8a4f9f9c4b21d2d568ed8a"
  },
  "language_info": {
   "codemirror_mode": {
    "name": "ipython",
    "version": 3
   },
   "file_extension": ".py",
   "mimetype": "text/x-python",
   "name": "python",
   "nbconvert_exporter": "python",
   "pygments_lexer": "ipython3",
   "version": "3.7.5"
  }
 },
 "nbformat": 4,
 "nbformat_minor": 2
}
