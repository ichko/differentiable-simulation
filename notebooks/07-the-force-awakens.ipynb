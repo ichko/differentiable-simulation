{
 "cells": [
  {
   "cell_type": "code",
   "execution_count": 47,
   "metadata": {},
   "outputs": [
    {
     "name": "stdout",
     "output_type": "stream",
     "text": [
      "The autoreload extension is already loaded. To reload it, use:\n",
      "  %reload_ext autoreload\n"
     ]
    },
    {
     "data": {
      "text/html": [
       "<style>.container { width: 90% !important; }</style>"
      ],
      "text/plain": [
       "<IPython.core.display.HTML object>"
      ]
     },
     "metadata": {},
     "output_type": "display_data"
    }
   ],
   "source": [
    "%load_ext autoreload\n",
    "%autoreload 2\n",
    "\n",
    "from IPython.core.display import display, HTML\n",
    "display(HTML(\"<style>.container { width: 90% !important; }</style>\"))"
   ]
  },
  {
   "cell_type": "code",
   "execution_count": 48,
   "metadata": {},
   "outputs": [],
   "source": [
    "import IPython\n",
    "from IPython.display import display\n",
    "\n",
    "import io\n",
    "import time\n",
    "import random\n",
    "\n",
    "import numpy as np\n",
    "import matplotlib.pyplot as plt\n",
    "from tqdm.notebook import tqdm, trange\n",
    "import PIL\n",
    "import cv2\n",
    "\n",
    "import sneks\n",
    "import gym\n",
    "\n",
    "import torch\n",
    "import torch.nn as nn\n",
    "\n",
    "DEVICE = 'cuda'"
   ]
  },
  {
   "cell_type": "code",
   "execution_count": 49,
   "metadata": {},
   "outputs": [
    {
     "data": {
      "text/plain": [
       "(Discrete(4), Box(16, 16, 3))"
      ]
     },
     "execution_count": 49,
     "metadata": {},
     "output_type": "execute_result"
    }
   ],
   "source": [
    "env = gym.make('snek-rgb-16-v1')\n",
    "\n",
    "observation = env.reset()\n",
    "action = env.action_space.sample()\n",
    "observation, reward, done, info = env.step(action)\n",
    "\n",
    "env.action_space, env.observation_space"
   ]
  },
  {
   "cell_type": "code",
   "execution_count": 50,
   "metadata": {},
   "outputs": [],
   "source": [
    "# https://github.com/NicksonYap/Jupyter-Webcam/blob/master/Realtime_video_ipython_py3.ipynb\n",
    "def show_array(a, prev_display_id=None, fmt='jpeg'):\n",
    "    f = io.BytesIO()\n",
    "    PIL.Image.fromarray(a).save(f, fmt)\n",
    "    obj = IPython.display.Image(data=f.getvalue())\n",
    "    IPython.display.display(obj)"
   ]
  },
  {
   "cell_type": "code",
   "execution_count": 260,
   "metadata": {},
   "outputs": [],
   "source": [
    "def show_live_env(env, controller, fps=100):\n",
    "    try:\n",
    "        while True:\n",
    "            f = 0\n",
    "            obs = env.reset()\n",
    "            while True:\n",
    "                IPython.display.clear_output(wait=True)\n",
    "                time.sleep(1 / fps)\n",
    "                f += 1\n",
    "\n",
    "                action = controller(f, obs)\n",
    "                obs, _, done, _ = env.step(action)\n",
    "                frame = env.render('rgb_array')\n",
    "                show_array(frame)\n",
    "                if done: break\n",
    "    except KeyboardInterrupt:\n",
    "        show_array(frame) # show last frame\n",
    "        print('stream interrupted')"
   ]
  },
  {
   "cell_type": "code",
   "execution_count": 262,
   "metadata": {
    "scrolled": false
   },
   "outputs": [
    {
     "data": {
      "image/jpeg": "[encoded data removed]",
      "text/plain": [
       "<IPython.core.display.Image object>"
      ]
     },
     "metadata": {},
     "output_type": "display_data"
    },
    {
     "name": "stdout",
     "output_type": "stream",
     "text": [
      "stream interrupted\n"
     ]
    }
   ],
   "source": [
    "def controller(f, obs):\n",
    "    return env.action_space.sample()\n",
    "    if done:\n",
    "        raise KeyboardInterrupt()\n",
    "\n",
    "show_live_env(env, controller)"
   ]
  },
  {
   "cell_type": "code",
   "execution_count": 254,
   "metadata": {},
   "outputs": [],
   "source": [
    "obs_size = 16 * 16 * 3\n",
    "num_actions = 4\n",
    "hidden_dim = 512\n",
    "discount = 0.5\n",
    "\n",
    "def dense(i, o, a=nn.Sigmoid):\n",
    "    l = nn.Linear(i, o)\n",
    "#     l.weight.data = torch.normal(2, 2, (o, i))\n",
    "#     l.bias.data = torch.normal(2, 2, (o,))\n",
    "    return nn.Sequential(l, a())\n",
    "\n",
    "class QNet(nn.Module):\n",
    "    def __init__(self):\n",
    "        super(QNet, self).__init__()\n",
    "        self.net = nn.Sequential(\n",
    "            nn.Flatten(),\n",
    "            dense(obs_size, hidden_dim, nn.ReLU),\n",
    "            dense(hidden_dim, hidden_dim, nn.ReLU),\n",
    "            dense(hidden_dim, hidden_dim, nn.ReLU),\n",
    "            dense(hidden_dim, hidden_dim, nn.ReLU),\n",
    "            dense(hidden_dim, hidden_dim, nn.ReLU),\n",
    "            nn.Linear(hidden_dim, num_actions),\n",
    "        ).to(DEVICE)\n",
    "\n",
    "        self.criterion = nn.MSELoss().to(DEVICE)\n",
    "        self.optimizer = torch.optim.Adam(params=self.parameters(), lr=0.001)\n",
    "        \n",
    "    def loss(self, batch):\n",
    "        obs = [o / 255 for o, a, r in batch]\n",
    "\n",
    "        next_obs = torch.tensor(\n",
    "            [exp for o in obs for exp in o[1:]],\n",
    "            dtype=torch.float32\n",
    "        ).reshape(-1, obs_size).to(DEVICE)\n",
    "        obs = torch.tensor(\n",
    "            [exp for o in obs for exp in o[:-1]],\n",
    "            dtype=torch.float32\n",
    "        ).reshape(-1, obs_size).to(DEVICE)\n",
    "\n",
    "        actions = torch.tensor(\n",
    "            [a for _, actions, _ in batch for a in actions[1:]],\n",
    "            dtype=torch.long\n",
    "        ).reshape(-1).to(DEVICE)\n",
    "        rewards = torch.tensor(\n",
    "            [r for _, _, rewards in batch for r in rewards[1:]],\n",
    "            dtype=torch.float32\n",
    "        ).reshape(-1).to(DEVICE)\n",
    "        \n",
    "        with torch.no_grad():\n",
    "            next_q_vals = self.net(next_obs).argmax(dim=1)\n",
    "        \n",
    "        q_vals = self.net(obs).index_select(dim=1, index=actions)[0]\n",
    "        target_q_vals = next_q_vals * discount + rewards\n",
    "\n",
    "        return self.criterion(q_vals, target_q_vals)\n",
    "\n",
    "    def forward(self, obs):\n",
    "        return self.net(obs)\n",
    "        \n",
    "    def get_max_action(self, obs):\n",
    "        obs = torch.tensor(obs[np.newaxis, ...] / 255, dtype=torch.float32).to(DEVICE)\n",
    "        q_vals = self.net(obs)[0]\n",
    "\n",
    "        return q_vals.argmax().cpu().detach().numpy()\n",
    "\n",
    "\n",
    "q_net = QNet()\n",
    "# episode1 = play_episode(env, q_net)\n",
    "# episode2 = play_episode(env, q_net)\n",
    "# q_net.loss([episode1, episode2])"
   ]
  },
  {
   "cell_type": "code",
   "execution_count": 236,
   "metadata": {},
   "outputs": [],
   "source": [
    "def q_net_controller(f, obs):\n",
    "    return q_net.get_max_action(obs)\n",
    "\n",
    "    if done:\n",
    "        raise KeyboardInterrupt()\n",
    "\n",
    "# show_live_env(env, q_net_controller)"
   ]
  },
  {
   "cell_type": "code",
   "execution_count": 237,
   "metadata": {},
   "outputs": [
    {
     "data": {
      "text/plain": [
       "((8, 16, 16, 3), (8,), (8,))"
      ]
     },
     "execution_count": 237,
     "metadata": {},
     "output_type": "execute_result"
    }
   ],
   "source": [
    "def play_episode(env, model):\n",
    "    max_rollout_steps = 100\n",
    "    discount = 0.5\n",
    "    ee_tradeoff = 0.5\n",
    "    obs = env.reset()\n",
    "    all_obs = []\n",
    "    all_actions = []\n",
    "    all_rewards = []\n",
    "\n",
    "    for _ in range(max_rollout_steps):\n",
    "        max_action = model.get_max_action(obs) \\\n",
    "                        if random.random() > ee_tradeoff else \\\n",
    "                     env.action_space.sample()\n",
    "\n",
    "        obs, reward, done, info = env.step(max_action)\n",
    "        all_obs.append(obs)\n",
    "        all_actions.append(max_action)\n",
    "        all_rewards.append(reward)\n",
    "        if done: break\n",
    "\n",
    "#     q_vals = [\n",
    "#         sum([discount ** j * r for j, r in enumerate(all_rewards[i:])])\n",
    "#         for i in range(len(all_rewards))\n",
    "#     ]\n",
    "\n",
    "    return (\n",
    "        np.array(all_obs),\n",
    "        np.array(all_actions),\n",
    "        np.array(all_rewards),\n",
    "    )\n",
    "\n",
    "obs, actions, rewards = play_episode(env, q_net)\n",
    "obs.shape, actions.shape, rewards.shape"
   ]
  },
  {
   "cell_type": "code",
   "execution_count": 238,
   "metadata": {},
   "outputs": [
    {
     "data": {
      "text/plain": [
       "(tensor([2, 3]), tensor([1, 2]))"
      ]
     },
     "execution_count": 238,
     "metadata": {},
     "output_type": "execute_result"
    }
   ],
   "source": [
    "t = torch.tensor([1, 2, 3])\n",
    "\n",
    "t[1:], t[:-1]"
   ]
  },
  {
   "cell_type": "code",
   "execution_count": 265,
   "metadata": {},
   "outputs": [],
   "source": [
    "def dqn_optimize(env, model):\n",
    "    experience_pool = []\n",
    "    max_experiences = 5000\n",
    "    its =  300\n",
    "    bs = 64\n",
    "\n",
    "    def optimization_step():\n",
    "        batch = random.sample(experience_pool, min(len(experience_pool), bs))\n",
    "        # batch = experience_pool[-bs:]\n",
    "\n",
    "        model.optimizer.zero_grad()\n",
    "        loss = model.loss(batch)\n",
    "        loss.backward()\n",
    "        model.optimizer.step()\n",
    "\n",
    "        return loss.item()\n",
    "\n",
    "\n",
    "    tr = trange(its, bar_format='{bar}{desc}')\n",
    "    for i in tr:\n",
    "        episode = play_episode(env, model)\n",
    "        experience_pool.append(episode)\n",
    "\n",
    "        loss = optimization_step()\n",
    "        tr.set_description(\n",
    "            'it %i/%i | Loss: %.6f | EP Size: %i' % \n",
    "            (i + 1, its, loss, len(experience_pool))\n",
    "        )\n",
    "\n",
    "        if len(experience_pool) > max_experiences:\n",
    "            experience_pool = experience_pool[1:]"
   ]
  },
  {
   "cell_type": "code",
   "execution_count": null,
   "metadata": {
    "scrolled": true
   },
   "outputs": [
    {
     "data": {
      "application/vnd.jupyter.widget-view+json": {
       "model_id": "c635ff7a8d1e4d6baae4f63685ba2038",
       "version_major": 2,
       "version_minor": 0
      },
      "text/plain": [
       "HBox(children=(FloatProgress(value=0.0, max=300.0), HTML(value='')))"
      ]
     },
     "metadata": {},
     "output_type": "display_data"
    }
   ],
   "source": [
    "dqn_optimize(env, q_net)"
   ]
  },
  {
   "cell_type": "code",
   "execution_count": 270,
   "metadata": {},
   "outputs": [
    {
     "data": {
      "image/jpeg": "[encoded data removed]",
      "text/plain": [
       "<IPython.core.display.Image object>"
      ]
     },
     "metadata": {},
     "output_type": "display_data"
    },
    {
     "name": "stdout",
     "output_type": "stream",
     "text": [
      "stream interrupted\n"
     ]
    }
   ],
   "source": [
    "show_live_env(env, q_net_controller, fps=10)"
   ]
  },
  {
   "cell_type": "code",
   "execution_count": null,
   "metadata": {},
   "outputs": [],
   "source": []
  },
  {
   "cell_type": "code",
   "execution_count": null,
   "metadata": {},
   "outputs": [],
   "source": [
    "\n",
    "\n",
    "\n",
    "\n",
    "\n",
    "\n",
    "\n",
    "\n",
    "\n",
    "\n",
    "\n",
    "\n",
    "\n",
    "\n",
    "\n",
    "\n",
    "\n",
    "\n",
    "\n",
    "\n",
    "\n",
    "\n",
    "\n",
    "\n"
   ]
  },
  {
   "cell_type": "code",
   "execution_count": null,
   "metadata": {},
   "outputs": [],
   "source": []
  },
  {
   "cell_type": "code",
   "execution_count": null,
   "metadata": {},
   "outputs": [],
   "source": []
  },
  {
   "cell_type": "code",
   "execution_count": null,
   "metadata": {},
   "outputs": [],
   "source": []
  }
 ],
 "metadata": {
  "kernelspec": {
   "display_name": "Python 3.7.5 64-bit ('base': conda)",
   "language": "python",
   "name": "python37564bitbaseconda450f1bc47f8a4f9f9c4b21d2d568ed8a"
  },
  "language_info": {
   "codemirror_mode": {
    "name": "ipython",
    "version": 3
   },
   "file_extension": ".py",
   "mimetype": "text/x-python",
   "name": "python",
   "nbconvert_exporter": "python",
   "pygments_lexer": "ipython3",
   "version": "3.7.5"
  }
 },
 "nbformat": 4,
 "nbformat_minor": 2
}
