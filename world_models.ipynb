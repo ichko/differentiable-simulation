{
 "cells": [
  {
   "cell_type": "code",
   "execution_count": 1,
   "metadata": {},
   "outputs": [
    {
     "name": "stderr",
     "output_type": "stream",
     "text": [
      "/home/izpc/.local/lib/python3.7/site-packages/tensorflow/python/framework/dtypes.py:516: FutureWarning: Passing (type, 1) or '1type' as a synonym of type is deprecated; in a future version of numpy, it will be understood as (type, (1,)) / '(1,)type'.\n",
      "  _np_qint8 = np.dtype([(\"qint8\", np.int8, 1)])\n",
      "/home/izpc/.local/lib/python3.7/site-packages/tensorflow/python/framework/dtypes.py:517: FutureWarning: Passing (type, 1) or '1type' as a synonym of type is deprecated; in a future version of numpy, it will be understood as (type, (1,)) / '(1,)type'.\n",
      "  _np_quint8 = np.dtype([(\"quint8\", np.uint8, 1)])\n",
      "/home/izpc/.local/lib/python3.7/site-packages/tensorflow/python/framework/dtypes.py:518: FutureWarning: Passing (type, 1) or '1type' as a synonym of type is deprecated; in a future version of numpy, it will be understood as (type, (1,)) / '(1,)type'.\n",
      "  _np_qint16 = np.dtype([(\"qint16\", np.int16, 1)])\n",
      "/home/izpc/.local/lib/python3.7/site-packages/tensorflow/python/framework/dtypes.py:519: FutureWarning: Passing (type, 1) or '1type' as a synonym of type is deprecated; in a future version of numpy, it will be understood as (type, (1,)) / '(1,)type'.\n",
      "  _np_quint16 = np.dtype([(\"quint16\", np.uint16, 1)])\n",
      "/home/izpc/.local/lib/python3.7/site-packages/tensorflow/python/framework/dtypes.py:520: FutureWarning: Passing (type, 1) or '1type' as a synonym of type is deprecated; in a future version of numpy, it will be understood as (type, (1,)) / '(1,)type'.\n",
      "  _np_qint32 = np.dtype([(\"qint32\", np.int32, 1)])\n",
      "/home/izpc/.local/lib/python3.7/site-packages/tensorflow/python/framework/dtypes.py:525: FutureWarning: Passing (type, 1) or '1type' as a synonym of type is deprecated; in a future version of numpy, it will be understood as (type, (1,)) / '(1,)type'.\n",
      "  np_resource = np.dtype([(\"resource\", np.ubyte, 1)])\n",
      "/home/izpc/.local/lib/python3.7/site-packages/tensorboard/compat/tensorflow_stub/dtypes.py:541: FutureWarning: Passing (type, 1) or '1type' as a synonym of type is deprecated; in a future version of numpy, it will be understood as (type, (1,)) / '(1,)type'.\n",
      "  _np_qint8 = np.dtype([(\"qint8\", np.int8, 1)])\n",
      "/home/izpc/.local/lib/python3.7/site-packages/tensorboard/compat/tensorflow_stub/dtypes.py:542: FutureWarning: Passing (type, 1) or '1type' as a synonym of type is deprecated; in a future version of numpy, it will be understood as (type, (1,)) / '(1,)type'.\n",
      "  _np_quint8 = np.dtype([(\"quint8\", np.uint8, 1)])\n",
      "/home/izpc/.local/lib/python3.7/site-packages/tensorboard/compat/tensorflow_stub/dtypes.py:543: FutureWarning: Passing (type, 1) or '1type' as a synonym of type is deprecated; in a future version of numpy, it will be understood as (type, (1,)) / '(1,)type'.\n",
      "  _np_qint16 = np.dtype([(\"qint16\", np.int16, 1)])\n",
      "/home/izpc/.local/lib/python3.7/site-packages/tensorboard/compat/tensorflow_stub/dtypes.py:544: FutureWarning: Passing (type, 1) or '1type' as a synonym of type is deprecated; in a future version of numpy, it will be understood as (type, (1,)) / '(1,)type'.\n",
      "  _np_quint16 = np.dtype([(\"quint16\", np.uint16, 1)])\n",
      "/home/izpc/.local/lib/python3.7/site-packages/tensorboard/compat/tensorflow_stub/dtypes.py:545: FutureWarning: Passing (type, 1) or '1type' as a synonym of type is deprecated; in a future version of numpy, it will be understood as (type, (1,)) / '(1,)type'.\n",
      "  _np_qint32 = np.dtype([(\"qint32\", np.int32, 1)])\n",
      "/home/izpc/.local/lib/python3.7/site-packages/tensorboard/compat/tensorflow_stub/dtypes.py:550: FutureWarning: Passing (type, 1) or '1type' as a synonym of type is deprecated; in a future version of numpy, it will be understood as (type, (1,)) / '(1,)type'.\n",
      "  np_resource = np.dtype([(\"resource\", np.ubyte, 1)])\n"
     ]
    }
   ],
   "source": [
    "from time import sleep\n",
    "import math\n",
    "import random\n",
    "\n",
    "import tensorflow as tf\n",
    "import numpy as np\n",
    "import matplotlib.pyplot as plt\n",
    "from tqdm.auto import tqdm\n",
    "\n",
    "from pong.pong import games_generator\n",
    "from pong.renderer import Renderer\n",
    "\n",
    "from matplotlib import cm\n",
    "\n",
    "tf.enable_eager_execution()"
   ]
  },
  {
   "cell_type": "code",
   "execution_count": 2,
   "metadata": {},
   "outputs": [],
   "source": [
    "get_game = games_generator(40, 40, 256)"
   ]
  },
  {
   "cell_type": "code",
   "execution_count": 3,
   "metadata": {},
   "outputs": [],
   "source": [
    "_, (frame, _) = next(get_game)"
   ]
  },
  {
   "cell_type": "code",
   "execution_count": 4,
   "metadata": {},
   "outputs": [
    {
     "data": {
      "text/plain": [
       "(40, 40)"
      ]
     },
     "execution_count": 4,
     "metadata": {},
     "output_type": "execute_result"
    },
    {
     "data": {
      "image/png": "[encoded data removed]",
      "text/plain": [
       "<Figure size 360x360 with 1 Axes>"
      ]
     },
     "metadata": {
      "needs_background": "light"
     },
     "output_type": "display_data"
    }
   ],
   "source": [
    "plt.figure(figsize=(5, 5))\n",
    "plt.imshow(frame[120])\n",
    "frame[120].shape"
   ]
  },
  {
   "cell_type": "code",
   "execution_count": 5,
   "metadata": {},
   "outputs": [
    {
     "data": {
      "application/vnd.jupyter.widget-view+json": {
       "model_id": "1b2ac8d31c234c7aa4cf69611ff39e12",
       "version_major": 2,
       "version_minor": 0
      },
      "text/plain": [
       "HBox(children=(IntProgress(value=0, max=4000), HTML(value='')))"
      ]
     },
     "metadata": {},
     "output_type": "display_data"
    },
    {
     "name": "stdout",
     "output_type": "stream",
     "text": [
      "\n"
     ]
    },
    {
     "data": {
      "text/plain": [
       "((4000,), (4000, 256, 2), (4000, 256, 40, 40), (4000, 256))"
      ]
     },
     "execution_count": 5,
     "metadata": {},
     "output_type": "execute_result"
    }
   ],
   "source": [
    "directions = []\n",
    "controls = []\n",
    "frames = []\n",
    "done = []\n",
    "\n",
    "for _ in tqdm(range(4000)):\n",
    "    (d, c), (f, go) = next(get_game)\n",
    "    directions.append(d)\n",
    "    controls.append(c)\n",
    "    frames.append(f)\n",
    "    done.append(go)\n",
    "\n",
    "directions = np.array(directions)\n",
    "controls = np.array(controls)\n",
    "frames = np.array(frames)\n",
    "done = np.array(done)\n",
    "\n",
    "directions.shape, controls.shape, frames.shape, done.shape"
   ]
  },
  {
   "cell_type": "code",
   "execution_count": 6,
   "metadata": {},
   "outputs": [
    {
     "data": {
      "text/plain": [
       "(1024000, 40, 40)"
      ]
     },
     "execution_count": 6,
     "metadata": {},
     "output_type": "execute_result"
    }
   ],
   "source": [
    "only_frames = frames.reshape((-1, 40, 40))\n",
    "only_frames.shape"
   ]
  },
  {
   "cell_type": "code",
   "execution_count": 7,
   "metadata": {},
   "outputs": [
    {
     "data": {
      "text/plain": [
       "<matplotlib.image.AxesImage at 0x7ef8dfd96f50>"
      ]
     },
     "execution_count": 7,
     "metadata": {},
     "output_type": "execute_result"
    },
    {
     "data": {
      "image/png": "[encoded data removed]",
      "text/plain": [
       "<Figure size 360x360 with 1 Axes>"
      ]
     },
     "metadata": {
      "needs_background": "light"
     },
     "output_type": "display_data"
    }
   ],
   "source": [
    "plt.figure(figsize=(5, 5))\n",
    "plt.imshow(only_frames[98548])"
   ]
  },
  {
   "cell_type": "code",
   "execution_count": 8,
   "metadata": {},
   "outputs": [],
   "source": [
    "i = tf.keras.layers.Input((40, 40), name='input')\n",
    "e = i\n",
    "e = tf.keras.layers.Reshape((40, 40, 1))(e)\n",
    "e = tf.keras.layers.Conv2D(32, (4, 4), activation='relu', strides=2)(e)\n",
    "e = tf.keras.layers.Conv2D(64, (4, 4), activation='relu', strides=2)(e)\n",
    "e = tf.keras.layers.Conv2D(128, (4, 4), activation='relu', strides=2)(e)\n",
    "e = tf.keras.layers.Reshape((3 * 3 * 128,), name='flatten')(e)\n",
    "e = tf.keras.layers.Dense(32)(e)\n",
    "\n",
    "d = e\n",
    "d = tf.keras.layers.Dense(1024)(d)\n",
    "d = tf.keras.layers.Reshape((1, 1, 1024))(d)\n",
    "d = tf.keras.layers.Conv2DTranspose(128, (4, 4), activation='relu', strides=2)(d)\n",
    "d = tf.keras.layers.Conv2DTranspose(64, (5, 5), activation='relu', strides=1)(d)\n",
    "d = tf.keras.layers.Conv2DTranspose(32, (5, 5), activation='relu', strides=2)(d)\n",
    "d = tf.keras.layers.Conv2DTranspose(1, (4, 4), activation='relu', strides=2)(d)\n",
    "d = tf.keras.layers.Reshape((40, 40), name='frame')(d)\n",
    "\n",
    "net = tf.keras.Model(i, d)\n",
    "\n",
    "net.compile(\n",
    "    loss='mse',\n",
    "    optimizer='adam',\n",
    "    metrics=['mse', 'accuracy']\n",
    ")"
   ]
  },
  {
   "cell_type": "code",
   "execution_count": 9,
   "metadata": {},
   "outputs": [],
   "source": [
    "encoder = tf.keras.Model(i, e)"
   ]
  },
  {
   "cell_type": "code",
   "execution_count": 10,
   "metadata": {},
   "outputs": [],
   "source": [
    "decode_input = tf.keras.layers.Input((32,))\n",
    "out = decode_input\n",
    "for l in net.layers[7:]:\n",
    "    out = l(out)\n",
    "    \n",
    "decoder = tf.keras.Model(decode_input, out)"
   ]
  },
  {
   "cell_type": "code",
   "execution_count": 11,
   "metadata": {},
   "outputs": [
    {
     "name": "stdout",
     "output_type": "stream",
     "text": [
      "Model: \"model\"\n",
      "_________________________________________________________________\n",
      "Layer (type)                 Output Shape              Param #   \n",
      "=================================================================\n",
      "input (InputLayer)           [(None, 40, 40)]          0         \n",
      "_________________________________________________________________\n",
      "reshape (Reshape)            (None, 40, 40, 1)         0         \n",
      "_________________________________________________________________\n",
      "conv2d (Conv2D)              (None, 19, 19, 32)        544       \n",
      "_________________________________________________________________\n",
      "conv2d_1 (Conv2D)            (None, 8, 8, 64)          32832     \n",
      "_________________________________________________________________\n",
      "conv2d_2 (Conv2D)            (None, 3, 3, 128)         131200    \n",
      "_________________________________________________________________\n",
      "flatten (Reshape)            (None, 1152)              0         \n",
      "_________________________________________________________________\n",
      "dense (Dense)                (None, 32)                36896     \n",
      "_________________________________________________________________\n",
      "dense_1 (Dense)              (None, 1024)              33792     \n",
      "_________________________________________________________________\n",
      "reshape_1 (Reshape)          (None, 1, 1, 1024)        0         \n",
      "_________________________________________________________________\n",
      "conv2d_transpose (Conv2DTran (None, 4, 4, 128)         2097280   \n",
      "_________________________________________________________________\n",
      "conv2d_transpose_1 (Conv2DTr (None, 8, 8, 64)          204864    \n",
      "_________________________________________________________________\n",
      "conv2d_transpose_2 (Conv2DTr (None, 19, 19, 32)        51232     \n",
      "_________________________________________________________________\n",
      "conv2d_transpose_3 (Conv2DTr (None, 40, 40, 1)         513       \n",
      "_________________________________________________________________\n",
      "frame (Reshape)              (None, 40, 40)            0         \n",
      "=================================================================\n",
      "Total params: 2,589,153\n",
      "Trainable params: 2,589,153\n",
      "Non-trainable params: 0\n",
      "_________________________________________________________________\n"
     ]
    }
   ],
   "source": [
    "net.summary()"
   ]
  },
  {
   "cell_type": "code",
   "execution_count": 12,
   "metadata": {},
   "outputs": [
    {
     "name": "stdout",
     "output_type": "stream",
     "text": [
      "1024000/1024000 [==============================] - 109s 106us/sample - loss: 0.0018 - mean_squared_error: 0.0018 - acc: 0.4435\n"
     ]
    },
    {
     "data": {
      "text/plain": [
       "<tensorflow.python.keras.callbacks.History at 0x7efb3c1df990>"
      ]
     },
     "execution_count": 12,
     "metadata": {},
     "output_type": "execute_result"
    }
   ],
   "source": [
    "net.fit(\n",
    "    x=only_frames,\n",
    "    y=only_frames,\n",
    "    batch_size=128\n",
    ")"
   ]
  },
  {
   "cell_type": "code",
   "execution_count": 13,
   "metadata": {},
   "outputs": [
    {
     "data": {
      "text/plain": [
       "<matplotlib.image.AxesImage at 0x7efb047c7110>"
      ]
     },
     "execution_count": 13,
     "metadata": {},
     "output_type": "execute_result"
    },
    {
     "data": {
      "image/png": "[encoded data removed]",
      "text/plain": [
       "<Figure size 432x288 with 1 Axes>"
      ]
     },
     "metadata": {
      "needs_background": "light"
     },
     "output_type": "display_data"
    }
   ],
   "source": [
    "plt.imshow(only_frames[9000])"
   ]
  },
  {
   "cell_type": "code",
   "execution_count": 14,
   "metadata": {},
   "outputs": [
    {
     "data": {
      "text/plain": [
       "<matplotlib.image.AxesImage at 0x7efad4707250>"
      ]
     },
     "execution_count": 14,
     "metadata": {},
     "output_type": "execute_result"
    },
    {
     "data": {
      "image/png": "[encoded data removed]",
      "text/plain": [
       "<Figure size 432x288 with 1 Axes>"
      ]
     },
     "metadata": {
      "needs_background": "light"
     },
     "output_type": "display_data"
    }
   ],
   "source": [
    "pred_f = net.predict(only_frames[9000].reshape(1, 40, 40)).reshape(40, 40)\n",
    "plt.imshow(pred_f)"
   ]
  },
  {
   "cell_type": "code",
   "execution_count": 15,
   "metadata": {},
   "outputs": [
    {
     "data": {
      "application/vnd.jupyter.widget-view+json": {
       "model_id": "6218d7076baf4723a429f54203d8fcc1",
       "version_major": 2,
       "version_minor": 0
      },
      "text/plain": [
       "HBox(children=(IntProgress(value=0, max=4000), HTML(value='')))"
      ]
     },
     "metadata": {},
     "output_type": "display_data"
    },
    {
     "name": "stdout",
     "output_type": "stream",
     "text": [
      "\n"
     ]
    },
    {
     "data": {
      "text/plain": [
       "(4000, 256, 32)"
      ]
     },
     "execution_count": 15,
     "metadata": {},
     "output_type": "execute_result"
    }
   ],
   "source": [
    "encoded_frames = []\n",
    "for f in tqdm(frames):\n",
    "    encoded_frames.append(encoder.predict(f))\n",
    "        \n",
    "encoded_frames = np.array(encoded_frames)\n",
    "encoded_frames.shape"
   ]
  },
  {
   "cell_type": "code",
   "execution_count": 22,
   "metadata": {},
   "outputs": [],
   "source": [
    "class Memory:\n",
    "    def __init__(self, stateful=False):\n",
    "        bs = 1 if stateful else None\n",
    "\n",
    "        init_dir = tf.keras.Input((1,), batch_size=bs)\n",
    "        user_input = tf.keras.Input((None, 2), batch_size=bs)\n",
    "\n",
    "        self.dir_hidden = tf.keras.layers.Dense(256)\n",
    "        self.dir_cell_state = tf.keras.layers.Dense(256)\n",
    "        self.lstm_input = tf.keras.layers.Dense(32)\n",
    "\n",
    "        self.lstm = tf.keras.layers.GRU(\n",
    "            256,\n",
    "            return_sequences=True,\n",
    "            stateful=stateful,\n",
    "            name='lstm'\n",
    "        )\n",
    "\n",
    "        self.done_logits = tf.keras.layers.Dense(1)\n",
    "        self.frame_logits1 = tf.keras.layers.Dense(128)\n",
    "        self.frame_logits2 = tf.keras.layers.Dense(32)\n",
    "        \n",
    "        dh = self.dir_hidden(init_dir)\n",
    "        dcs = self.dir_cell_state(init_dir)\n",
    "        li = self.lstm_input(user_input)\n",
    "        l = self.lstm(li, initial_state=[dh])\n",
    "        dl = self.done_logits(l)\n",
    "        fl = self.frame_logits2(self.frame_logits1(l))\n",
    "\n",
    "        self.net = tf.keras.Model([init_dir, user_input], [fl, dl])\n",
    "        self.net.compile(\n",
    "            loss='mse',\n",
    "            optimizer='adam',\n",
    "            metrics=['mse']\n",
    "        )\n",
    "\n",
    "    def init(self, direction):\n",
    "        self.direction = direction\n",
    "        self.first_time = True\n",
    "\n",
    "    def step(self, user_input):\n",
    "        user_input = np.array([[user_input]])\n",
    "        user_input = tf.convert_to_tensor(user_input, dtype=tf.float32)\n",
    "\n",
    "        direction = np.array([[self.direction]])\n",
    "        direction = tf.convert_to_tensor(direction, dtype=tf.float32)\n",
    "\n",
    "        li = self.lstm_input(user_input)\n",
    "\n",
    "        if self.first_time:\n",
    "            self.first_time = False\n",
    "            dh = self.dir_hidden(direction)\n",
    "            dcs = self.dir_cell_state(direction)\n",
    "            l = self.lstm(li, initial_state=[dh])\n",
    "        else:\n",
    "            l = self.lstm(li)\n",
    "\n",
    "        dl = self.done_logits(l)\n",
    "        fl = self.frame_logits2(self.frame_logits1(l))\n",
    "\n",
    "        return fl[0].numpy(), dl[0].numpy()\n",
    "    \n",
    "    def copy_in_stateful_model(self):\n",
    "        stateful = Memory(stateful=True)\n",
    "        for nb, layer in enumerate(self.net.layers):\n",
    "            stateful.net.layers[nb].set_weights(layer.get_weights())\n",
    "        return stateful"
   ]
  },
  {
   "cell_type": "code",
   "execution_count": 23,
   "metadata": {},
   "outputs": [
    {
     "name": "stdout",
     "output_type": "stream",
     "text": [
      "Model: \"model_4\"\n",
      "__________________________________________________________________________________________________\n",
      "Layer (type)                    Output Shape         Param #     Connected to                     \n",
      "==================================================================================================\n",
      "input_7 (InputLayer)            [(None, None, 2)]    0                                            \n",
      "__________________________________________________________________________________________________\n",
      "input_6 (InputLayer)            [(None, 1)]          0                                            \n",
      "__________________________________________________________________________________________________\n",
      "dense_16 (Dense)                (None, None, 32)     96          input_7[0][0]                    \n",
      "__________________________________________________________________________________________________\n",
      "dense_14 (Dense)                (None, 256)          512         input_6[0][0]                    \n",
      "__________________________________________________________________________________________________\n",
      "lstm (GRU)                      (None, None, 256)    221952      dense_16[0][0]                   \n",
      "                                                                 dense_14[0][0]                   \n",
      "__________________________________________________________________________________________________\n",
      "dense_18 (Dense)                (None, None, 128)    32896       lstm[0][0]                       \n",
      "__________________________________________________________________________________________________\n",
      "dense_19 (Dense)                (None, None, 32)     4128        dense_18[0][0]                   \n",
      "__________________________________________________________________________________________________\n",
      "dense_17 (Dense)                (None, None, 1)      257         lstm[0][0]                       \n",
      "==================================================================================================\n",
      "Total params: 259,841\n",
      "Trainable params: 259,841\n",
      "Non-trainable params: 0\n",
      "__________________________________________________________________________________________________\n"
     ]
    }
   ],
   "source": [
    "memory = Memory()\n",
    "memory.net.summary()"
   ]
  },
  {
   "cell_type": "code",
   "execution_count": 27,
   "metadata": {
    "scrolled": false
   },
   "outputs": [
    {
     "name": "stdout",
     "output_type": "stream",
     "text": [
      "Epoch 1/25\n",
      "4000/4000 [==============================] - 30s 7ms/sample - loss: 1.1134 - dense_19_loss: 0.8837 - dense_17_loss: 0.2285 - dense_19_mean_squared_error: 0.8841 - dense_17_mean_squared_error: 0.2293\n",
      "Epoch 2/25\n",
      "4000/4000 [==============================] - 29s 7ms/sample - loss: 1.0064 - dense_19_loss: 0.8472 - dense_17_loss: 0.1564 - dense_19_mean_squared_error: 0.8487 - dense_17_mean_squared_error: 0.1578\n",
      "Epoch 3/25\n",
      "4000/4000 [==============================] - 28s 7ms/sample - loss: 0.9393 - dense_19_loss: 0.8172 - dense_17_loss: 0.1199 - dense_19_mean_squared_error: 0.8191 - dense_17_mean_squared_error: 0.1202\n",
      "Epoch 4/25\n",
      "4000/4000 [==============================] - 29s 7ms/sample - loss: 0.8693 - dense_19_loss: 0.7646 - dense_17_loss: 0.1041 - dense_19_mean_squared_error: 0.7648 - dense_17_mean_squared_error: 0.1045\n",
      "Epoch 5/25\n",
      "4000/4000 [==============================] - 29s 7ms/sample - loss: 0.7803 - dense_19_loss: 0.6892 - dense_17_loss: 0.0901 - dense_19_mean_squared_error: 0.6899 - dense_17_mean_squared_error: 0.0904\n",
      "Epoch 6/25\n",
      "4000/4000 [==============================] - 31s 8ms/sample - loss: 0.7012 - dense_19_loss: 0.6183 - dense_17_loss: 0.0807 - dense_19_mean_squared_error: 0.6203 - dense_17_mean_squared_error: 0.0809\n",
      "Epoch 7/25\n",
      "4000/4000 [==============================] - 32s 8ms/sample - loss: 0.6426 - dense_19_loss: 0.5653 - dense_17_loss: 0.0762 - dense_19_mean_squared_error: 0.5663 - dense_17_mean_squared_error: 0.0762\n",
      "Epoch 8/25\n",
      "4000/4000 [==============================] - 35s 9ms/sample - loss: 0.6096 - dense_19_loss: 0.5369 - dense_17_loss: 0.0722 - dense_19_mean_squared_error: 0.5372 - dense_17_mean_squared_error: 0.0724\n",
      "Epoch 9/25\n",
      "4000/4000 [==============================] - 31s 8ms/sample - loss: 0.5935 - dense_19_loss: 0.5242 - dense_17_loss: 0.0696 - dense_19_mean_squared_error: 0.5237 - dense_17_mean_squared_error: 0.0698\n",
      "Epoch 10/25\n",
      "4000/4000 [==============================] - 31s 8ms/sample - loss: 0.5806 - dense_19_loss: 0.5130 - dense_17_loss: 0.0681 - dense_19_mean_squared_error: 0.5126 - dense_17_mean_squared_error: 0.0680\n",
      "Epoch 11/25\n",
      "4000/4000 [==============================] - 29s 7ms/sample - loss: 0.5706 - dense_19_loss: 0.5022 - dense_17_loss: 0.0670 - dense_19_mean_squared_error: 0.5034 - dense_17_mean_squared_error: 0.0672\n",
      "Epoch 12/25\n",
      "4000/4000 [==============================] - 29s 7ms/sample - loss: 0.5516 - dense_19_loss: 0.4853 - dense_17_loss: 0.0643 - dense_19_mean_squared_error: 0.4871 - dense_17_mean_squared_error: 0.0645\n",
      "Epoch 13/25\n",
      "4000/4000 [==============================] - 29s 7ms/sample - loss: 0.5455 - dense_19_loss: 0.4815 - dense_17_loss: 0.0633 - dense_19_mean_squared_error: 0.4821 - dense_17_mean_squared_error: 0.0634\n",
      "Epoch 14/25\n",
      "4000/4000 [==============================] - 29s 7ms/sample - loss: 0.5335 - dense_19_loss: 0.4721 - dense_17_loss: 0.0599 - dense_19_mean_squared_error: 0.4735 - dense_17_mean_squared_error: 0.0601\n",
      "Epoch 15/25\n",
      "4000/4000 [==============================] - 28s 7ms/sample - loss: 0.5232 - dense_19_loss: 0.4643 - dense_17_loss: 0.0585 - dense_19_mean_squared_error: 0.4646 - dense_17_mean_squared_error: 0.0586\n",
      "Epoch 16/25\n",
      "4000/4000 [==============================] - 29s 7ms/sample - loss: 0.5167 - dense_19_loss: 0.4601 - dense_17_loss: 0.0573 - dense_19_mean_squared_error: 0.4595 - dense_17_mean_squared_error: 0.0571\n",
      "Epoch 17/25\n",
      "4000/4000 [==============================] - 29s 7ms/sample - loss: 0.5059 - dense_19_loss: 0.4492 - dense_17_loss: 0.0555 - dense_19_mean_squared_error: 0.4503 - dense_17_mean_squared_error: 0.0556\n",
      "Epoch 18/25\n",
      "4000/4000 [==============================] - 29s 7ms/sample - loss: 0.5005 - dense_19_loss: 0.4465 - dense_17_loss: 0.0542 - dense_19_mean_squared_error: 0.4462 - dense_17_mean_squared_error: 0.0543\n",
      "Epoch 19/25\n",
      "4000/4000 [==============================] - 28s 7ms/sample - loss: 0.4919 - dense_19_loss: 0.4389 - dense_17_loss: 0.0527 - dense_19_mean_squared_error: 0.4391 - dense_17_mean_squared_error: 0.0528\n",
      "Epoch 20/25\n",
      "4000/4000 [==============================] - 29s 7ms/sample - loss: 0.4807 - dense_19_loss: 0.4285 - dense_17_loss: 0.0511 - dense_19_mean_squared_error: 0.4294 - dense_17_mean_squared_error: 0.0513\n",
      "Epoch 21/25\n",
      "4000/4000 [==============================] - 28s 7ms/sample - loss: 0.4701 - dense_19_loss: 0.4202 - dense_17_loss: 0.0501 - dense_19_mean_squared_error: 0.4201 - dense_17_mean_squared_error: 0.0500\n",
      "Epoch 22/25\n",
      "4000/4000 [==============================] - 29s 7ms/sample - loss: 0.4637 - dense_19_loss: 0.4144 - dense_17_loss: 0.0492 - dense_19_mean_squared_error: 0.4147 - dense_17_mean_squared_error: 0.0491\n",
      "Epoch 23/25\n",
      "4000/4000 [==============================] - 29s 7ms/sample - loss: 0.4570 - dense_19_loss: 0.4098 - dense_17_loss: 0.0480 - dense_19_mean_squared_error: 0.4091 - dense_17_mean_squared_error: 0.0479\n",
      "Epoch 24/25\n",
      "4000/4000 [==============================] - 29s 7ms/sample - loss: 0.4482 - dense_19_loss: 0.4012 - dense_17_loss: 0.0467 - dense_19_mean_squared_error: 0.4015 - dense_17_mean_squared_error: 0.0467\n",
      "Epoch 25/25\n",
      "4000/4000 [==============================] - 29s 7ms/sample - loss: 0.4451 - dense_19_loss: 0.3983 - dense_17_loss: 0.0463 - dense_19_mean_squared_error: 0.3988 - dense_17_mean_squared_error: 0.0463\n"
     ]
    },
    {
     "data": {
      "text/plain": [
       "<tensorflow.python.keras.callbacks.History at 0x7efa151c9e50>"
      ]
     },
     "execution_count": 27,
     "metadata": {},
     "output_type": "execute_result"
    }
   ],
   "source": [
    "memory.net.fit(\n",
    "    x=[directions.reshape(-1, 1), controls[:, 1:]],\n",
    "    y=[encoded_frames[:, :-1], np.expand_dims(done[:, :-1], -1)],\n",
    "    batch_size=128,\n",
    "    epochs=25,\n",
    ")"
   ]
  },
  {
   "cell_type": "code",
   "execution_count": 28,
   "metadata": {
    "scrolled": false
   },
   "outputs": [
    {
     "data": {
      "image/png": "[encoded data removed]",
      "text/plain": [
       "<Figure size 432x288 with 1 Axes>"
      ]
     },
     "metadata": {
      "needs_background": "light"
     },
     "output_type": "display_data"
    },
    {
     "data": {
      "image/png": "[encoded data removed]",
      "text/plain": [
       "<Figure size 432x288 with 1 Axes>"
      ]
     },
     "metadata": {
      "needs_background": "light"
     },
     "output_type": "display_data"
    }
   ],
   "source": [
    "idx = 254\n",
    "game_id = 100\n",
    "plt.imshow(frames[game_id][idx])\n",
    "plt.show()\n",
    "\n",
    "pred_frames, pred_done = memory.net.predict([\n",
    "    directions.reshape(-1, 1)[game_id:game_id+1],\n",
    "    controls[:, 1:][game_id:game_id+1],\n",
    "    encoded_frames[:, 1:][game_id:game_id+1]\n",
    "])\n",
    "\n",
    "pred_frames[0][idx].reshape(1, -1).shape\n",
    "pred_image = decoder(pred_frames[0][idx].reshape(1, -1))[0]\n",
    "plt.imshow(pred_image)\n",
    "plt.show()"
   ]
  },
  {
   "cell_type": "code",
   "execution_count": 33,
   "metadata": {},
   "outputs": [
    {
     "ename": "KeyboardInterrupt",
     "evalue": "",
     "output_type": "error",
     "traceback": [
      "\u001b[0;31m---------------------------------------------------------------------------\u001b[0m",
      "\u001b[0;31mKeyboardInterrupt\u001b[0m                         Traceback (most recent call last)",
      "\u001b[0;32m<ipython-input-33-d13b50a79418>\u001b[0m in \u001b[0;36m<module>\u001b[0;34m\u001b[0m\n\u001b[1;32m     33\u001b[0m             \u001b[0mRenderer\u001b[0m\u001b[0;34m.\u001b[0m\u001b[0mshow_frame\u001b[0m\u001b[0;34m(\u001b[0m\u001b[0mcm\u001b[0m\u001b[0;34m.\u001b[0m\u001b[0mbwr\u001b[0m\u001b[0;34m(\u001b[0m\u001b[0;36m1\u001b[0m \u001b[0;34m-\u001b[0m \u001b[0mframe\u001b[0m\u001b[0;34m)\u001b[0m\u001b[0;34m)\u001b[0m\u001b[0;34m\u001b[0m\u001b[0;34m\u001b[0m\u001b[0m\n\u001b[1;32m     34\u001b[0m \u001b[0;34m\u001b[0m\u001b[0m\n\u001b[0;32m---> 35\u001b[0;31m \u001b[0mdemo\u001b[0m\u001b[0;34m(\u001b[0m\u001b[0;34m)\u001b[0m\u001b[0;34m\u001b[0m\u001b[0;34m\u001b[0m\u001b[0m\n\u001b[0m",
      "\u001b[0;32m<ipython-input-33-d13b50a79418>\u001b[0m in \u001b[0;36mdemo\u001b[0;34m()\u001b[0m\n\u001b[1;32m     15\u001b[0m         \u001b[0;32mwhile\u001b[0m \u001b[0mRenderer\u001b[0m\u001b[0;34m.\u001b[0m\u001b[0mcan_render\u001b[0m\u001b[0;34m(\u001b[0m\u001b[0;34m)\u001b[0m\u001b[0;34m:\u001b[0m\u001b[0;34m\u001b[0m\u001b[0;34m\u001b[0m\u001b[0m\n\u001b[1;32m     16\u001b[0m             \u001b[0mf\u001b[0m \u001b[0;34m+=\u001b[0m \u001b[0;36m1\u001b[0m\u001b[0;34m\u001b[0m\u001b[0;34m\u001b[0m\u001b[0m\n\u001b[0;32m---> 17\u001b[0;31m             \u001b[0msleep\u001b[0m\u001b[0;34m(\u001b[0m\u001b[0;36m1\u001b[0m \u001b[0;34m/\u001b[0m \u001b[0mFPS\u001b[0m\u001b[0;34m)\u001b[0m\u001b[0;34m\u001b[0m\u001b[0;34m\u001b[0m\u001b[0m\n\u001b[0m\u001b[1;32m     18\u001b[0m \u001b[0;34m\u001b[0m\u001b[0m\n\u001b[1;32m     19\u001b[0m             controls = [\n",
      "\u001b[0;31mKeyboardInterrupt\u001b[0m: "
     ]
    }
   ],
   "source": [
    "def demo():\n",
    "    stateful = memory.copy_in_stateful_model()\n",
    "    \n",
    "    while True:\n",
    "        stateful.init(random.uniform(0, 2 * math.pi))\n",
    "\n",
    "        def step(user_input):\n",
    "            pref_frame, done = stateful.step(user_input)\n",
    "            return decoder.predict(pref_frame)[0], done\n",
    "\n",
    "        FPS = 60\n",
    "        Renderer.init_window(500, 500)\n",
    "\n",
    "        f = 0\n",
    "        while Renderer.can_render():\n",
    "            f += 1\n",
    "            sleep(1 / FPS)\n",
    "\n",
    "            controls = [\n",
    "                math.copysign(1, math.sin(f / 16)),\n",
    "                math.copysign(1, math.sin(f / 20 + 1.2))\n",
    "            ]\n",
    "            frame, done = step([1, 1])\n",
    "            done = done[0][0]\n",
    "            frame = np.concatenate((\n",
    "                frame,\n",
    "                np.array([[done] * frame.shape[0]] * 3)\n",
    "            ), axis=0)\n",
    "\n",
    "            if done > 0.8:\n",
    "                break\n",
    "\n",
    "            Renderer.show_frame(cm.bwr(1 - frame))\n",
    "\n",
    "demo()"
   ]
  },
  {
   "cell_type": "code",
   "execution_count": null,
   "metadata": {},
   "outputs": [],
   "source": []
  }
 ],
 "metadata": {
  "kernelspec": {
   "display_name": "Python 3",
   "language": "python",
   "name": "python3"
  },
  "language_info": {
   "codemirror_mode": {
    "name": "ipython",
    "version": 3
   },
   "file_extension": ".py",
   "mimetype": "text/x-python",
   "name": "python",
   "nbconvert_exporter": "python",
   "pygments_lexer": "ipython3",
   "version": "3.7.4"
  }
 },
 "nbformat": 4,
 "nbformat_minor": 2
}
