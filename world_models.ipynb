{
 "cells": [
  {
   "cell_type": "code",
   "execution_count": 1,
   "metadata": {},
   "outputs": [
    {
     "name": "stderr",
     "output_type": "stream",
     "text": [
      "/home/izpc/.local/lib/python3.7/site-packages/tensorflow/python/framework/dtypes.py:516: FutureWarning: Passing (type, 1) or '1type' as a synonym of type is deprecated; in a future version of numpy, it will be understood as (type, (1,)) / '(1,)type'.\n",
      "  _np_qint8 = np.dtype([(\"qint8\", np.int8, 1)])\n",
      "/home/izpc/.local/lib/python3.7/site-packages/tensorflow/python/framework/dtypes.py:517: FutureWarning: Passing (type, 1) or '1type' as a synonym of type is deprecated; in a future version of numpy, it will be understood as (type, (1,)) / '(1,)type'.\n",
      "  _np_quint8 = np.dtype([(\"quint8\", np.uint8, 1)])\n",
      "/home/izpc/.local/lib/python3.7/site-packages/tensorflow/python/framework/dtypes.py:518: FutureWarning: Passing (type, 1) or '1type' as a synonym of type is deprecated; in a future version of numpy, it will be understood as (type, (1,)) / '(1,)type'.\n",
      "  _np_qint16 = np.dtype([(\"qint16\", np.int16, 1)])\n",
      "/home/izpc/.local/lib/python3.7/site-packages/tensorflow/python/framework/dtypes.py:519: FutureWarning: Passing (type, 1) or '1type' as a synonym of type is deprecated; in a future version of numpy, it will be understood as (type, (1,)) / '(1,)type'.\n",
      "  _np_quint16 = np.dtype([(\"quint16\", np.uint16, 1)])\n",
      "/home/izpc/.local/lib/python3.7/site-packages/tensorflow/python/framework/dtypes.py:520: FutureWarning: Passing (type, 1) or '1type' as a synonym of type is deprecated; in a future version of numpy, it will be understood as (type, (1,)) / '(1,)type'.\n",
      "  _np_qint32 = np.dtype([(\"qint32\", np.int32, 1)])\n",
      "/home/izpc/.local/lib/python3.7/site-packages/tensorflow/python/framework/dtypes.py:525: FutureWarning: Passing (type, 1) or '1type' as a synonym of type is deprecated; in a future version of numpy, it will be understood as (type, (1,)) / '(1,)type'.\n",
      "  np_resource = np.dtype([(\"resource\", np.ubyte, 1)])\n",
      "/home/izpc/.local/lib/python3.7/site-packages/tensorboard/compat/tensorflow_stub/dtypes.py:541: FutureWarning: Passing (type, 1) or '1type' as a synonym of type is deprecated; in a future version of numpy, it will be understood as (type, (1,)) / '(1,)type'.\n",
      "  _np_qint8 = np.dtype([(\"qint8\", np.int8, 1)])\n",
      "/home/izpc/.local/lib/python3.7/site-packages/tensorboard/compat/tensorflow_stub/dtypes.py:542: FutureWarning: Passing (type, 1) or '1type' as a synonym of type is deprecated; in a future version of numpy, it will be understood as (type, (1,)) / '(1,)type'.\n",
      "  _np_quint8 = np.dtype([(\"quint8\", np.uint8, 1)])\n",
      "/home/izpc/.local/lib/python3.7/site-packages/tensorboard/compat/tensorflow_stub/dtypes.py:543: FutureWarning: Passing (type, 1) or '1type' as a synonym of type is deprecated; in a future version of numpy, it will be understood as (type, (1,)) / '(1,)type'.\n",
      "  _np_qint16 = np.dtype([(\"qint16\", np.int16, 1)])\n",
      "/home/izpc/.local/lib/python3.7/site-packages/tensorboard/compat/tensorflow_stub/dtypes.py:544: FutureWarning: Passing (type, 1) or '1type' as a synonym of type is deprecated; in a future version of numpy, it will be understood as (type, (1,)) / '(1,)type'.\n",
      "  _np_quint16 = np.dtype([(\"quint16\", np.uint16, 1)])\n",
      "/home/izpc/.local/lib/python3.7/site-packages/tensorboard/compat/tensorflow_stub/dtypes.py:545: FutureWarning: Passing (type, 1) or '1type' as a synonym of type is deprecated; in a future version of numpy, it will be understood as (type, (1,)) / '(1,)type'.\n",
      "  _np_qint32 = np.dtype([(\"qint32\", np.int32, 1)])\n",
      "/home/izpc/.local/lib/python3.7/site-packages/tensorboard/compat/tensorflow_stub/dtypes.py:550: FutureWarning: Passing (type, 1) or '1type' as a synonym of type is deprecated; in a future version of numpy, it will be understood as (type, (1,)) / '(1,)type'.\n",
      "  np_resource = np.dtype([(\"resource\", np.ubyte, 1)])\n"
     ]
    }
   ],
   "source": [
    "import tensorflow as tf\n",
    "import numpy as np\n",
    "import matplotlib.pyplot as plt\n",
    "from tqdm.auto import tqdm\n",
    "\n",
    "from pong.pong import games_generator\n",
    "\n",
    "import pickle\n",
    "\n",
    "tf.enable_eager_execution()"
   ]
  },
  {
   "cell_type": "code",
   "execution_count": 2,
   "metadata": {},
   "outputs": [],
   "source": [
    "get_game = games_generator(40, 40, 256)"
   ]
  },
  {
   "cell_type": "code",
   "execution_count": 3,
   "metadata": {},
   "outputs": [],
   "source": [
    "_, (frame, _) = next(get_game)"
   ]
  },
  {
   "cell_type": "code",
   "execution_count": 4,
   "metadata": {},
   "outputs": [
    {
     "data": {
      "text/plain": [
       "(40, 40)"
      ]
     },
     "execution_count": 4,
     "metadata": {},
     "output_type": "execute_result"
    },
    {
     "data": {
      "image/png": "[encoded data removed]",
      "text/plain": [
       "<Figure size 360x360 with 1 Axes>"
      ]
     },
     "metadata": {
      "needs_background": "light"
     },
     "output_type": "display_data"
    }
   ],
   "source": [
    "plt.figure(figsize=(5, 5))\n",
    "plt.imshow(frame[120])\n",
    "frame[120].shape"
   ]
  },
  {
   "cell_type": "code",
   "execution_count": 5,
   "metadata": {},
   "outputs": [
    {
     "data": {
      "application/vnd.jupyter.widget-view+json": {
       "model_id": "c07a11313763494ab8f85f824f636278",
       "version_major": 2,
       "version_minor": 0
      },
      "text/plain": [
       "HBox(children=(IntProgress(value=0, max=3000), HTML(value='')))"
      ]
     },
     "metadata": {},
     "output_type": "display_data"
    },
    {
     "name": "stdout",
     "output_type": "stream",
     "text": [
      "\n"
     ]
    },
    {
     "data": {
      "text/plain": [
       "((3000,), (3000, 256, 2), (3000, 256, 40, 40), (3000, 256))"
      ]
     },
     "execution_count": 5,
     "metadata": {},
     "output_type": "execute_result"
    }
   ],
   "source": [
    "directions = []\n",
    "controls = []\n",
    "frames = []\n",
    "done = []\n",
    "\n",
    "for _ in tqdm(range(3000)):\n",
    "    (d, c), (f, go) = next(get_game)\n",
    "    directions.append(d)\n",
    "    controls.append(c)\n",
    "    frames.append(f)\n",
    "    done.append(go)\n",
    "\n",
    "directions = np.array(directions)\n",
    "controls = np.array(controls)\n",
    "frames = np.array(frames)\n",
    "done = np.array(done)\n",
    "\n",
    "directions.shape, controls.shape, frames.shape, done.shape"
   ]
  },
  {
   "cell_type": "code",
   "execution_count": 6,
   "metadata": {},
   "outputs": [
    {
     "data": {
      "text/plain": [
       "(768000, 40, 40)"
      ]
     },
     "execution_count": 6,
     "metadata": {},
     "output_type": "execute_result"
    }
   ],
   "source": [
    "only_frames = frames.reshape((-1, 40, 40))\n",
    "only_frames.shape"
   ]
  },
  {
   "cell_type": "code",
   "execution_count": 7,
   "metadata": {},
   "outputs": [
    {
     "data": {
      "text/plain": [
       "<matplotlib.image.AxesImage at 0x7efb6006bd10>"
      ]
     },
     "execution_count": 7,
     "metadata": {},
     "output_type": "execute_result"
    },
    {
     "data": {
      "image/png": "[encoded data removed]",
      "text/plain": [
       "<Figure size 360x360 with 1 Axes>"
      ]
     },
     "metadata": {
      "needs_background": "light"
     },
     "output_type": "display_data"
    }
   ],
   "source": [
    "plt.figure(figsize=(5, 5))\n",
    "plt.imshow(only_frames[120])"
   ]
  },
  {
   "cell_type": "code",
   "execution_count": 8,
   "metadata": {},
   "outputs": [],
   "source": [
    "i = tf.keras.layers.Input((40, 40), name='input')\n",
    "e = i\n",
    "e = tf.keras.layers.Reshape((40, 40, 1))(e)\n",
    "e = tf.keras.layers.Conv2D(32, (4, 4), activation='relu', strides=2)(e)\n",
    "e = tf.keras.layers.Conv2D(64, (4, 4), activation='relu', strides=2)(e)\n",
    "e = tf.keras.layers.Conv2D(128, (4, 4), activation='relu', strides=2)(e)\n",
    "e = tf.keras.layers.Reshape((3 * 3 * 128,), name='flatten')(e)\n",
    "e = tf.keras.layers.Dense(32)(e)\n",
    "\n",
    "d = e\n",
    "d = tf.keras.layers.Dense(1024)(d)\n",
    "d = tf.keras.layers.Reshape((1, 1, 1024))(d)\n",
    "d = tf.keras.layers.Conv2DTranspose(128, (4, 4), activation='relu', strides=2)(d)\n",
    "d = tf.keras.layers.Conv2DTranspose(64, (5, 5), activation='relu', strides=1)(d)\n",
    "d = tf.keras.layers.Conv2DTranspose(32, (5, 5), activation='relu', strides=2)(d)\n",
    "d = tf.keras.layers.Conv2DTranspose(1, (4, 4), activation='relu', strides=2)(d)\n",
    "d = tf.keras.layers.Reshape((40, 40), name='frame')(d)\n",
    "\n",
    "net = tf.keras.Model(i, d)\n",
    "\n",
    "net.compile(\n",
    "    loss='mse',\n",
    "    optimizer='adam',\n",
    "    metrics=['mse', 'accuracy']\n",
    ")"
   ]
  },
  {
   "cell_type": "code",
   "execution_count": 16,
   "metadata": {},
   "outputs": [],
   "source": [
    "encoder = tf.keras.Model(i, e)"
   ]
  },
  {
   "cell_type": "code",
   "execution_count": 123,
   "metadata": {},
   "outputs": [],
   "source": [
    "decode_input = tf.keras.layers.Input((32,))\n",
    "out = decode_input\n",
    "for l in net.layers[7:]:\n",
    "    out = l(out)\n",
    "    \n",
    "decoder = tf.keras.Model(decode_input, out)"
   ]
  },
  {
   "cell_type": "code",
   "execution_count": 9,
   "metadata": {},
   "outputs": [
    {
     "name": "stdout",
     "output_type": "stream",
     "text": [
      "Model: \"model\"\n",
      "_________________________________________________________________\n",
      "Layer (type)                 Output Shape              Param #   \n",
      "=================================================================\n",
      "input (InputLayer)           [(None, 40, 40)]          0         \n",
      "_________________________________________________________________\n",
      "reshape (Reshape)            (None, 40, 40, 1)         0         \n",
      "_________________________________________________________________\n",
      "conv2d (Conv2D)              (None, 19, 19, 32)        544       \n",
      "_________________________________________________________________\n",
      "conv2d_1 (Conv2D)            (None, 8, 8, 64)          32832     \n",
      "_________________________________________________________________\n",
      "conv2d_2 (Conv2D)            (None, 3, 3, 128)         131200    \n",
      "_________________________________________________________________\n",
      "flatten (Reshape)            (None, 1152)              0         \n",
      "_________________________________________________________________\n",
      "dense (Dense)                (None, 32)                36896     \n",
      "_________________________________________________________________\n",
      "dense_1 (Dense)              (None, 1024)              33792     \n",
      "_________________________________________________________________\n",
      "reshape_1 (Reshape)          (None, 1, 1, 1024)        0         \n",
      "_________________________________________________________________\n",
      "conv2d_transpose (Conv2DTran (None, 4, 4, 128)         2097280   \n",
      "_________________________________________________________________\n",
      "conv2d_transpose_1 (Conv2DTr (None, 8, 8, 64)          204864    \n",
      "_________________________________________________________________\n",
      "conv2d_transpose_2 (Conv2DTr (None, 19, 19, 32)        51232     \n",
      "_________________________________________________________________\n",
      "conv2d_transpose_3 (Conv2DTr (None, 40, 40, 1)         513       \n",
      "_________________________________________________________________\n",
      "frame (Reshape)              (None, 40, 40)            0         \n",
      "=================================================================\n",
      "Total params: 2,589,153\n",
      "Trainable params: 2,589,153\n",
      "Non-trainable params: 0\n",
      "_________________________________________________________________\n"
     ]
    }
   ],
   "source": [
    "net.summary()"
   ]
  },
  {
   "cell_type": "code",
   "execution_count": 10,
   "metadata": {},
   "outputs": [
    {
     "name": "stdout",
     "output_type": "stream",
     "text": [
      "768000/768000 [==============================] - 58s 75us/sample - loss: 0.0063 - mean_squared_error: 0.0063 - acc: 0.4591\n"
     ]
    },
    {
     "data": {
      "text/plain": [
       "<tensorflow.python.keras.callbacks.History at 0x7efb60dc3050>"
      ]
     },
     "execution_count": 10,
     "metadata": {},
     "output_type": "execute_result"
    }
   ],
   "source": [
    "net.fit(\n",
    "    x=only_frames,\n",
    "    y=only_frames,\n",
    "    batch_size=128\n",
    ")"
   ]
  },
  {
   "cell_type": "code",
   "execution_count": 11,
   "metadata": {},
   "outputs": [
    {
     "data": {
      "text/plain": [
       "<matplotlib.image.AxesImage at 0x7efaec7af6d0>"
      ]
     },
     "execution_count": 11,
     "metadata": {},
     "output_type": "execute_result"
    },
    {
     "data": {
      "image/png": "[encoded data removed]",
      "text/plain": [
       "<Figure size 432x288 with 1 Axes>"
      ]
     },
     "metadata": {
      "needs_background": "light"
     },
     "output_type": "display_data"
    }
   ],
   "source": [
    "plt.imshow(only_frames[3000])"
   ]
  },
  {
   "cell_type": "code",
   "execution_count": 15,
   "metadata": {},
   "outputs": [
    {
     "data": {
      "text/plain": [
       "<matplotlib.image.AxesImage at 0x7efaec492ed0>"
      ]
     },
     "execution_count": 15,
     "metadata": {},
     "output_type": "execute_result"
    },
    {
     "data": {
      "image/png": "[encoded data removed]",
      "text/plain": [
       "<Figure size 432x288 with 1 Axes>"
      ]
     },
     "metadata": {
      "needs_background": "light"
     },
     "output_type": "display_data"
    }
   ],
   "source": [
    "pred_f = net.predict(only_frames[3000].reshape(1, 40, 40)).reshape(40, 40)\n",
    "plt.imshow(pred_f)"
   ]
  },
  {
   "cell_type": "code",
   "execution_count": 26,
   "metadata": {},
   "outputs": [
    {
     "data": {
      "text/plain": [
       "(3000, 256, 32)"
      ]
     },
     "execution_count": 26,
     "metadata": {},
     "output_type": "execute_result"
    }
   ],
   "source": [
    "encoded_frames = []\n",
    "for f in tqdm(frames):\n",
    "    encoded_frames.append(encoder.predict(f))\n",
    "        \n",
    "encoded_frames = np.array(encoded_frames)\n",
    "encoded_frames.shape"
   ]
  },
  {
   "cell_type": "code",
   "execution_count": 52,
   "metadata": {},
   "outputs": [],
   "source": [
    "init_dir = tf.keras.Input((1,))\n",
    "dir_hidden = tf.keras.layers.Dense(256)(init_dir)\n",
    "dir_cell_state = tf.keras.layers.Dense(256)(init_dir)\n",
    "\n",
    "user_input = tf.keras.Input((None, 2))\n",
    "prev_frame = tf.keras.Input((None, 32))\n",
    "lstm_input = tf.keras.layers.Concatenate(axis=-1)([user_input, prev_frame])\n",
    "lstm_input = tf.keras.layers.Dense(64)(lstm_input)\n",
    "\n",
    "lstm = tf.keras.layers.LSTM(\n",
    "    256,\n",
    "    return_sequences=True\n",
    ")(lstm_input, initial_state=[dir_hidden, dir_cell_state])\n",
    "\n",
    "done_logits = tf.keras.layers.Dense(1)(lstm)\n",
    "dense = tf.keras.layers.Dense(128)(lstm)\n",
    "frame_logits = tf.keras.layers.Dense(32)(dense)\n",
    "\n",
    "memory_net = tf.keras.Model([init_dir, user_input, prev_frame], [frame_logits, done_logits])\n",
    "\n",
    "memory_net.compile(\n",
    "    loss='mse',\n",
    "    optimizer='adam',\n",
    "    metrics=['mse']\n",
    ")"
   ]
  },
  {
   "cell_type": "code",
   "execution_count": 54,
   "metadata": {},
   "outputs": [
    {
     "name": "stdout",
     "output_type": "stream",
     "text": [
      "Model: \"model_6\"\n",
      "__________________________________________________________________________________________________\n",
      "Layer (type)                    Output Shape         Param #     Connected to                     \n",
      "==================================================================================================\n",
      "input_62 (InputLayer)           [(None, None, 2)]    0                                            \n",
      "__________________________________________________________________________________________________\n",
      "input_63 (InputLayer)           [(None, None, 32)]   0                                            \n",
      "__________________________________________________________________________________________________\n",
      "concatenate_1 (Concatenate)     (None, None, 34)     0           input_62[0][0]                   \n",
      "                                                                 input_63[0][0]                   \n",
      "__________________________________________________________________________________________________\n",
      "input_61 (InputLayer)           [(None, 1)]          0                                            \n",
      "__________________________________________________________________________________________________\n",
      "dense_77 (Dense)                (None, None, 64)     2240        concatenate_1[0][0]              \n",
      "__________________________________________________________________________________________________\n",
      "dense_75 (Dense)                (None, 256)          512         input_61[0][0]                   \n",
      "__________________________________________________________________________________________________\n",
      "dense_76 (Dense)                (None, 256)          512         input_61[0][0]                   \n",
      "__________________________________________________________________________________________________\n",
      "lstm_17 (LSTM)                  (None, None, 256)    328704      dense_77[0][0]                   \n",
      "                                                                 dense_75[0][0]                   \n",
      "                                                                 dense_76[0][0]                   \n",
      "__________________________________________________________________________________________________\n",
      "dense_79 (Dense)                (None, None, 128)    32896       lstm_17[0][0]                    \n",
      "__________________________________________________________________________________________________\n",
      "dense_80 (Dense)                (None, None, 32)     4128        dense_79[0][0]                   \n",
      "__________________________________________________________________________________________________\n",
      "dense_78 (Dense)                (None, None, 1)      257         lstm_17[0][0]                    \n",
      "==================================================================================================\n",
      "Total params: 369,249\n",
      "Trainable params: 369,249\n",
      "Non-trainable params: 0\n",
      "__________________________________________________________________________________________________\n"
     ]
    }
   ],
   "source": [
    "memory_net.summary()"
   ]
  },
  {
   "cell_type": "code",
   "execution_count": 91,
   "metadata": {},
   "outputs": [
    {
     "name": "stdout",
     "output_type": "stream",
     "text": [
      "Epoch 1/10\n",
      "3000/3000 [==============================] - 22s 7ms/sample - loss: 0.1149 - dense_80_loss: 0.1022 - dense_78_loss: 0.0115 - dense_80_mean_squared_error: 0.1033 - dense_78_mean_squared_error: 0.0116\n",
      "Epoch 2/10\n",
      "3000/3000 [==============================] - 22s 7ms/sample - loss: 0.0477 - dense_80_loss: 0.0405 - dense_78_loss: 0.0069 - dense_80_mean_squared_error: 0.0407 - dense_78_mean_squared_error: 0.0070\n",
      "Epoch 3/10\n",
      "3000/3000 [==============================] - 23s 8ms/sample - loss: 0.0310 - dense_80_loss: 0.0257 - dense_78_loss: 0.0052 - dense_80_mean_squared_error: 0.0257 - dense_78_mean_squared_error: 0.0052\n",
      "Epoch 4/10\n",
      "3000/3000 [==============================] - 23s 8ms/sample - loss: 0.0241 - dense_80_loss: 0.0197 - dense_78_loss: 0.0043 - dense_80_mean_squared_error: 0.0198 - dense_78_mean_squared_error: 0.0043\n",
      "Epoch 5/10\n",
      "3000/3000 [==============================] - 22s 7ms/sample - loss: 0.0204 - dense_80_loss: 0.0166 - dense_78_loss: 0.0038 - dense_80_mean_squared_error: 0.0166 - dense_78_mean_squared_error: 0.0038\n",
      "Epoch 6/10\n",
      "3000/3000 [==============================] - 22s 7ms/sample - loss: 0.0181 - dense_80_loss: 0.0146 - dense_78_loss: 0.0035 - dense_80_mean_squared_error: 0.0146 - dense_78_mean_squared_error: 0.0035\n",
      "Epoch 7/10\n",
      "3000/3000 [==============================] - 22s 7ms/sample - loss: 0.0164 - dense_80_loss: 0.0132 - dense_78_loss: 0.0032 - dense_80_mean_squared_error: 0.0132 - dense_78_mean_squared_error: 0.0032\n",
      "Epoch 8/10\n",
      "3000/3000 [==============================] - 23s 8ms/sample - loss: 0.0151 - dense_80_loss: 0.0122 - dense_78_loss: 0.0029 - dense_80_mean_squared_error: 0.0122 - dense_78_mean_squared_error: 0.0029\n",
      "Epoch 9/10\n",
      "3000/3000 [==============================] - 22s 7ms/sample - loss: 0.0141 - dense_80_loss: 0.0114 - dense_78_loss: 0.0027 - dense_80_mean_squared_error: 0.0114 - dense_78_mean_squared_error: 0.0027\n",
      "Epoch 10/10\n",
      "3000/3000 [==============================] - 23s 8ms/sample - loss: 0.0135 - dense_80_loss: 0.0108 - dense_78_loss: 0.0028 - dense_80_mean_squared_error: 0.0108 - dense_78_mean_squared_error: 0.0028\n"
     ]
    },
    {
     "data": {
      "text/plain": [
       "<tensorflow.python.keras.callbacks.History at 0x7efaf4175a50>"
      ]
     },
     "execution_count": 91,
     "metadata": {},
     "output_type": "execute_result"
    }
   ],
   "source": [
    "memory_net.fit(\n",
    "    x=[directions.reshape(-1, 1), controls[:, 1:], encoded_frames[:, 1:]],\n",
    "    y=[encoded_frames[:, :-1], np.expand_dims(done[:, :-1], -1)],\n",
    "    batch_size=128,\n",
    "    epochs=10,\n",
    ")"
   ]
  },
  {
   "cell_type": "code",
   "execution_count": 176,
   "metadata": {},
   "outputs": [
    {
     "data": {
      "text/plain": [
       "<matplotlib.image.AxesImage at 0x7ef9dea35a10>"
      ]
     },
     "execution_count": 176,
     "metadata": {},
     "output_type": "execute_result"
    },
    {
     "data": {
      "image/png": "[encoded data removed]",
      "text/plain": [
       "<Figure size 432x288 with 1 Axes>"
      ]
     },
     "metadata": {
      "needs_background": "light"
     },
     "output_type": "display_data"
    }
   ],
   "source": [
    "idx = 254\n",
    "game_id = 3\n",
    "plt.imshow(frames[game_id][idx])"
   ]
  },
  {
   "cell_type": "code",
   "execution_count": 180,
   "metadata": {},
   "outputs": [],
   "source": [
    "pred_frames, pred_done = memory_net.predict(\n",
    "    x=[\n",
    "        directions.reshape(-1, 1)[game_id:game_id+1],\n",
    "        controls[:, 1:][game_id:game_id+1],\n",
    "        encoded_frames[:, 1:][game_id:game_id+1]\n",
    "    ]\n",
    ")"
   ]
  },
  {
   "cell_type": "code",
   "execution_count": 181,
   "metadata": {},
   "outputs": [
    {
     "data": {
      "text/plain": [
       "(1, 32)"
      ]
     },
     "execution_count": 181,
     "metadata": {},
     "output_type": "execute_result"
    }
   ],
   "source": [
    "pred_frames[0][idx].reshape(1, -1).shape"
   ]
  },
  {
   "cell_type": "code",
   "execution_count": 182,
   "metadata": {},
   "outputs": [],
   "source": [
    "pred_image = decoder.predict(pred_frames[0][idx].reshape(1, -1))[0]"
   ]
  },
  {
   "cell_type": "code",
   "execution_count": 183,
   "metadata": {},
   "outputs": [
    {
     "data": {
      "text/plain": [
       "<matplotlib.image.AxesImage at 0x7ef9de9bde10>"
      ]
     },
     "execution_count": 183,
     "metadata": {},
     "output_type": "execute_result"
    },
    {
     "data": {
      "image/png": "[encoded data removed]",
      "text/plain": [
       "<Figure size 432x288 with 1 Axes>"
      ]
     },
     "metadata": {
      "needs_background": "light"
     },
     "output_type": "display_data"
    }
   ],
   "source": [
    "plt.imshow(pred_image)"
   ]
  },
  {
   "cell_type": "code",
   "execution_count": null,
   "metadata": {},
   "outputs": [],
   "source": []
  }
 ],
 "metadata": {
  "kernelspec": {
   "display_name": "Python 3",
   "language": "python",
   "name": "python3"
  },
  "language_info": {
   "codemirror_mode": {
    "name": "ipython",
    "version": 3
   },
   "file_extension": ".py",
   "mimetype": "text/x-python",
   "name": "python",
   "nbconvert_exporter": "python",
   "pygments_lexer": "ipython3",
   "version": "3.7.4"
  }
 },
 "nbformat": 4,
 "nbformat_minor": 2
}
