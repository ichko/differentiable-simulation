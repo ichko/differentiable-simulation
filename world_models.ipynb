{
 "cells": [
  {
   "cell_type": "code",
   "execution_count": 1,
   "metadata": {},
   "outputs": [],
   "source": [
    "%load_ext autoreload\n",
    "%autoreload 2"
   ]
  },
  {
   "cell_type": "code",
   "execution_count": null,
   "metadata": {},
   "outputs": [],
   "source": [
    "import math\n",
    "import random\n",
    "\n",
    "import tensorflow as tf\n",
    "import numpy as np\n",
    "import matplotlib.pyplot as plt\n",
    "from tqdm.auto import tqdm\n",
    "import matplotlib as mpl\n",
    "\n",
    "from pong.pong import games_generator\n",
    "from pong.renderer import Renderer\n",
    "\n",
    "from matplotlib import cm\n",
    "\n",
    "tf.enable_eager_execution()"
   ]
  },
  {
   "cell_type": "code",
   "execution_count": 3,
   "metadata": {},
   "outputs": [],
   "source": [
    "get_game = games_generator(40, 40, 256)"
   ]
  },
  {
   "cell_type": "code",
   "execution_count": 4,
   "metadata": {},
   "outputs": [],
   "source": [
    "_, (frame, _) = next(get_game)"
   ]
  },
  {
   "cell_type": "code",
   "execution_count": 5,
   "metadata": {},
   "outputs": [
    {
     "data": {
      "text/plain": [
       "(40, 40)"
      ]
     },
     "execution_count": 5,
     "metadata": {},
     "output_type": "execute_result"
    },
    {
     "data": {
      "image/png": "[encoded data removed]",
      "text/plain": [
       "<Figure size 360x360 with 1 Axes>"
      ]
     },
     "metadata": {
      "needs_background": "light"
     },
     "output_type": "display_data"
    }
   ],
   "source": [
    "plt.figure(figsize=(5, 5))\n",
    "plt.imshow(frame[120])\n",
    "frame[120].shape"
   ]
  },
  {
   "cell_type": "code",
   "execution_count": 6,
   "metadata": {},
   "outputs": [
    {
     "data": {
      "application/vnd.jupyter.widget-view+json": {
       "model_id": "838780d3737d46a0b6709ed8090a425e",
       "version_major": 2,
       "version_minor": 0
      },
      "text/plain": [
       "HBox(children=(IntProgress(value=0, max=4000), HTML(value='')))"
      ]
     },
     "metadata": {},
     "output_type": "display_data"
    },
    {
     "name": "stdout",
     "output_type": "stream",
     "text": [
      "\n"
     ]
    },
    {
     "data": {
      "text/plain": [
       "((4000,), (4000, 256, 2), (4000, 256, 40, 40), (4000, 256))"
      ]
     },
     "execution_count": 6,
     "metadata": {},
     "output_type": "execute_result"
    }
   ],
   "source": [
    "directions = []\n",
    "controls = []\n",
    "frames = []\n",
    "done = []\n",
    "\n",
    "for _ in tqdm(range(4000)):\n",
    "    (d, c), (f, go) = next(get_game)\n",
    "    directions.append(d)\n",
    "    controls.append(c)\n",
    "    frames.append(f)\n",
    "    done.append(go)\n",
    "\n",
    "directions = np.array(directions)\n",
    "controls = np.array(controls)\n",
    "frames = np.array(frames)\n",
    "done = np.array(done)\n",
    "\n",
    "directions.shape, controls.shape, frames.shape, done.shape"
   ]
  },
  {
   "cell_type": "code",
   "execution_count": 7,
   "metadata": {},
   "outputs": [
    {
     "data": {
      "text/plain": [
       "(1024000, 40, 40)"
      ]
     },
     "execution_count": 7,
     "metadata": {},
     "output_type": "execute_result"
    }
   ],
   "source": [
    "only_frames = frames.reshape((-1, 40, 40))\n",
    "only_frames.shape"
   ]
  },
  {
   "cell_type": "code",
   "execution_count": 8,
   "metadata": {},
   "outputs": [
    {
     "data": {
      "text/plain": [
       "<matplotlib.image.AxesImage at 0x7ef88edd3290>"
      ]
     },
     "execution_count": 8,
     "metadata": {},
     "output_type": "execute_result"
    },
    {
     "data": {
      "image/png": "[encoded data removed]",
      "text/plain": [
       "<Figure size 360x360 with 1 Axes>"
      ]
     },
     "metadata": {
      "needs_background": "light"
     },
     "output_type": "display_data"
    }
   ],
   "source": [
    "plt.figure(figsize=(5, 5))\n",
    "plt.imshow(only_frames[98548])"
   ]
  },
  {
   "cell_type": "code",
   "execution_count": 9,
   "metadata": {},
   "outputs": [],
   "source": [
    "i = tf.keras.layers.Input((40, 40), name='input')\n",
    "e = i\n",
    "e = tf.keras.layers.Reshape((40, 40, 1))(e)\n",
    "e = tf.keras.layers.Conv2D(32, (4, 4), activation='relu', strides=2)(e)\n",
    "e = tf.keras.layers.Conv2D(64, (4, 4), activation='relu', strides=2)(e)\n",
    "e = tf.keras.layers.Conv2D(128, (4, 4), activation='relu', strides=2)(e)\n",
    "e = tf.keras.layers.Reshape((3 * 3 * 128,), name='flatten')(e)\n",
    "e = tf.keras.layers.Dense(32)(e)\n",
    "\n",
    "d = e\n",
    "d = tf.keras.layers.Dense(1024)(d)\n",
    "d = tf.keras.layers.Reshape((1, 1, 1024))(d)\n",
    "d = tf.keras.layers.Conv2DTranspose(128, (4, 4), activation='relu', strides=2)(d)\n",
    "d = tf.keras.layers.Conv2DTranspose(64, (5, 5), activation='relu', strides=1)(d)\n",
    "d = tf.keras.layers.Conv2DTranspose(32, (5, 5), activation='relu', strides=2)(d)\n",
    "d = tf.keras.layers.Conv2DTranspose(1, (4, 4), activation='relu', strides=2)(d)\n",
    "d = tf.keras.layers.Reshape((40, 40), name='frame')(d)\n",
    "\n",
    "net = tf.keras.Model(i, d)\n",
    "\n",
    "net.compile(\n",
    "    loss='mse',\n",
    "    optimizer='adam',\n",
    "    metrics=['mse', 'accuracy']\n",
    ")"
   ]
  },
  {
   "cell_type": "code",
   "execution_count": 10,
   "metadata": {},
   "outputs": [],
   "source": [
    "encoder = tf.keras.Model(i, e)"
   ]
  },
  {
   "cell_type": "code",
   "execution_count": 11,
   "metadata": {},
   "outputs": [],
   "source": [
    "decode_input = tf.keras.layers.Input((32,))\n",
    "out = decode_input\n",
    "for l in net.layers[7:]:\n",
    "    out = l(out)\n",
    "    \n",
    "decoder = tf.keras.Model(decode_input, out)"
   ]
  },
  {
   "cell_type": "code",
   "execution_count": 12,
   "metadata": {},
   "outputs": [
    {
     "name": "stdout",
     "output_type": "stream",
     "text": [
      "Model: \"model\"\n",
      "_________________________________________________________________\n",
      "Layer (type)                 Output Shape              Param #   \n",
      "=================================================================\n",
      "input (InputLayer)           [(None, 40, 40)]          0         \n",
      "_________________________________________________________________\n",
      "reshape (Reshape)            (None, 40, 40, 1)         0         \n",
      "_________________________________________________________________\n",
      "conv2d (Conv2D)              (None, 19, 19, 32)        544       \n",
      "_________________________________________________________________\n",
      "conv2d_1 (Conv2D)            (None, 8, 8, 64)          32832     \n",
      "_________________________________________________________________\n",
      "conv2d_2 (Conv2D)            (None, 3, 3, 128)         131200    \n",
      "_________________________________________________________________\n",
      "flatten (Reshape)            (None, 1152)              0         \n",
      "_________________________________________________________________\n",
      "dense (Dense)                (None, 32)                36896     \n",
      "_________________________________________________________________\n",
      "dense_1 (Dense)              (None, 1024)              33792     \n",
      "_________________________________________________________________\n",
      "reshape_1 (Reshape)          (None, 1, 1, 1024)        0         \n",
      "_________________________________________________________________\n",
      "conv2d_transpose (Conv2DTran (None, 4, 4, 128)         2097280   \n",
      "_________________________________________________________________\n",
      "conv2d_transpose_1 (Conv2DTr (None, 8, 8, 64)          204864    \n",
      "_________________________________________________________________\n",
      "conv2d_transpose_2 (Conv2DTr (None, 19, 19, 32)        51232     \n",
      "_________________________________________________________________\n",
      "conv2d_transpose_3 (Conv2DTr (None, 40, 40, 1)         513       \n",
      "_________________________________________________________________\n",
      "frame (Reshape)              (None, 40, 40)            0         \n",
      "=================================================================\n",
      "Total params: 2,589,153\n",
      "Trainable params: 2,589,153\n",
      "Non-trainable params: 0\n",
      "_________________________________________________________________\n"
     ]
    }
   ],
   "source": [
    "net.summary()"
   ]
  },
  {
   "cell_type": "code",
   "execution_count": 13,
   "metadata": {},
   "outputs": [
    {
     "name": "stdout",
     "output_type": "stream",
     "text": [
      "1024000/1024000 [==============================] - 85s 83us/sample - loss: 0.0017 - mean_squared_error: 0.0017 - acc: 0.4432\n"
     ]
    },
    {
     "data": {
      "text/plain": [
       "<tensorflow.python.keras.callbacks.History at 0x7ef92b52ebd0>"
      ]
     },
     "execution_count": 13,
     "metadata": {},
     "output_type": "execute_result"
    }
   ],
   "source": [
    "net.fit(\n",
    "    x=only_frames,\n",
    "    y=only_frames,\n",
    "    batch_size=128\n",
    ")"
   ]
  },
  {
   "cell_type": "code",
   "execution_count": 14,
   "metadata": {},
   "outputs": [
    {
     "data": {
      "text/plain": [
       "<matplotlib.image.AxesImage at 0x7efb20369c50>"
      ]
     },
     "execution_count": 14,
     "metadata": {},
     "output_type": "execute_result"
    },
    {
     "data": {
      "image/png": "[encoded data removed]",
      "text/plain": [
       "<Figure size 432x288 with 1 Axes>"
      ]
     },
     "metadata": {
      "needs_background": "light"
     },
     "output_type": "display_data"
    }
   ],
   "source": [
    "plt.imshow(only_frames[9000])"
   ]
  },
  {
   "cell_type": "code",
   "execution_count": 15,
   "metadata": {},
   "outputs": [
    {
     "data": {
      "text/plain": [
       "<matplotlib.image.AxesImage at 0x7efad86c60d0>"
      ]
     },
     "execution_count": 15,
     "metadata": {},
     "output_type": "execute_result"
    },
    {
     "data": {
      "image/png": "[encoded data removed]",
      "text/plain": [
       "<Figure size 432x288 with 1 Axes>"
      ]
     },
     "metadata": {
      "needs_background": "light"
     },
     "output_type": "display_data"
    }
   ],
   "source": [
    "pred_f = net.predict(only_frames[9000].reshape(1, 40, 40)).reshape(40, 40)\n",
    "plt.imshow(pred_f)"
   ]
  },
  {
   "cell_type": "code",
   "execution_count": 16,
   "metadata": {},
   "outputs": [
    {
     "data": {
      "application/vnd.jupyter.widget-view+json": {
       "model_id": "330d8a6ad7a64719bfa214faee9cefc8",
       "version_major": 2,
       "version_minor": 0
      },
      "text/plain": [
       "HBox(children=(IntProgress(value=0, max=4000), HTML(value='')))"
      ]
     },
     "metadata": {},
     "output_type": "display_data"
    },
    {
     "name": "stdout",
     "output_type": "stream",
     "text": [
      "\n"
     ]
    },
    {
     "data": {
      "text/plain": [
       "(4000, 256, 32)"
      ]
     },
     "execution_count": 16,
     "metadata": {},
     "output_type": "execute_result"
    }
   ],
   "source": [
    "encoded_frames = []\n",
    "for f in tqdm(frames):\n",
    "    encoded_frames.append(encoder.predict(f))\n",
    "        \n",
    "encoded_frames = np.array(encoded_frames)\n",
    "encoded_frames.shape"
   ]
  },
  {
   "cell_type": "code",
   "execution_count": 17,
   "metadata": {},
   "outputs": [],
   "source": [
    "class Memory:\n",
    "    def __init__(self, stateful=False):\n",
    "        bs = 1 if stateful else None\n",
    "\n",
    "        init_dir = tf.keras.Input((1,), batch_size=bs)\n",
    "        user_input = tf.keras.Input((None, 2), batch_size=bs)\n",
    "\n",
    "        self.dir_hidden = tf.keras.layers.Dense(256)\n",
    "        self.dir_cell_state = tf.keras.layers.Dense(256)\n",
    "        self.lstm_input = tf.keras.layers.Dense(32)\n",
    "\n",
    "        self.lstm = tf.keras.layers.GRU(\n",
    "            256,\n",
    "            return_sequences=True,\n",
    "            stateful=stateful,\n",
    "            name='lstm'\n",
    "        )\n",
    "\n",
    "        self.done_logits = tf.keras.layers.Dense(1)\n",
    "        self.frame_logits1 = tf.keras.layers.Dense(128)\n",
    "        self.frame_logits2 = tf.keras.layers.Dense(32)\n",
    "        \n",
    "        dh = self.dir_hidden(init_dir)\n",
    "        dcs = self.dir_cell_state(init_dir)\n",
    "        li = self.lstm_input(user_input)\n",
    "        l = self.lstm(li, initial_state=[dh])\n",
    "        dl = self.done_logits(l)\n",
    "        fl = self.frame_logits2(self.frame_logits1(l))\n",
    "\n",
    "        self.net = tf.keras.Model([init_dir, user_input], [fl, dl])\n",
    "        self.net.compile(\n",
    "            loss='mse',\n",
    "            optimizer='adam',\n",
    "            metrics=['mse']\n",
    "        )\n",
    "\n",
    "    def init(self, direction):\n",
    "        self.direction = direction\n",
    "        self.first_time = True\n",
    "\n",
    "    def step(self, user_input):\n",
    "        user_input = np.array([[user_input]])\n",
    "        user_input = tf.convert_to_tensor(user_input, dtype=tf.float32)\n",
    "\n",
    "        direction = np.array([[self.direction]])\n",
    "        direction = tf.convert_to_tensor(direction, dtype=tf.float32)\n",
    "\n",
    "        li = self.lstm_input(user_input)\n",
    "\n",
    "        if self.first_time:\n",
    "            self.first_time = False\n",
    "            dh = self.dir_hidden(direction)\n",
    "            dcs = self.dir_cell_state(direction)\n",
    "            l = self.lstm(li, initial_state=[dh])\n",
    "        else:\n",
    "            l = self.lstm(li)\n",
    "\n",
    "        dl = self.done_logits(l)\n",
    "        fl = self.frame_logits2(self.frame_logits1(l))\n",
    "\n",
    "        return fl[0].numpy(), dl[0].numpy()\n",
    "    \n",
    "    def copy_in_stateful_model(self):\n",
    "        stateful = Memory(stateful=True)\n",
    "        for nb, layer in enumerate(self.net.layers):\n",
    "            stateful.net.layers[nb].set_weights(layer.get_weights())\n",
    "        return stateful"
   ]
  },
  {
   "cell_type": "code",
   "execution_count": 18,
   "metadata": {},
   "outputs": [
    {
     "name": "stdout",
     "output_type": "stream",
     "text": [
      "Model: \"model_3\"\n",
      "__________________________________________________________________________________________________\n",
      "Layer (type)                    Output Shape         Param #     Connected to                     \n",
      "==================================================================================================\n",
      "input_3 (InputLayer)            [(None, None, 2)]    0                                            \n",
      "__________________________________________________________________________________________________\n",
      "input_2 (InputLayer)            [(None, 1)]          0                                            \n",
      "__________________________________________________________________________________________________\n",
      "dense_4 (Dense)                 (None, None, 32)     96          input_3[0][0]                    \n",
      "__________________________________________________________________________________________________\n",
      "dense_2 (Dense)                 (None, 256)          512         input_2[0][0]                    \n",
      "__________________________________________________________________________________________________\n",
      "lstm (GRU)                      (None, None, 256)    221952      dense_4[0][0]                    \n",
      "                                                                 dense_2[0][0]                    \n",
      "__________________________________________________________________________________________________\n",
      "dense_6 (Dense)                 (None, None, 128)    32896       lstm[0][0]                       \n",
      "__________________________________________________________________________________________________\n",
      "dense_7 (Dense)                 (None, None, 32)     4128        dense_6[0][0]                    \n",
      "__________________________________________________________________________________________________\n",
      "dense_5 (Dense)                 (None, None, 1)      257         lstm[0][0]                       \n",
      "==================================================================================================\n",
      "Total params: 259,841\n",
      "Trainable params: 259,841\n",
      "Non-trainable params: 0\n",
      "__________________________________________________________________________________________________\n"
     ]
    }
   ],
   "source": [
    "memory = Memory()\n",
    "memory.net.summary()"
   ]
  },
  {
   "cell_type": "code",
   "execution_count": null,
   "metadata": {
    "scrolled": false
   },
   "outputs": [
    {
     "name": "stdout",
     "output_type": "stream",
     "text": [
      "WARNING:tensorflow:From /home/izpc/.local/lib/python3.7/site-packages/tensorflow/python/ops/math_grad.py:1250: add_dispatch_support.<locals>.wrapper (from tensorflow.python.ops.array_ops) is deprecated and will be removed in a future version.\n",
      "Instructions for updating:\n",
      "Use tf.where in 2.0, which has the same broadcast rule as np.where\n",
      "Epoch 1/75\n",
      "1792/4000 [============>.................] - ETA: 16s - loss: 1.5759 - dense_7_loss: 1.2497 - dense_5_loss: 0.3262 - dense_7_mean_squared_error: 1.2497 - dense_5_mean_squared_error: 0.3262"
     ]
    }
   ],
   "source": [
    "memory.net.fit(\n",
    "    x=[directions.reshape(-1, 1), controls[:, 1:]],\n",
    "    y=[encoded_frames[:, :-1], np.expand_dims(done[:, :-1], -1)],\n",
    "    batch_size=128,\n",
    "    epochs=75,\n",
    ")"
   ]
  },
  {
   "cell_type": "code",
   "execution_count": null,
   "metadata": {
    "scrolled": false
   },
   "outputs": [],
   "source": [
    "idx = 254\n",
    "game_id = 100\n",
    "plt.imshow(frames[game_id][idx])\n",
    "plt.show()\n",
    "\n",
    "pred_frames, pred_done = memory.net.predict([\n",
    "    directions.reshape(-1, 1)[game_id:game_id+1],\n",
    "    controls[:, 1:][game_id:game_id+1],\n",
    "    encoded_frames[:, 1:][game_id:game_id+1]\n",
    "])\n",
    "\n",
    "pred_image = decoder(pred_frames[0][idx].reshape(1, -1))[0]\n",
    "plt.imshow(pred_image)\n",
    "plt.show()"
   ]
  },
  {
   "cell_type": "code",
   "execution_count": null,
   "metadata": {},
   "outputs": [],
   "source": [
    "def render_training_game():\n",
    "    Renderer.init_window(1000, 500)\n",
    "\n",
    "    for game_id in range(len(encoded_frames)):\n",
    "        latent_frames, _ = memory.net.predict([\n",
    "            directions.reshape(-1, 1)[game_id:game_id+1],\n",
    "            controls[:, 1:][game_id:game_id+1],\n",
    "            encoded_frames[:, 1:][game_id:game_id+1]\n",
    "        ])\n",
    "        pred_frames = decoder(latent_frames[0])\n",
    "        split_screens = np.concatenate(\n",
    "            (frames[game_id,1:], pred_frames), axis=2\n",
    "        )\n",
    "\n",
    "        n = mpl.colors.Normalize(vmin=0, vmax=1)\n",
    "        split_screens = n(split_screens)\n",
    "        split_screens = cm.bwr(1 - split_screens)\n",
    "\n",
    "        for frame in split_screens:\n",
    "            if not Renderer.can_render(): return\n",
    "            if Renderer.key_pressed('r'): break\n",
    "            Renderer.show_frame(frame)\n",
    "\n",
    "render_training_game()"
   ]
  },
  {
   "cell_type": "code",
   "execution_count": null,
   "metadata": {},
   "outputs": [],
   "source": [
    "def render_actual_game():\n",
    "    stateful = memory.copy_in_stateful_model()\n",
    "\n",
    "    while True:\n",
    "        stateful.init(random.uniform(0, 2 * math.pi))\n",
    "\n",
    "        def step(user_input):\n",
    "            pref_frame, done = stateful.step(user_input)\n",
    "            return decoder.predict(pref_frame)[0], done\n",
    "\n",
    "        FPS = 60\n",
    "        Renderer.init_window(500, 500)\n",
    "\n",
    "        f = 0\n",
    "        while True:\n",
    "            f += 1\n",
    "\n",
    "            controls = [\n",
    "                math.copysign(1, math.sin(f / 16)),\n",
    "                math.copysign(1, math.sin(f / 20 + 1.2))\n",
    "            ]\n",
    "            frame, done = step([1, 1])\n",
    "            done = done[0][0]\n",
    "            frame = np.concatenate((\n",
    "                frame,\n",
    "                np.array([[done] * frame.shape[0]] * 3)\n",
    "            ), axis=0)\n",
    "\n",
    "            if done > 0.8:\n",
    "                break\n",
    "\n",
    "            Renderer.show_frame(cm.bwr(1 - frame))\n",
    "\n",
    "render_actual_game()"
   ]
  },
  {
   "cell_type": "code",
   "execution_count": null,
   "metadata": {},
   "outputs": [],
   "source": []
  }
 ],
 "metadata": {
  "kernelspec": {
   "display_name": "Python 3",
   "language": "python",
   "name": "python3"
  },
  "language_info": {
   "codemirror_mode": {
    "name": "ipython",
    "version": 3
   },
   "file_extension": ".py",
   "mimetype": "text/x-python",
   "name": "python",
   "nbconvert_exporter": "python",
   "pygments_lexer": "ipython3",
   "version": "3.7.5"
  }
 },
 "nbformat": 4,
 "nbformat_minor": 2
}
