{
 "cells": [
  {
   "cell_type": "code",
   "execution_count": 1,
   "metadata": {},
   "outputs": [],
   "source": [
    "%load_ext autoreload\n",
    "%autoreload 2\n",
    "%load_ext tensorboard"
   ]
  },
  {
   "cell_type": "code",
   "execution_count": 2,
   "metadata": {},
   "outputs": [
    {
     "data": {
      "text/html": [
       "<style>.container { width: 90% !important; }</style>"
      ],
      "text/plain": [
       "<IPython.core.display.HTML object>"
      ]
     },
     "metadata": {},
     "output_type": "display_data"
    }
   ],
   "source": [
    "from IPython.core.display import display, HTML\n",
    "display(HTML(\"<style>.container { width: 90% !important; }</style>\"))"
   ]
  },
  {
   "cell_type": "code",
   "execution_count": 3,
   "metadata": {},
   "outputs": [],
   "source": [
    "import sys\n",
    "\n",
    "additional_paths = ['../']\n",
    "\n",
    "for path in additional_paths:\n",
    "    if path not in sys.path:\n",
    "        sys.path.append(path)"
   ]
  },
  {
   "cell_type": "code",
   "execution_count": 4,
   "metadata": {},
   "outputs": [
    {
     "data": {
      "text/plain": [
       "'2.0.0'"
      ]
     },
     "execution_count": 4,
     "metadata": {},
     "output_type": "execute_result"
    }
   ],
   "source": [
    "import utils.pong\n",
    "import utils.model\n",
    "import utils.visualization\n",
    "import utils.tensorflow\n",
    "\n",
    "import tensorflow as tf\n",
    "import numpy as np\n",
    "import matplotlib.pyplot as plt\n",
    "\n",
    "import sacred\n",
    "\n",
    "tf.__version__"
   ]
  },
  {
   "cell_type": "code",
   "execution_count": 5,
   "metadata": {},
   "outputs": [],
   "source": [
    "ex = sacred.Experiment(name='RNN Experiment', interactive=True)\n",
    "ex.observers.append(sacred.observers.MongoObserver())"
   ]
  },
  {
   "cell_type": "code",
   "execution_count": 6,
   "metadata": {},
   "outputs": [],
   "source": [
    "@ex.capture\n",
    "def make_dataset(bs, W, H, SEQ_LEN):\n",
    "    stateful_pong_generator = utils.pong.StatefulPongGenerator(W, H, SEQ_LEN)\n",
    "\n",
    "\n",
    "    def data_input():\n",
    "        for (d, c), (f, g) in stateful_pong_generator:\n",
    "            stateful_pong_generator.stochasticity = np.random.uniform(0, 1)\n",
    "            yield (np.array([np.sin(d), np.cos(d)]), c), f\n",
    "\n",
    "    return tf.data.Dataset.from_generator(\n",
    "        data_input,\n",
    "        output_types=((tf.float32, tf.float32), tf.float32),\n",
    "    ).take(8000).cache().repeat().batch(bs).prefetch(tf.data.experimental.AUTOTUNE)"
   ]
  },
  {
   "cell_type": "code",
   "execution_count": 7,
   "metadata": {},
   "outputs": [],
   "source": [
    "@ex.config\n",
    "def config():\n",
    "    SEQ_LEN = 256\n",
    "    W, H = 40, 40\n",
    "    internal_size = 32\n",
    "    batch_size = 128\n",
    "    steps_per_epoch = 128"
   ]
  },
  {
   "cell_type": "code",
   "execution_count": 8,
   "metadata": {},
   "outputs": [],
   "source": [
    "def on_batch_begin(model):\n",
    "    utils.visualization.plot_pairwise_frames(\n",
    "        sampler=lambda: list(make_dataset(1).take(1))[0],\n",
    "        hypotheses=lambda x: model.net.predict(x)[0]\n",
    "    )\n",
    "    \n",
    "    if 'loss' in model.net.history.history:\n",
    "        loss = model.net.history.history['loss']\n",
    "        ex.log_scalar('loss', loss)\n",
    "\n",
    "    pred_rollout_name = 'pred_rollout.png'\n",
    "    plt.savefig(pred_rollout_name)\n",
    "    ex.add_artifact(pred_rollout_name)"
   ]
  },
  {
   "cell_type": "code",
   "execution_count": 9,
   "metadata": {},
   "outputs": [],
   "source": [
    "@ex.main\n",
    "def main(\n",
    "    SEQ_LEN,\n",
    "    W, H,\n",
    "    internal_size,\n",
    "    batch_size,\n",
    "    steps_per_epoch,\n",
    "):\n",
    "    #### Model\n",
    "    model = utils.model.Model(internal_size=internal_size, W=W, H=H)\n",
    "    model.net.summary()\n",
    "    \n",
    "    model_img_name = 'model.png'\n",
    "    tf.keras.utils.plot_model(model.net, to_file=model_img_name, show_shapes=True, expand_nested=False, rankdir='LR', dpi=90)\n",
    "    ex.add_artifact(model_img_name)\n",
    "    \n",
    "    #### Callbacks\n",
    "    callbacks = [\n",
    "        utils.tensorflow.model_persistor(model),\n",
    "        utils.tensorflow.on_batch_begin(lambda: on_batch_begin(model)),\n",
    "        model.tb_callback\n",
    "    ]\n",
    "    \n",
    "    #### Training\n",
    "    input_generator = make_dataset(bs=batch_size)\n",
    "    model.net.fit_generator(\n",
    "        generator=input_generator,\n",
    "        validation_data=input_generator,\n",
    "        validation_steps=2,\n",
    "        steps_per_epoch=steps_per_epoch,\n",
    "        epochs=200,\n",
    "        callbacks=callbacks\n",
    "    )"
   ]
  },
  {
   "cell_type": "code",
   "execution_count": null,
   "metadata": {},
   "outputs": [
    {
     "name": "stderr",
     "output_type": "stream",
     "text": [
      "INFO - RNN Experiment - Running command 'main'\n",
      "INFO - RNN Experiment - Started run with ID \"17\"\n"
     ]
    },
    {
     "name": "stdout",
     "output_type": "stream",
     "text": [
      "Model: \"model\"\n",
      "__________________________________________________________________________________________________\n",
      "Layer (type)                    Output Shape         Param #     Connected to                     \n",
      "==================================================================================================\n",
      "game_init (InputLayer)          [(None, 2)]          0                                            \n",
      "__________________________________________________________________________________________________\n",
      "user_input (InputLayer)         [(None, None, 2)]    0                                            \n",
      "__________________________________________________________________________________________________\n",
      "project_activation (Dense)      (None, 32)           96          game_init[0][0]                  \n",
      "__________________________________________________________________________________________________\n",
      "gru (GRU)                       (None, None, 32)     3456        user_input[0][0]                 \n",
      "                                                                 project_activation[0][0]         \n",
      "__________________________________________________________________________________________________\n",
      "gru2 (GRU)                      (None, None, 32)     6336        gru[0][0]                        \n",
      "__________________________________________________________________________________________________\n",
      "frame_vector (Dense)            (None, None, 1600)   52800       gru2[0][0]                       \n",
      "__________________________________________________________________________________________________\n",
      "frame_matrix (Reshape)          (None, None, 40, 40) 0           frame_vector[0][0]               \n",
      "==================================================================================================\n",
      "Total params: 62,688\n",
      "Trainable params: 62,688\n",
      "Non-trainable params: 0\n",
      "__________________________________________________________________________________________________\n",
      "Added image/png as content-type of artifact /home/izpc/workspace/differentiable-simulation/experiments/model.png.\n",
      "Added image/png as content-type of artifact /home/izpc/workspace/differentiable-simulation/experiments/pred_rollout.png.\n",
      "Epoch 1/200\n",
      "128/128 [==============================] - 86s 672ms/step - loss: 0.1072 - mse: 0.0293 - val_loss: 0.1028 - val_mse: 0.0279\n",
      "Added image/png as content-type of artifact /home/izpc/workspace/differentiable-simulation/experiments/pred_rollout.png.\n",
      "Epoch 2/200\n",
      "128/128 [==============================] - 46s 357ms/step - loss: 0.1050 - mse: 0.0286 - val_loss: 0.1023 - val_mse: 0.0278\n",
      "Added image/png as content-type of artifact /home/izpc/workspace/differentiable-simulation/experiments/pred_rollout.png.\n",
      "Epoch 3/200\n",
      "128/128 [==============================] - 46s 359ms/step - loss: 0.1043 - mse: 0.0285 - val_loss: 0.1008 - val_mse: 0.0274\n",
      "Added image/png as content-type of artifact /home/izpc/workspace/differentiable-simulation/experiments/pred_rollout.png.\n",
      "Epoch 4/200\n",
      "128/128 [==============================] - 47s 365ms/step - loss: 0.1034 - mse: 0.0282 - val_loss: 0.1008 - val_mse: 0.0274\n",
      "Added image/png as content-type of artifact /home/izpc/workspace/differentiable-simulation/experiments/pred_rollout.png.\n",
      "Epoch 5/200\n",
      "128/128 [==============================] - 46s 358ms/step - loss: 0.1027 - mse: 0.0281 - val_loss: 0.1008 - val_mse: 0.0274\n",
      "Added image/png as content-type of artifact /home/izpc/workspace/differentiable-simulation/experiments/pred_rollout.png.\n",
      "Epoch 6/200\n",
      "128/128 [==============================] - 46s 358ms/step - loss: 0.1025 - mse: 0.0280 - val_loss: 0.1011 - val_mse: 0.0276\n",
      "Added image/png as content-type of artifact /home/izpc/workspace/differentiable-simulation/experiments/pred_rollout.png.\n",
      "Epoch 7/200\n",
      "119/128 [==========================>...] - ETA: 3s - loss: 0.1023 - mse: 0.0280"
     ]
    }
   ],
   "source": [
    "ex.run()"
   ]
  },
  {
   "cell_type": "code",
   "execution_count": null,
   "metadata": {},
   "outputs": [],
   "source": []
  },
  {
   "cell_type": "code",
   "execution_count": null,
   "metadata": {},
   "outputs": [],
   "source": []
  }
 ],
 "metadata": {
  "kernelspec": {
   "display_name": "Python 3",
   "language": "python",
   "name": "python3"
  },
  "language_info": {
   "codemirror_mode": {
    "name": "ipython",
    "version": 3
   },
   "file_extension": ".py",
   "mimetype": "text/x-python",
   "name": "python",
   "nbconvert_exporter": "python",
   "pygments_lexer": "ipython3",
   "version": "3.7.5"
  }
 },
 "nbformat": 4,
 "nbformat_minor": 2
}
