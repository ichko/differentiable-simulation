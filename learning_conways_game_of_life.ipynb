{
 "cells": [
  {
   "cell_type": "code",
   "execution_count": 1,
   "metadata": {},
   "outputs": [],
   "source": [
    "%load_ext autoreload\n",
    "%autoreload 2"
   ]
  },
  {
   "cell_type": "code",
   "execution_count": 2,
   "metadata": {},
   "outputs": [
    {
     "data": {
      "text/plain": [
       "'1.13.1'"
      ]
     },
     "execution_count": 2,
     "metadata": {},
     "output_type": "execute_result"
    }
   ],
   "source": [
    "from game_of_life import next_frame, random_state\n",
    "\n",
    "import numpy as np\n",
    "import tensorflow as tf\n",
    "import matplotlib.pyplot as plt\n",
    "\n",
    "tf.__version__"
   ]
  },
  {
   "cell_type": "code",
   "execution_count": 3,
   "metadata": {},
   "outputs": [],
   "source": [
    "class Input:\n",
    "    W, H = 30, 30\n",
    "\n",
    "    def generator(self):\n",
    "        state = random_state(self.W, self.H)\n",
    "        SEQ_LEN = 150\n",
    "        current_seq_idx = 0\n",
    "\n",
    "        while True:\n",
    "            current_seq_idx += 1\n",
    "            if current_seq_idx > SEQ_LEN:\n",
    "                current_seq_idx = 0\n",
    "                state = random_state(self.W, self.H)\n",
    "\n",
    "            inp = np.expand_dims(state, -1)\n",
    "            out = np.expand_dims(next_frame(state), -1)\n",
    "\n",
    "            yield inp, out\n",
    "\n",
    "    def as_dataset(self, batch_size):\n",
    "        shapes =(tf.TensorShape([self.W, self.H, 1]), tf.TensorShape([self.W, self.H, 1]))\n",
    "        dataset = tf.data.Dataset.from_generator(\n",
    "            self.generator,\n",
    "            (tf.int32,) * 2,\n",
    "            shapes\n",
    "        )\n",
    "\n",
    "        dataset = dataset.shuffle(1024).batch(batch_size).repeat()\n",
    "\n",
    "        return dataset"
   ]
  },
  {
   "cell_type": "code",
   "execution_count": 4,
   "metadata": {},
   "outputs": [
    {
     "name": "stdout",
     "output_type": "stream",
     "text": [
      "WARNING:tensorflow:From C:\\Users\\i4ko9\\Anaconda3\\lib\\site-packages\\tensorflow\\python\\data\\ops\\dataset_ops.py:429: py_func (from tensorflow.python.ops.script_ops) is deprecated and will be removed in a future version.\n",
      "Instructions for updating:\n",
      "tf.py_func is deprecated in TF V2. Instead, use\n",
      "    tf.py_function, which takes a python function which manipulates tf eager\n",
      "    tensors instead of numpy arrays. It's easy to convert a tf eager tensor to\n",
      "    an ndarray (just call tensor.numpy()) but having access to eager tensors\n",
      "    means `tf.py_function`s can use accelerators such as GPUs as well as\n",
      "    being differentiable using a gradient tape.\n",
      "    \n"
     ]
    },
    {
     "data": {
      "text/plain": [
       "<DatasetV1Adapter shapes: ((?, 30, 30, 1), (?, 30, 30, 1)), types: (tf.int32, tf.int32)>"
      ]
     },
     "execution_count": 4,
     "metadata": {},
     "output_type": "execute_result"
    }
   ],
   "source": [
    "Input().as_dataset(32)"
   ]
  },
  {
   "cell_type": "code",
   "execution_count": 184,
   "metadata": {},
   "outputs": [
    {
     "name": "stdout",
     "output_type": "stream",
     "text": [
      "_________________________________________________________________\n",
      "Layer (type)                 Output Shape              Param #   \n",
      "=================================================================\n",
      "input_22 (InputLayer)        (None, 30, 30, 1)         0         \n",
      "_________________________________________________________________\n",
      "conv2d_47 (Conv2D)           (None, 30, 30, 50)        500       \n",
      "_________________________________________________________________\n",
      "conv2d_48 (Conv2D)           (None, 30, 30, 20)        9020      \n",
      "_________________________________________________________________\n",
      "conv2d_49 (Conv2D)           (None, 30, 30, 1)         21        \n",
      "=================================================================\n",
      "Total params: 9,541\n",
      "Trainable params: 9,541\n",
      "Non-trainable params: 0\n",
      "_________________________________________________________________\n"
     ]
    }
   ],
   "source": [
    "def mk_model():\n",
    "    inp = tf.keras.layers.Input(shape=(Input.W, Input.H, 1))\n",
    "    x = inp\n",
    "    x = tf.keras.layers.Conv2D(50, kernel_size=3, activation='relu', padding='same')(x)\n",
    "    x = tf.keras.layers.Conv2D(20, kernel_size=3, activation='relu', padding='same')(x)\n",
    "    x = tf.keras.layers.Conv2D(1, kernel_size=1, activation='sigmoid', padding='same')(x)\n",
    "#     x = tf.keras.layers.Conv2D(50, kernel_size=5, activation='relu')(x)\n",
    "#     x = tf.keras.layers.Conv2DTranspose(50, kernel_size=5, activation='relu')(x)\n",
    "#     x = tf.keras.layers.Conv2DTranspose(10, kernel_size=3, activation='sigmoid')(x)\n",
    "#     x = tf.keras.layers.Conv2DTranspose(1, kernel_size=1, activation='sigmoid')(x)\n",
    "    model = tf.keras.Model(inp, x)\n",
    "    \n",
    "    model.compile(  \n",
    "        loss='binary_crossentropy',\n",
    "        optimizer='adam',\n",
    "        metrics=['accuracy']\n",
    "    )\n",
    "\n",
    "    return model\n",
    "\n",
    "\n",
    "model = mk_model()\n",
    "model.summary()"
   ]
  },
  {
   "cell_type": "code",
   "execution_count": 226,
   "metadata": {},
   "outputs": [
    {
     "name": "stdout",
     "output_type": "stream",
     "text": [
      "Epoch 1/5\n",
      "10/10 [==============================] - 43s 4s/step - loss: 39.8383 - acc: 0.9961\n",
      "Epoch 2/5\n",
      "10/10 [==============================] - 44s 4s/step - loss: 41.3165 - acc: 0.9965\n",
      "Epoch 3/5\n",
      "10/10 [==============================] - 42s 4s/step - loss: 38.7296 - acc: 0.9965\n",
      "Epoch 4/5\n",
      "10/10 [==============================] - 40s 4s/step - loss: 39.8495 - acc: 0.9973\n",
      "Epoch 5/5\n",
      "10/10 [==============================] - 41s 4s/step - loss: 39.1476 - acc: 0.9978\n"
     ]
    },
    {
     "data": {
      "text/plain": [
       "<tensorflow.python.keras.callbacks.History at 0x1b9c7f66cc0>"
      ]
     },
     "execution_count": 226,
     "metadata": {},
     "output_type": "execute_result"
    }
   ],
   "source": [
    "model.fit(\n",
    "    Input().as_dataset(512), steps_per_epoch=10,\n",
    "    epochs=5\n",
    ")"
   ]
  },
  {
   "cell_type": "code",
   "execution_count": 228,
   "metadata": {},
   "outputs": [],
   "source": [
    "inp = random_state(Input.W, Input.H)\n",
    "out = next_frame(inp)"
   ]
  },
  {
   "cell_type": "code",
   "execution_count": 229,
   "metadata": {},
   "outputs": [],
   "source": [
    "pred = np.squeeze(model.predict(inp.reshape((1, Input.W, Input.H, 1))))"
   ]
  },
  {
   "cell_type": "code",
   "execution_count": 230,
   "metadata": {},
   "outputs": [
    {
     "data": {
      "text/plain": [
       "<matplotlib.image.AxesImage at 0x1b9c7fc7898>"
      ]
     },
     "execution_count": 230,
     "metadata": {},
     "output_type": "execute_result"
    },
    {
     "data": {
      "image/png": "[encoded data removed]",
      "text/plain": [
       "<Figure size 432x288 with 1 Axes>"
      ]
     },
     "metadata": {
      "needs_background": "light"
     },
     "output_type": "display_data"
    }
   ],
   "source": [
    "# Expected\n",
    "plt.imshow(out)"
   ]
  },
  {
   "cell_type": "code",
   "execution_count": 231,
   "metadata": {},
   "outputs": [
    {
     "data": {
      "text/plain": [
       "<matplotlib.image.AxesImage at 0x1b9c8fe1eb8>"
      ]
     },
     "execution_count": 231,
     "metadata": {},
     "output_type": "execute_result"
    },
    {
     "data": {
      "image/png": "[encoded data removed]",
      "text/plain": [
       "<Figure size 432x288 with 1 Axes>"
      ]
     },
     "metadata": {
      "needs_background": "light"
     },
     "output_type": "display_data"
    }
   ],
   "source": [
    "# Actua\n",
    "plt.imshow(pred > 0.5)"
   ]
  },
  {
   "cell_type": "code",
   "execution_count": 232,
   "metadata": {},
   "outputs": [
    {
     "data": {
      "text/plain": [
       "<matplotlib.image.AxesImage at 0x1b9c9038b70>"
      ]
     },
     "execution_count": 232,
     "metadata": {},
     "output_type": "execute_result"
    },
    {
     "data": {
      "image/png": "[encoded data removed]",
      "text/plain": [
       "<Figure size 432x288 with 1 Axes>"
      ]
     },
     "metadata": {
      "needs_background": "light"
     },
     "output_type": "display_data"
    }
   ],
   "source": [
    "# Diff\n",
    "plt.imshow(pred - out)"
   ]
  },
  {
   "cell_type": "code",
   "execution_count": 233,
   "metadata": {},
   "outputs": [
    {
     "data": {
      "text/plain": [
       "<matplotlib.image.AxesImage at 0x1b9c90947f0>"
      ]
     },
     "execution_count": 233,
     "metadata": {},
     "output_type": "execute_result"
    },
    {
     "data": {
      "image/png": "[encoded data removed]",
      "text/plain": [
       "<Figure size 432x288 with 1 Axes>"
      ]
     },
     "metadata": {
      "needs_background": "light"
     },
     "output_type": "display_data"
    }
   ],
   "source": [
    "# Diff\n",
    "plt.imshow((pred > 0.5) - out)"
   ]
  },
  {
   "cell_type": "code",
   "execution_count": 234,
   "metadata": {},
   "outputs": [],
   "source": [
    "model.save(f'conway_{Input.W}x{Input.H}_small_error.h5')"
   ]
  },
  {
   "cell_type": "code",
   "execution_count": 218,
   "metadata": {},
   "outputs": [
    {
     "data": {
      "text/plain": [
       "<matplotlib.image.AxesImage at 0x1b9c6d50940>"
      ]
     },
     "execution_count": 218,
     "metadata": {},
     "output_type": "execute_result"
    },
    {
     "data": {
      "image/png": "[encoded data removed]",
      "text/plain": [
       "<Figure size 432x288 with 1 Axes>"
      ]
     },
     "metadata": {
      "needs_background": "light"
     },
     "output_type": "display_data"
    }
   ],
   "source": [
    "plt.imshow(np.squeeze(model.layers[1].get_weights()[0])[:,:,5])"
   ]
  },
  {
   "cell_type": "code",
   "execution_count": null,
   "metadata": {},
   "outputs": [],
   "source": []
  },
  {
   "cell_type": "code",
   "execution_count": null,
   "metadata": {},
   "outputs": [],
   "source": []
  }
 ],
 "metadata": {
  "kernelspec": {
   "display_name": "Python 3",
   "language": "python",
   "name": "python3"
  },
  "language_info": {
   "codemirror_mode": {
    "name": "ipython",
    "version": 3
   },
   "file_extension": ".py",
   "mimetype": "text/x-python",
   "name": "python",
   "nbconvert_exporter": "python",
   "pygments_lexer": "ipython3",
   "version": "3.7.1"
  }
 },
 "nbformat": 4,
 "nbformat_minor": 2
}
